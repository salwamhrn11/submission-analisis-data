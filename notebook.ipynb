{
  "cells": [
    {
      "cell_type": "markdown",
      "metadata": {},
      "source": [
        "## Proyek Analisis Data: E-commerce Public\n",
        "- Nama                : Salwa Maharani\n",
        "- Email               : salwamaharani920@gmail.com\n",
        "- ID Dicoding         : salwamhrn"
      ]
    },
    {
      "cell_type": "markdown",
      "metadata": {
        "id": "cjw_H5GYWYov"
      },
      "source": [
        "# Defining Business Questions\n",
        "\n",
        "1. How do customer locations (zip codes) affect order delivery times across different states?\n",
        "2. What is the relationship between payment methods and customer satisfaction as indicated by review scores?\n",
        "3. Which product categories generate the highest revenue and how does this correlate with the number of reviews?\n",
        "4. What are the top-selling product categories, and how can we optimize our product offerings?\n",
        "5. What is the distribution of customer orders by geographic location, and how can we improve delivery efficiency?"
      ]
    },
    {
      "cell_type": "markdown",
      "metadata": {
        "id": "mOH9jOHjWYpH"
      },
      "source": [
        "# 1. Data Wrangling"
      ]
    },
    {
      "cell_type": "markdown",
      "metadata": {
        "id": "AkiCupfGWYpJ"
      },
      "source": [
        "## 1.1 Gathering Data"
      ]
    },
    {
      "cell_type": "code",
      "execution_count": 2,
      "metadata": {
        "id": "IevP13grWYpL"
      },
      "outputs": [],
      "source": [
        "import pandas as pd\n",
        "import matplotlib.pyplot as plt\n",
        "import seaborn as sns\n",
        "\n",
        "# load datasets\n",
        "customers = pd.read_csv('data/customers_dataset.csv')\n",
        "geolocation = pd.read_csv('data/geolocation_dataset.csv')\n",
        "order_items = pd.read_csv('data/order_items_dataset.csv')\n",
        "order_payments = pd.read_csv('data/order_payments_dataset.csv')\n",
        "order_reviews = pd.read_csv('data/order_reviews_dataset.csv')\n",
        "orders = pd.read_csv('data/orders_dataset.csv')\n",
        "products = pd.read_csv('data/products_dataset.csv')\n",
        "sellers = pd.read_csv('data/sellers_dataset.csv')\n",
        "category = pd.read_csv('data/product_category_name_translation.csv')"
      ]
    },
    {
      "cell_type": "code",
      "execution_count": 3,
      "metadata": {
        "id": "5i5ZY0t6WYpR"
      },
      "outputs": [],
      "source": [
        "# store datasets in a dictionary\n",
        "data = {\n",
        "        'customers' : customers,\n",
        "        'geo' : geolocation,\n",
        "        'items' : order_items,\n",
        "        'payments' : order_payments,\n",
        "        'reviews' : order_reviews,\n",
        "        'orders' : orders,\n",
        "        'products' : products,\n",
        "        'sellers' : sellers,\n",
        "        'category' : category\n",
        "}"
      ]
    },
    {
      "cell_type": "code",
      "execution_count": 4,
      "metadata": {
        "id": "iWW1iCuSWYpT",
        "outputId": "e1e5a42a-ccaf-4ee8-e356-114ebdf0c966"
      },
      "outputs": [
        {
          "data": {
            "text/html": [
              "<div>\n",
              "<style scoped>\n",
              "    .dataframe tbody tr th:only-of-type {\n",
              "        vertical-align: middle;\n",
              "    }\n",
              "\n",
              "    .dataframe tbody tr th {\n",
              "        vertical-align: top;\n",
              "    }\n",
              "\n",
              "    .dataframe thead th {\n",
              "        text-align: right;\n",
              "    }\n",
              "</style>\n",
              "<table border=\"1\" class=\"dataframe\">\n",
              "  <thead>\n",
              "    <tr style=\"text-align: right;\">\n",
              "      <th></th>\n",
              "      <th>customer_id</th>\n",
              "      <th>customer_unique_id</th>\n",
              "      <th>customer_zip_code_prefix</th>\n",
              "      <th>customer_city</th>\n",
              "      <th>customer_state</th>\n",
              "    </tr>\n",
              "  </thead>\n",
              "  <tbody>\n",
              "    <tr>\n",
              "      <th>0</th>\n",
              "      <td>06b8999e2fba1a1fbc88172c00ba8bc7</td>\n",
              "      <td>861eff4711a542e4b93843c6dd7febb0</td>\n",
              "      <td>14409</td>\n",
              "      <td>franca</td>\n",
              "      <td>SP</td>\n",
              "    </tr>\n",
              "    <tr>\n",
              "      <th>1</th>\n",
              "      <td>18955e83d337fd6b2def6b18a428ac77</td>\n",
              "      <td>290c77bc529b7ac935b93aa66c333dc3</td>\n",
              "      <td>9790</td>\n",
              "      <td>sao bernardo do campo</td>\n",
              "      <td>SP</td>\n",
              "    </tr>\n",
              "    <tr>\n",
              "      <th>2</th>\n",
              "      <td>4e7b3e00288586ebd08712fdd0374a03</td>\n",
              "      <td>060e732b5b29e8181a18229c7b0b2b5e</td>\n",
              "      <td>1151</td>\n",
              "      <td>sao paulo</td>\n",
              "      <td>SP</td>\n",
              "    </tr>\n",
              "    <tr>\n",
              "      <th>3</th>\n",
              "      <td>b2b6027bc5c5109e529d4dc6358b12c3</td>\n",
              "      <td>259dac757896d24d7702b9acbbff3f3c</td>\n",
              "      <td>8775</td>\n",
              "      <td>mogi das cruzes</td>\n",
              "      <td>SP</td>\n",
              "    </tr>\n",
              "    <tr>\n",
              "      <th>4</th>\n",
              "      <td>4f2d8ab171c80ec8364f7c12e35b23ad</td>\n",
              "      <td>345ecd01c38d18a9036ed96c73b8d066</td>\n",
              "      <td>13056</td>\n",
              "      <td>campinas</td>\n",
              "      <td>SP</td>\n",
              "    </tr>\n",
              "  </tbody>\n",
              "</table>\n",
              "</div>"
            ],
            "text/plain": [
              "                        customer_id                customer_unique_id  \\\n",
              "0  06b8999e2fba1a1fbc88172c00ba8bc7  861eff4711a542e4b93843c6dd7febb0   \n",
              "1  18955e83d337fd6b2def6b18a428ac77  290c77bc529b7ac935b93aa66c333dc3   \n",
              "2  4e7b3e00288586ebd08712fdd0374a03  060e732b5b29e8181a18229c7b0b2b5e   \n",
              "3  b2b6027bc5c5109e529d4dc6358b12c3  259dac757896d24d7702b9acbbff3f3c   \n",
              "4  4f2d8ab171c80ec8364f7c12e35b23ad  345ecd01c38d18a9036ed96c73b8d066   \n",
              "\n",
              "   customer_zip_code_prefix          customer_city customer_state  \n",
              "0                     14409                 franca             SP  \n",
              "1                      9790  sao bernardo do campo             SP  \n",
              "2                      1151              sao paulo             SP  \n",
              "3                      8775        mogi das cruzes             SP  \n",
              "4                     13056               campinas             SP  "
            ]
          },
          "execution_count": 4,
          "metadata": {},
          "output_type": "execute_result"
        }
      ],
      "source": [
        "data['customers'].head()"
      ]
    },
    {
      "cell_type": "code",
      "execution_count": 5,
      "metadata": {
        "id": "DbXl69_YWYpY",
        "outputId": "64460782-770d-431f-b8b1-10492934ec33"
      },
      "outputs": [
        {
          "data": {
            "text/html": [
              "<div>\n",
              "<style scoped>\n",
              "    .dataframe tbody tr th:only-of-type {\n",
              "        vertical-align: middle;\n",
              "    }\n",
              "\n",
              "    .dataframe tbody tr th {\n",
              "        vertical-align: top;\n",
              "    }\n",
              "\n",
              "    .dataframe thead th {\n",
              "        text-align: right;\n",
              "    }\n",
              "</style>\n",
              "<table border=\"1\" class=\"dataframe\">\n",
              "  <thead>\n",
              "    <tr style=\"text-align: right;\">\n",
              "      <th></th>\n",
              "      <th>geolocation_zip_code_prefix</th>\n",
              "      <th>geolocation_lat</th>\n",
              "      <th>geolocation_lng</th>\n",
              "      <th>geolocation_city</th>\n",
              "      <th>geolocation_state</th>\n",
              "    </tr>\n",
              "  </thead>\n",
              "  <tbody>\n",
              "    <tr>\n",
              "      <th>0</th>\n",
              "      <td>1037</td>\n",
              "      <td>-23.545621</td>\n",
              "      <td>-46.639292</td>\n",
              "      <td>sao paulo</td>\n",
              "      <td>SP</td>\n",
              "    </tr>\n",
              "    <tr>\n",
              "      <th>1</th>\n",
              "      <td>1046</td>\n",
              "      <td>-23.546081</td>\n",
              "      <td>-46.644820</td>\n",
              "      <td>sao paulo</td>\n",
              "      <td>SP</td>\n",
              "    </tr>\n",
              "    <tr>\n",
              "      <th>2</th>\n",
              "      <td>1046</td>\n",
              "      <td>-23.546129</td>\n",
              "      <td>-46.642951</td>\n",
              "      <td>sao paulo</td>\n",
              "      <td>SP</td>\n",
              "    </tr>\n",
              "    <tr>\n",
              "      <th>3</th>\n",
              "      <td>1041</td>\n",
              "      <td>-23.544392</td>\n",
              "      <td>-46.639499</td>\n",
              "      <td>sao paulo</td>\n",
              "      <td>SP</td>\n",
              "    </tr>\n",
              "    <tr>\n",
              "      <th>4</th>\n",
              "      <td>1035</td>\n",
              "      <td>-23.541578</td>\n",
              "      <td>-46.641607</td>\n",
              "      <td>sao paulo</td>\n",
              "      <td>SP</td>\n",
              "    </tr>\n",
              "  </tbody>\n",
              "</table>\n",
              "</div>"
            ],
            "text/plain": [
              "   geolocation_zip_code_prefix  geolocation_lat  geolocation_lng  \\\n",
              "0                         1037       -23.545621       -46.639292   \n",
              "1                         1046       -23.546081       -46.644820   \n",
              "2                         1046       -23.546129       -46.642951   \n",
              "3                         1041       -23.544392       -46.639499   \n",
              "4                         1035       -23.541578       -46.641607   \n",
              "\n",
              "  geolocation_city geolocation_state  \n",
              "0        sao paulo                SP  \n",
              "1        sao paulo                SP  \n",
              "2        sao paulo                SP  \n",
              "3        sao paulo                SP  \n",
              "4        sao paulo                SP  "
            ]
          },
          "execution_count": 5,
          "metadata": {},
          "output_type": "execute_result"
        }
      ],
      "source": [
        "data['geo'].head()"
      ]
    },
    {
      "cell_type": "code",
      "execution_count": 6,
      "metadata": {
        "id": "NvKfwT0qWYpb",
        "outputId": "dc0b4157-5022-4187-925f-21914ec04acf"
      },
      "outputs": [
        {
          "data": {
            "text/html": [
              "<div>\n",
              "<style scoped>\n",
              "    .dataframe tbody tr th:only-of-type {\n",
              "        vertical-align: middle;\n",
              "    }\n",
              "\n",
              "    .dataframe tbody tr th {\n",
              "        vertical-align: top;\n",
              "    }\n",
              "\n",
              "    .dataframe thead th {\n",
              "        text-align: right;\n",
              "    }\n",
              "</style>\n",
              "<table border=\"1\" class=\"dataframe\">\n",
              "  <thead>\n",
              "    <tr style=\"text-align: right;\">\n",
              "      <th></th>\n",
              "      <th>order_id</th>\n",
              "      <th>order_item_id</th>\n",
              "      <th>product_id</th>\n",
              "      <th>seller_id</th>\n",
              "      <th>shipping_limit_date</th>\n",
              "      <th>price</th>\n",
              "      <th>freight_value</th>\n",
              "    </tr>\n",
              "  </thead>\n",
              "  <tbody>\n",
              "    <tr>\n",
              "      <th>0</th>\n",
              "      <td>00010242fe8c5a6d1ba2dd792cb16214</td>\n",
              "      <td>1</td>\n",
              "      <td>4244733e06e7ecb4970a6e2683c13e61</td>\n",
              "      <td>48436dade18ac8b2bce089ec2a041202</td>\n",
              "      <td>2017-09-19 09:45:35</td>\n",
              "      <td>58.90</td>\n",
              "      <td>13.29</td>\n",
              "    </tr>\n",
              "    <tr>\n",
              "      <th>1</th>\n",
              "      <td>00018f77f2f0320c557190d7a144bdd3</td>\n",
              "      <td>1</td>\n",
              "      <td>e5f2d52b802189ee658865ca93d83a8f</td>\n",
              "      <td>dd7ddc04e1b6c2c614352b383efe2d36</td>\n",
              "      <td>2017-05-03 11:05:13</td>\n",
              "      <td>239.90</td>\n",
              "      <td>19.93</td>\n",
              "    </tr>\n",
              "    <tr>\n",
              "      <th>2</th>\n",
              "      <td>000229ec398224ef6ca0657da4fc703e</td>\n",
              "      <td>1</td>\n",
              "      <td>c777355d18b72b67abbeef9df44fd0fd</td>\n",
              "      <td>5b51032eddd242adc84c38acab88f23d</td>\n",
              "      <td>2018-01-18 14:48:30</td>\n",
              "      <td>199.00</td>\n",
              "      <td>17.87</td>\n",
              "    </tr>\n",
              "    <tr>\n",
              "      <th>3</th>\n",
              "      <td>00024acbcdf0a6daa1e931b038114c75</td>\n",
              "      <td>1</td>\n",
              "      <td>7634da152a4610f1595efa32f14722fc</td>\n",
              "      <td>9d7a1d34a5052409006425275ba1c2b4</td>\n",
              "      <td>2018-08-15 10:10:18</td>\n",
              "      <td>12.99</td>\n",
              "      <td>12.79</td>\n",
              "    </tr>\n",
              "    <tr>\n",
              "      <th>4</th>\n",
              "      <td>00042b26cf59d7ce69dfabb4e55b4fd9</td>\n",
              "      <td>1</td>\n",
              "      <td>ac6c3623068f30de03045865e4e10089</td>\n",
              "      <td>df560393f3a51e74553ab94004ba5c87</td>\n",
              "      <td>2017-02-13 13:57:51</td>\n",
              "      <td>199.90</td>\n",
              "      <td>18.14</td>\n",
              "    </tr>\n",
              "  </tbody>\n",
              "</table>\n",
              "</div>"
            ],
            "text/plain": [
              "                           order_id  order_item_id  \\\n",
              "0  00010242fe8c5a6d1ba2dd792cb16214              1   \n",
              "1  00018f77f2f0320c557190d7a144bdd3              1   \n",
              "2  000229ec398224ef6ca0657da4fc703e              1   \n",
              "3  00024acbcdf0a6daa1e931b038114c75              1   \n",
              "4  00042b26cf59d7ce69dfabb4e55b4fd9              1   \n",
              "\n",
              "                         product_id                         seller_id  \\\n",
              "0  4244733e06e7ecb4970a6e2683c13e61  48436dade18ac8b2bce089ec2a041202   \n",
              "1  e5f2d52b802189ee658865ca93d83a8f  dd7ddc04e1b6c2c614352b383efe2d36   \n",
              "2  c777355d18b72b67abbeef9df44fd0fd  5b51032eddd242adc84c38acab88f23d   \n",
              "3  7634da152a4610f1595efa32f14722fc  9d7a1d34a5052409006425275ba1c2b4   \n",
              "4  ac6c3623068f30de03045865e4e10089  df560393f3a51e74553ab94004ba5c87   \n",
              "\n",
              "   shipping_limit_date   price  freight_value  \n",
              "0  2017-09-19 09:45:35   58.90          13.29  \n",
              "1  2017-05-03 11:05:13  239.90          19.93  \n",
              "2  2018-01-18 14:48:30  199.00          17.87  \n",
              "3  2018-08-15 10:10:18   12.99          12.79  \n",
              "4  2017-02-13 13:57:51  199.90          18.14  "
            ]
          },
          "execution_count": 6,
          "metadata": {},
          "output_type": "execute_result"
        }
      ],
      "source": [
        "data['items'].head()"
      ]
    },
    {
      "cell_type": "code",
      "execution_count": 7,
      "metadata": {
        "id": "aBDbDmeoWYpd",
        "outputId": "2a5b35df-f802-4cfe-c6cc-383f386af75b"
      },
      "outputs": [
        {
          "data": {
            "text/html": [
              "<div>\n",
              "<style scoped>\n",
              "    .dataframe tbody tr th:only-of-type {\n",
              "        vertical-align: middle;\n",
              "    }\n",
              "\n",
              "    .dataframe tbody tr th {\n",
              "        vertical-align: top;\n",
              "    }\n",
              "\n",
              "    .dataframe thead th {\n",
              "        text-align: right;\n",
              "    }\n",
              "</style>\n",
              "<table border=\"1\" class=\"dataframe\">\n",
              "  <thead>\n",
              "    <tr style=\"text-align: right;\">\n",
              "      <th></th>\n",
              "      <th>order_id</th>\n",
              "      <th>payment_sequential</th>\n",
              "      <th>payment_type</th>\n",
              "      <th>payment_installments</th>\n",
              "      <th>payment_value</th>\n",
              "    </tr>\n",
              "  </thead>\n",
              "  <tbody>\n",
              "    <tr>\n",
              "      <th>0</th>\n",
              "      <td>b81ef226f3fe1789b1e8b2acac839d17</td>\n",
              "      <td>1</td>\n",
              "      <td>credit_card</td>\n",
              "      <td>8</td>\n",
              "      <td>99.33</td>\n",
              "    </tr>\n",
              "    <tr>\n",
              "      <th>1</th>\n",
              "      <td>a9810da82917af2d9aefd1278f1dcfa0</td>\n",
              "      <td>1</td>\n",
              "      <td>credit_card</td>\n",
              "      <td>1</td>\n",
              "      <td>24.39</td>\n",
              "    </tr>\n",
              "    <tr>\n",
              "      <th>2</th>\n",
              "      <td>25e8ea4e93396b6fa0d3dd708e76c1bd</td>\n",
              "      <td>1</td>\n",
              "      <td>credit_card</td>\n",
              "      <td>1</td>\n",
              "      <td>65.71</td>\n",
              "    </tr>\n",
              "    <tr>\n",
              "      <th>3</th>\n",
              "      <td>ba78997921bbcdc1373bb41e913ab953</td>\n",
              "      <td>1</td>\n",
              "      <td>credit_card</td>\n",
              "      <td>8</td>\n",
              "      <td>107.78</td>\n",
              "    </tr>\n",
              "    <tr>\n",
              "      <th>4</th>\n",
              "      <td>42fdf880ba16b47b59251dd489d4441a</td>\n",
              "      <td>1</td>\n",
              "      <td>credit_card</td>\n",
              "      <td>2</td>\n",
              "      <td>128.45</td>\n",
              "    </tr>\n",
              "  </tbody>\n",
              "</table>\n",
              "</div>"
            ],
            "text/plain": [
              "                           order_id  payment_sequential payment_type  \\\n",
              "0  b81ef226f3fe1789b1e8b2acac839d17                   1  credit_card   \n",
              "1  a9810da82917af2d9aefd1278f1dcfa0                   1  credit_card   \n",
              "2  25e8ea4e93396b6fa0d3dd708e76c1bd                   1  credit_card   \n",
              "3  ba78997921bbcdc1373bb41e913ab953                   1  credit_card   \n",
              "4  42fdf880ba16b47b59251dd489d4441a                   1  credit_card   \n",
              "\n",
              "   payment_installments  payment_value  \n",
              "0                     8          99.33  \n",
              "1                     1          24.39  \n",
              "2                     1          65.71  \n",
              "3                     8         107.78  \n",
              "4                     2         128.45  "
            ]
          },
          "execution_count": 7,
          "metadata": {},
          "output_type": "execute_result"
        }
      ],
      "source": [
        "data['payments'].head()"
      ]
    },
    {
      "cell_type": "code",
      "execution_count": 8,
      "metadata": {
        "id": "wlF1hs1OWYpf",
        "outputId": "e495f10d-be57-4310-ad1b-9a56fa49be50"
      },
      "outputs": [
        {
          "data": {
            "text/html": [
              "<div>\n",
              "<style scoped>\n",
              "    .dataframe tbody tr th:only-of-type {\n",
              "        vertical-align: middle;\n",
              "    }\n",
              "\n",
              "    .dataframe tbody tr th {\n",
              "        vertical-align: top;\n",
              "    }\n",
              "\n",
              "    .dataframe thead th {\n",
              "        text-align: right;\n",
              "    }\n",
              "</style>\n",
              "<table border=\"1\" class=\"dataframe\">\n",
              "  <thead>\n",
              "    <tr style=\"text-align: right;\">\n",
              "      <th></th>\n",
              "      <th>review_id</th>\n",
              "      <th>order_id</th>\n",
              "      <th>review_score</th>\n",
              "      <th>review_comment_title</th>\n",
              "      <th>review_comment_message</th>\n",
              "      <th>review_creation_date</th>\n",
              "      <th>review_answer_timestamp</th>\n",
              "    </tr>\n",
              "  </thead>\n",
              "  <tbody>\n",
              "    <tr>\n",
              "      <th>0</th>\n",
              "      <td>7bc2406110b926393aa56f80a40eba40</td>\n",
              "      <td>73fc7af87114b39712e6da79b0a377eb</td>\n",
              "      <td>4</td>\n",
              "      <td>NaN</td>\n",
              "      <td>NaN</td>\n",
              "      <td>2018-01-18 00:00:00</td>\n",
              "      <td>2018-01-18 21:46:59</td>\n",
              "    </tr>\n",
              "    <tr>\n",
              "      <th>1</th>\n",
              "      <td>80e641a11e56f04c1ad469d5645fdfde</td>\n",
              "      <td>a548910a1c6147796b98fdf73dbeba33</td>\n",
              "      <td>5</td>\n",
              "      <td>NaN</td>\n",
              "      <td>NaN</td>\n",
              "      <td>2018-03-10 00:00:00</td>\n",
              "      <td>2018-03-11 03:05:13</td>\n",
              "    </tr>\n",
              "    <tr>\n",
              "      <th>2</th>\n",
              "      <td>228ce5500dc1d8e020d8d1322874b6f0</td>\n",
              "      <td>f9e4b658b201a9f2ecdecbb34bed034b</td>\n",
              "      <td>5</td>\n",
              "      <td>NaN</td>\n",
              "      <td>NaN</td>\n",
              "      <td>2018-02-17 00:00:00</td>\n",
              "      <td>2018-02-18 14:36:24</td>\n",
              "    </tr>\n",
              "    <tr>\n",
              "      <th>3</th>\n",
              "      <td>e64fb393e7b32834bb789ff8bb30750e</td>\n",
              "      <td>658677c97b385a9be170737859d3511b</td>\n",
              "      <td>5</td>\n",
              "      <td>NaN</td>\n",
              "      <td>Recebi bem antes do prazo estipulado.</td>\n",
              "      <td>2017-04-21 00:00:00</td>\n",
              "      <td>2017-04-21 22:02:06</td>\n",
              "    </tr>\n",
              "    <tr>\n",
              "      <th>4</th>\n",
              "      <td>f7c4243c7fe1938f181bec41a392bdeb</td>\n",
              "      <td>8e6bfb81e283fa7e4f11123a3fb894f1</td>\n",
              "      <td>5</td>\n",
              "      <td>NaN</td>\n",
              "      <td>Parabéns lojas lannister adorei comprar pela I...</td>\n",
              "      <td>2018-03-01 00:00:00</td>\n",
              "      <td>2018-03-02 10:26:53</td>\n",
              "    </tr>\n",
              "  </tbody>\n",
              "</table>\n",
              "</div>"
            ],
            "text/plain": [
              "                          review_id                          order_id  \\\n",
              "0  7bc2406110b926393aa56f80a40eba40  73fc7af87114b39712e6da79b0a377eb   \n",
              "1  80e641a11e56f04c1ad469d5645fdfde  a548910a1c6147796b98fdf73dbeba33   \n",
              "2  228ce5500dc1d8e020d8d1322874b6f0  f9e4b658b201a9f2ecdecbb34bed034b   \n",
              "3  e64fb393e7b32834bb789ff8bb30750e  658677c97b385a9be170737859d3511b   \n",
              "4  f7c4243c7fe1938f181bec41a392bdeb  8e6bfb81e283fa7e4f11123a3fb894f1   \n",
              "\n",
              "   review_score review_comment_title  \\\n",
              "0             4                  NaN   \n",
              "1             5                  NaN   \n",
              "2             5                  NaN   \n",
              "3             5                  NaN   \n",
              "4             5                  NaN   \n",
              "\n",
              "                              review_comment_message review_creation_date  \\\n",
              "0                                                NaN  2018-01-18 00:00:00   \n",
              "1                                                NaN  2018-03-10 00:00:00   \n",
              "2                                                NaN  2018-02-17 00:00:00   \n",
              "3              Recebi bem antes do prazo estipulado.  2017-04-21 00:00:00   \n",
              "4  Parabéns lojas lannister adorei comprar pela I...  2018-03-01 00:00:00   \n",
              "\n",
              "  review_answer_timestamp  \n",
              "0     2018-01-18 21:46:59  \n",
              "1     2018-03-11 03:05:13  \n",
              "2     2018-02-18 14:36:24  \n",
              "3     2017-04-21 22:02:06  \n",
              "4     2018-03-02 10:26:53  "
            ]
          },
          "execution_count": 8,
          "metadata": {},
          "output_type": "execute_result"
        }
      ],
      "source": [
        "data['reviews'].head()"
      ]
    },
    {
      "cell_type": "code",
      "execution_count": 9,
      "metadata": {
        "id": "4XFILHcNWYpg",
        "outputId": "ab83cd93-e777-4117-c182-dfe252639864"
      },
      "outputs": [
        {
          "data": {
            "text/html": [
              "<div>\n",
              "<style scoped>\n",
              "    .dataframe tbody tr th:only-of-type {\n",
              "        vertical-align: middle;\n",
              "    }\n",
              "\n",
              "    .dataframe tbody tr th {\n",
              "        vertical-align: top;\n",
              "    }\n",
              "\n",
              "    .dataframe thead th {\n",
              "        text-align: right;\n",
              "    }\n",
              "</style>\n",
              "<table border=\"1\" class=\"dataframe\">\n",
              "  <thead>\n",
              "    <tr style=\"text-align: right;\">\n",
              "      <th></th>\n",
              "      <th>order_id</th>\n",
              "      <th>customer_id</th>\n",
              "      <th>order_status</th>\n",
              "      <th>order_purchase_timestamp</th>\n",
              "      <th>order_approved_at</th>\n",
              "      <th>order_delivered_carrier_date</th>\n",
              "      <th>order_delivered_customer_date</th>\n",
              "      <th>order_estimated_delivery_date</th>\n",
              "    </tr>\n",
              "  </thead>\n",
              "  <tbody>\n",
              "    <tr>\n",
              "      <th>0</th>\n",
              "      <td>e481f51cbdc54678b7cc49136f2d6af7</td>\n",
              "      <td>9ef432eb6251297304e76186b10a928d</td>\n",
              "      <td>delivered</td>\n",
              "      <td>2017-10-02 10:56:33</td>\n",
              "      <td>2017-10-02 11:07:15</td>\n",
              "      <td>2017-10-04 19:55:00</td>\n",
              "      <td>2017-10-10 21:25:13</td>\n",
              "      <td>2017-10-18 00:00:00</td>\n",
              "    </tr>\n",
              "    <tr>\n",
              "      <th>1</th>\n",
              "      <td>53cdb2fc8bc7dce0b6741e2150273451</td>\n",
              "      <td>b0830fb4747a6c6d20dea0b8c802d7ef</td>\n",
              "      <td>delivered</td>\n",
              "      <td>2018-07-24 20:41:37</td>\n",
              "      <td>2018-07-26 03:24:27</td>\n",
              "      <td>2018-07-26 14:31:00</td>\n",
              "      <td>2018-08-07 15:27:45</td>\n",
              "      <td>2018-08-13 00:00:00</td>\n",
              "    </tr>\n",
              "    <tr>\n",
              "      <th>2</th>\n",
              "      <td>47770eb9100c2d0c44946d9cf07ec65d</td>\n",
              "      <td>41ce2a54c0b03bf3443c3d931a367089</td>\n",
              "      <td>delivered</td>\n",
              "      <td>2018-08-08 08:38:49</td>\n",
              "      <td>2018-08-08 08:55:23</td>\n",
              "      <td>2018-08-08 13:50:00</td>\n",
              "      <td>2018-08-17 18:06:29</td>\n",
              "      <td>2018-09-04 00:00:00</td>\n",
              "    </tr>\n",
              "    <tr>\n",
              "      <th>3</th>\n",
              "      <td>949d5b44dbf5de918fe9c16f97b45f8a</td>\n",
              "      <td>f88197465ea7920adcdbec7375364d82</td>\n",
              "      <td>delivered</td>\n",
              "      <td>2017-11-18 19:28:06</td>\n",
              "      <td>2017-11-18 19:45:59</td>\n",
              "      <td>2017-11-22 13:39:59</td>\n",
              "      <td>2017-12-02 00:28:42</td>\n",
              "      <td>2017-12-15 00:00:00</td>\n",
              "    </tr>\n",
              "    <tr>\n",
              "      <th>4</th>\n",
              "      <td>ad21c59c0840e6cb83a9ceb5573f8159</td>\n",
              "      <td>8ab97904e6daea8866dbdbc4fb7aad2c</td>\n",
              "      <td>delivered</td>\n",
              "      <td>2018-02-13 21:18:39</td>\n",
              "      <td>2018-02-13 22:20:29</td>\n",
              "      <td>2018-02-14 19:46:34</td>\n",
              "      <td>2018-02-16 18:17:02</td>\n",
              "      <td>2018-02-26 00:00:00</td>\n",
              "    </tr>\n",
              "  </tbody>\n",
              "</table>\n",
              "</div>"
            ],
            "text/plain": [
              "                           order_id                       customer_id  \\\n",
              "0  e481f51cbdc54678b7cc49136f2d6af7  9ef432eb6251297304e76186b10a928d   \n",
              "1  53cdb2fc8bc7dce0b6741e2150273451  b0830fb4747a6c6d20dea0b8c802d7ef   \n",
              "2  47770eb9100c2d0c44946d9cf07ec65d  41ce2a54c0b03bf3443c3d931a367089   \n",
              "3  949d5b44dbf5de918fe9c16f97b45f8a  f88197465ea7920adcdbec7375364d82   \n",
              "4  ad21c59c0840e6cb83a9ceb5573f8159  8ab97904e6daea8866dbdbc4fb7aad2c   \n",
              "\n",
              "  order_status order_purchase_timestamp    order_approved_at  \\\n",
              "0    delivered      2017-10-02 10:56:33  2017-10-02 11:07:15   \n",
              "1    delivered      2018-07-24 20:41:37  2018-07-26 03:24:27   \n",
              "2    delivered      2018-08-08 08:38:49  2018-08-08 08:55:23   \n",
              "3    delivered      2017-11-18 19:28:06  2017-11-18 19:45:59   \n",
              "4    delivered      2018-02-13 21:18:39  2018-02-13 22:20:29   \n",
              "\n",
              "  order_delivered_carrier_date order_delivered_customer_date  \\\n",
              "0          2017-10-04 19:55:00           2017-10-10 21:25:13   \n",
              "1          2018-07-26 14:31:00           2018-08-07 15:27:45   \n",
              "2          2018-08-08 13:50:00           2018-08-17 18:06:29   \n",
              "3          2017-11-22 13:39:59           2017-12-02 00:28:42   \n",
              "4          2018-02-14 19:46:34           2018-02-16 18:17:02   \n",
              "\n",
              "  order_estimated_delivery_date  \n",
              "0           2017-10-18 00:00:00  \n",
              "1           2018-08-13 00:00:00  \n",
              "2           2018-09-04 00:00:00  \n",
              "3           2017-12-15 00:00:00  \n",
              "4           2018-02-26 00:00:00  "
            ]
          },
          "execution_count": 9,
          "metadata": {},
          "output_type": "execute_result"
        }
      ],
      "source": [
        "data['orders'].head()"
      ]
    },
    {
      "cell_type": "code",
      "execution_count": 10,
      "metadata": {
        "id": "sJFXUgRsWYpi",
        "outputId": "908c9a64-b114-469d-b3b5-5f251b162ae0"
      },
      "outputs": [
        {
          "data": {
            "text/html": [
              "<div>\n",
              "<style scoped>\n",
              "    .dataframe tbody tr th:only-of-type {\n",
              "        vertical-align: middle;\n",
              "    }\n",
              "\n",
              "    .dataframe tbody tr th {\n",
              "        vertical-align: top;\n",
              "    }\n",
              "\n",
              "    .dataframe thead th {\n",
              "        text-align: right;\n",
              "    }\n",
              "</style>\n",
              "<table border=\"1\" class=\"dataframe\">\n",
              "  <thead>\n",
              "    <tr style=\"text-align: right;\">\n",
              "      <th></th>\n",
              "      <th>product_id</th>\n",
              "      <th>product_category_name</th>\n",
              "      <th>product_name_lenght</th>\n",
              "      <th>product_description_lenght</th>\n",
              "      <th>product_photos_qty</th>\n",
              "      <th>product_weight_g</th>\n",
              "      <th>product_length_cm</th>\n",
              "      <th>product_height_cm</th>\n",
              "      <th>product_width_cm</th>\n",
              "    </tr>\n",
              "  </thead>\n",
              "  <tbody>\n",
              "    <tr>\n",
              "      <th>0</th>\n",
              "      <td>1e9e8ef04dbcff4541ed26657ea517e5</td>\n",
              "      <td>perfumaria</td>\n",
              "      <td>40.0</td>\n",
              "      <td>287.0</td>\n",
              "      <td>1.0</td>\n",
              "      <td>225.0</td>\n",
              "      <td>16.0</td>\n",
              "      <td>10.0</td>\n",
              "      <td>14.0</td>\n",
              "    </tr>\n",
              "    <tr>\n",
              "      <th>1</th>\n",
              "      <td>3aa071139cb16b67ca9e5dea641aaa2f</td>\n",
              "      <td>artes</td>\n",
              "      <td>44.0</td>\n",
              "      <td>276.0</td>\n",
              "      <td>1.0</td>\n",
              "      <td>1000.0</td>\n",
              "      <td>30.0</td>\n",
              "      <td>18.0</td>\n",
              "      <td>20.0</td>\n",
              "    </tr>\n",
              "    <tr>\n",
              "      <th>2</th>\n",
              "      <td>96bd76ec8810374ed1b65e291975717f</td>\n",
              "      <td>esporte_lazer</td>\n",
              "      <td>46.0</td>\n",
              "      <td>250.0</td>\n",
              "      <td>1.0</td>\n",
              "      <td>154.0</td>\n",
              "      <td>18.0</td>\n",
              "      <td>9.0</td>\n",
              "      <td>15.0</td>\n",
              "    </tr>\n",
              "    <tr>\n",
              "      <th>3</th>\n",
              "      <td>cef67bcfe19066a932b7673e239eb23d</td>\n",
              "      <td>bebes</td>\n",
              "      <td>27.0</td>\n",
              "      <td>261.0</td>\n",
              "      <td>1.0</td>\n",
              "      <td>371.0</td>\n",
              "      <td>26.0</td>\n",
              "      <td>4.0</td>\n",
              "      <td>26.0</td>\n",
              "    </tr>\n",
              "    <tr>\n",
              "      <th>4</th>\n",
              "      <td>9dc1a7de274444849c219cff195d0b71</td>\n",
              "      <td>utilidades_domesticas</td>\n",
              "      <td>37.0</td>\n",
              "      <td>402.0</td>\n",
              "      <td>4.0</td>\n",
              "      <td>625.0</td>\n",
              "      <td>20.0</td>\n",
              "      <td>17.0</td>\n",
              "      <td>13.0</td>\n",
              "    </tr>\n",
              "  </tbody>\n",
              "</table>\n",
              "</div>"
            ],
            "text/plain": [
              "                         product_id  product_category_name  \\\n",
              "0  1e9e8ef04dbcff4541ed26657ea517e5             perfumaria   \n",
              "1  3aa071139cb16b67ca9e5dea641aaa2f                  artes   \n",
              "2  96bd76ec8810374ed1b65e291975717f          esporte_lazer   \n",
              "3  cef67bcfe19066a932b7673e239eb23d                  bebes   \n",
              "4  9dc1a7de274444849c219cff195d0b71  utilidades_domesticas   \n",
              "\n",
              "   product_name_lenght  product_description_lenght  product_photos_qty  \\\n",
              "0                 40.0                       287.0                 1.0   \n",
              "1                 44.0                       276.0                 1.0   \n",
              "2                 46.0                       250.0                 1.0   \n",
              "3                 27.0                       261.0                 1.0   \n",
              "4                 37.0                       402.0                 4.0   \n",
              "\n",
              "   product_weight_g  product_length_cm  product_height_cm  product_width_cm  \n",
              "0             225.0               16.0               10.0              14.0  \n",
              "1            1000.0               30.0               18.0              20.0  \n",
              "2             154.0               18.0                9.0              15.0  \n",
              "3             371.0               26.0                4.0              26.0  \n",
              "4             625.0               20.0               17.0              13.0  "
            ]
          },
          "execution_count": 10,
          "metadata": {},
          "output_type": "execute_result"
        }
      ],
      "source": [
        "data['products'].head()"
      ]
    },
    {
      "cell_type": "code",
      "execution_count": 11,
      "metadata": {
        "id": "jFa67VNYWYpk",
        "outputId": "1d07c1ca-4e28-4504-a91a-9eaab79d25fd"
      },
      "outputs": [
        {
          "data": {
            "text/html": [
              "<div>\n",
              "<style scoped>\n",
              "    .dataframe tbody tr th:only-of-type {\n",
              "        vertical-align: middle;\n",
              "    }\n",
              "\n",
              "    .dataframe tbody tr th {\n",
              "        vertical-align: top;\n",
              "    }\n",
              "\n",
              "    .dataframe thead th {\n",
              "        text-align: right;\n",
              "    }\n",
              "</style>\n",
              "<table border=\"1\" class=\"dataframe\">\n",
              "  <thead>\n",
              "    <tr style=\"text-align: right;\">\n",
              "      <th></th>\n",
              "      <th>seller_id</th>\n",
              "      <th>seller_zip_code_prefix</th>\n",
              "      <th>seller_city</th>\n",
              "      <th>seller_state</th>\n",
              "    </tr>\n",
              "  </thead>\n",
              "  <tbody>\n",
              "    <tr>\n",
              "      <th>0</th>\n",
              "      <td>3442f8959a84dea7ee197c632cb2df15</td>\n",
              "      <td>13023</td>\n",
              "      <td>campinas</td>\n",
              "      <td>SP</td>\n",
              "    </tr>\n",
              "    <tr>\n",
              "      <th>1</th>\n",
              "      <td>d1b65fc7debc3361ea86b5f14c68d2e2</td>\n",
              "      <td>13844</td>\n",
              "      <td>mogi guacu</td>\n",
              "      <td>SP</td>\n",
              "    </tr>\n",
              "    <tr>\n",
              "      <th>2</th>\n",
              "      <td>ce3ad9de960102d0677a81f5d0bb7b2d</td>\n",
              "      <td>20031</td>\n",
              "      <td>rio de janeiro</td>\n",
              "      <td>RJ</td>\n",
              "    </tr>\n",
              "    <tr>\n",
              "      <th>3</th>\n",
              "      <td>c0f3eea2e14555b6faeea3dd58c1b1c3</td>\n",
              "      <td>4195</td>\n",
              "      <td>sao paulo</td>\n",
              "      <td>SP</td>\n",
              "    </tr>\n",
              "    <tr>\n",
              "      <th>4</th>\n",
              "      <td>51a04a8a6bdcb23deccc82b0b80742cf</td>\n",
              "      <td>12914</td>\n",
              "      <td>braganca paulista</td>\n",
              "      <td>SP</td>\n",
              "    </tr>\n",
              "  </tbody>\n",
              "</table>\n",
              "</div>"
            ],
            "text/plain": [
              "                          seller_id  seller_zip_code_prefix  \\\n",
              "0  3442f8959a84dea7ee197c632cb2df15                   13023   \n",
              "1  d1b65fc7debc3361ea86b5f14c68d2e2                   13844   \n",
              "2  ce3ad9de960102d0677a81f5d0bb7b2d                   20031   \n",
              "3  c0f3eea2e14555b6faeea3dd58c1b1c3                    4195   \n",
              "4  51a04a8a6bdcb23deccc82b0b80742cf                   12914   \n",
              "\n",
              "         seller_city seller_state  \n",
              "0           campinas           SP  \n",
              "1         mogi guacu           SP  \n",
              "2     rio de janeiro           RJ  \n",
              "3          sao paulo           SP  \n",
              "4  braganca paulista           SP  "
            ]
          },
          "execution_count": 11,
          "metadata": {},
          "output_type": "execute_result"
        }
      ],
      "source": [
        "data['sellers'].head()"
      ]
    },
    {
      "cell_type": "code",
      "execution_count": 12,
      "metadata": {
        "id": "wDC6Y0f6WYpm",
        "outputId": "a40f2550-1894-47a5-8022-4103d955a1c1"
      },
      "outputs": [
        {
          "data": {
            "text/html": [
              "<div>\n",
              "<style scoped>\n",
              "    .dataframe tbody tr th:only-of-type {\n",
              "        vertical-align: middle;\n",
              "    }\n",
              "\n",
              "    .dataframe tbody tr th {\n",
              "        vertical-align: top;\n",
              "    }\n",
              "\n",
              "    .dataframe thead th {\n",
              "        text-align: right;\n",
              "    }\n",
              "</style>\n",
              "<table border=\"1\" class=\"dataframe\">\n",
              "  <thead>\n",
              "    <tr style=\"text-align: right;\">\n",
              "      <th></th>\n",
              "      <th>product_category_name</th>\n",
              "      <th>product_category_name_english</th>\n",
              "    </tr>\n",
              "  </thead>\n",
              "  <tbody>\n",
              "    <tr>\n",
              "      <th>0</th>\n",
              "      <td>beleza_saude</td>\n",
              "      <td>health_beauty</td>\n",
              "    </tr>\n",
              "    <tr>\n",
              "      <th>1</th>\n",
              "      <td>informatica_acessorios</td>\n",
              "      <td>computers_accessories</td>\n",
              "    </tr>\n",
              "    <tr>\n",
              "      <th>2</th>\n",
              "      <td>automotivo</td>\n",
              "      <td>auto</td>\n",
              "    </tr>\n",
              "    <tr>\n",
              "      <th>3</th>\n",
              "      <td>cama_mesa_banho</td>\n",
              "      <td>bed_bath_table</td>\n",
              "    </tr>\n",
              "    <tr>\n",
              "      <th>4</th>\n",
              "      <td>moveis_decoracao</td>\n",
              "      <td>furniture_decor</td>\n",
              "    </tr>\n",
              "  </tbody>\n",
              "</table>\n",
              "</div>"
            ],
            "text/plain": [
              "    product_category_name product_category_name_english\n",
              "0            beleza_saude                 health_beauty\n",
              "1  informatica_acessorios         computers_accessories\n",
              "2              automotivo                          auto\n",
              "3         cama_mesa_banho                bed_bath_table\n",
              "4        moveis_decoracao               furniture_decor"
            ]
          },
          "execution_count": 12,
          "metadata": {},
          "output_type": "execute_result"
        }
      ],
      "source": [
        "data['category'].head()"
      ]
    },
    {
      "cell_type": "markdown",
      "metadata": {
        "id": "GYrgjM4AWYpn"
      },
      "source": [
        "## 1.2 Assessing Data"
      ]
    },
    {
      "cell_type": "code",
      "execution_count": 13,
      "metadata": {
        "id": "QDJMmWoAWYpo",
        "outputId": "9ea0a337-3da0-44dd-f604-c8e24a4fe164"
      },
      "outputs": [
        {
          "name": "stdout",
          "output_type": "stream",
          "text": [
            "\n",
            "Dataframe: customers\n",
            "<class 'pandas.core.frame.DataFrame'>\n",
            "RangeIndex: 99441 entries, 0 to 99440\n",
            "Data columns (total 5 columns):\n",
            " #   Column                    Non-Null Count  Dtype \n",
            "---  ------                    --------------  ----- \n",
            " 0   customer_id               99441 non-null  object\n",
            " 1   customer_unique_id        99441 non-null  object\n",
            " 2   customer_zip_code_prefix  99441 non-null  int64 \n",
            " 3   customer_city             99441 non-null  object\n",
            " 4   customer_state            99441 non-null  object\n",
            "dtypes: int64(1), object(4)\n",
            "memory usage: 3.8+ MB\n",
            "None\n",
            "\n",
            "Dataframe: geo\n",
            "<class 'pandas.core.frame.DataFrame'>\n",
            "RangeIndex: 1000163 entries, 0 to 1000162\n",
            "Data columns (total 5 columns):\n",
            " #   Column                       Non-Null Count    Dtype  \n",
            "---  ------                       --------------    -----  \n",
            " 0   geolocation_zip_code_prefix  1000163 non-null  int64  \n",
            " 1   geolocation_lat              1000163 non-null  float64\n",
            " 2   geolocation_lng              1000163 non-null  float64\n",
            " 3   geolocation_city             1000163 non-null  object \n",
            " 4   geolocation_state            1000163 non-null  object \n",
            "dtypes: float64(2), int64(1), object(2)\n",
            "memory usage: 38.2+ MB\n",
            "None\n",
            "\n",
            "Dataframe: items\n",
            "<class 'pandas.core.frame.DataFrame'>\n",
            "RangeIndex: 112650 entries, 0 to 112649\n",
            "Data columns (total 7 columns):\n",
            " #   Column               Non-Null Count   Dtype  \n",
            "---  ------               --------------   -----  \n",
            " 0   order_id             112650 non-null  object \n",
            " 1   order_item_id        112650 non-null  int64  \n",
            " 2   product_id           112650 non-null  object \n",
            " 3   seller_id            112650 non-null  object \n",
            " 4   shipping_limit_date  112650 non-null  object \n",
            " 5   price                112650 non-null  float64\n",
            " 6   freight_value        112650 non-null  float64\n",
            "dtypes: float64(2), int64(1), object(4)\n",
            "memory usage: 6.0+ MB\n",
            "None\n",
            "\n",
            "Dataframe: payments\n",
            "<class 'pandas.core.frame.DataFrame'>\n",
            "RangeIndex: 103886 entries, 0 to 103885\n",
            "Data columns (total 5 columns):\n",
            " #   Column                Non-Null Count   Dtype  \n",
            "---  ------                --------------   -----  \n",
            " 0   order_id              103886 non-null  object \n",
            " 1   payment_sequential    103886 non-null  int64  \n",
            " 2   payment_type          103886 non-null  object \n",
            " 3   payment_installments  103886 non-null  int64  \n",
            " 4   payment_value         103886 non-null  float64\n",
            "dtypes: float64(1), int64(2), object(2)\n",
            "memory usage: 4.0+ MB\n",
            "None\n",
            "\n",
            "Dataframe: reviews\n",
            "<class 'pandas.core.frame.DataFrame'>\n",
            "RangeIndex: 99224 entries, 0 to 99223\n",
            "Data columns (total 7 columns):\n",
            " #   Column                   Non-Null Count  Dtype \n",
            "---  ------                   --------------  ----- \n",
            " 0   review_id                99224 non-null  object\n",
            " 1   order_id                 99224 non-null  object\n",
            " 2   review_score             99224 non-null  int64 \n",
            " 3   review_comment_title     11568 non-null  object\n",
            " 4   review_comment_message   40977 non-null  object\n",
            " 5   review_creation_date     99224 non-null  object\n",
            " 6   review_answer_timestamp  99224 non-null  object\n",
            "dtypes: int64(1), object(6)\n",
            "memory usage: 5.3+ MB\n",
            "None\n",
            "\n",
            "Dataframe: orders\n",
            "<class 'pandas.core.frame.DataFrame'>\n",
            "RangeIndex: 99441 entries, 0 to 99440\n",
            "Data columns (total 8 columns):\n",
            " #   Column                         Non-Null Count  Dtype \n",
            "---  ------                         --------------  ----- \n",
            " 0   order_id                       99441 non-null  object\n",
            " 1   customer_id                    99441 non-null  object\n",
            " 2   order_status                   99441 non-null  object\n",
            " 3   order_purchase_timestamp       99441 non-null  object\n",
            " 4   order_approved_at              99281 non-null  object\n",
            " 5   order_delivered_carrier_date   97658 non-null  object\n",
            " 6   order_delivered_customer_date  96476 non-null  object\n",
            " 7   order_estimated_delivery_date  99441 non-null  object\n",
            "dtypes: object(8)\n",
            "memory usage: 6.1+ MB\n",
            "None\n",
            "\n",
            "Dataframe: products\n",
            "<class 'pandas.core.frame.DataFrame'>\n",
            "RangeIndex: 32951 entries, 0 to 32950\n",
            "Data columns (total 9 columns):\n",
            " #   Column                      Non-Null Count  Dtype  \n",
            "---  ------                      --------------  -----  \n",
            " 0   product_id                  32951 non-null  object \n",
            " 1   product_category_name       32341 non-null  object \n",
            " 2   product_name_lenght         32341 non-null  float64\n",
            " 3   product_description_lenght  32341 non-null  float64\n",
            " 4   product_photos_qty          32341 non-null  float64\n",
            " 5   product_weight_g            32949 non-null  float64\n",
            " 6   product_length_cm           32949 non-null  float64\n",
            " 7   product_height_cm           32949 non-null  float64\n",
            " 8   product_width_cm            32949 non-null  float64\n",
            "dtypes: float64(7), object(2)\n",
            "memory usage: 2.3+ MB\n",
            "None\n",
            "\n",
            "Dataframe: sellers\n",
            "<class 'pandas.core.frame.DataFrame'>\n",
            "RangeIndex: 3095 entries, 0 to 3094\n",
            "Data columns (total 4 columns):\n",
            " #   Column                  Non-Null Count  Dtype \n",
            "---  ------                  --------------  ----- \n",
            " 0   seller_id               3095 non-null   object\n",
            " 1   seller_zip_code_prefix  3095 non-null   int64 \n",
            " 2   seller_city             3095 non-null   object\n",
            " 3   seller_state            3095 non-null   object\n",
            "dtypes: int64(1), object(3)\n",
            "memory usage: 96.8+ KB\n",
            "None\n",
            "\n",
            "Dataframe: category\n",
            "<class 'pandas.core.frame.DataFrame'>\n",
            "RangeIndex: 71 entries, 0 to 70\n",
            "Data columns (total 2 columns):\n",
            " #   Column                         Non-Null Count  Dtype \n",
            "---  ------                         --------------  ----- \n",
            " 0   product_category_name          71 non-null     object\n",
            " 1   product_category_name_english  71 non-null     object\n",
            "dtypes: object(2)\n",
            "memory usage: 1.2+ KB\n",
            "None\n"
          ]
        }
      ],
      "source": [
        "# check datatypes and null values for each dataset\n",
        "for df_name, df in data.items():\n",
        "    print('\\nDataframe:', df_name)\n",
        "    print(df.info())"
      ]
    },
    {
      "cell_type": "code",
      "execution_count": 14,
      "metadata": {
        "id": "-RdSKhsOWYpq",
        "outputId": "e9d9d3b9-7783-4daa-f793-c1233e464bad"
      },
      "outputs": [
        {
          "name": "stdout",
          "output_type": "stream",
          "text": [
            "\n",
            "Null counts for customers:\n",
            "customer_id                 0\n",
            "customer_unique_id          0\n",
            "customer_zip_code_prefix    0\n",
            "customer_city               0\n",
            "customer_state              0\n",
            "dtype: int64\n",
            "\n",
            "Null counts for geo:\n",
            "geolocation_zip_code_prefix    0\n",
            "geolocation_lat                0\n",
            "geolocation_lng                0\n",
            "geolocation_city               0\n",
            "geolocation_state              0\n",
            "dtype: int64\n",
            "\n",
            "Null counts for items:\n",
            "order_id               0\n",
            "order_item_id          0\n",
            "product_id             0\n",
            "seller_id              0\n",
            "shipping_limit_date    0\n",
            "price                  0\n",
            "freight_value          0\n",
            "dtype: int64\n",
            "\n",
            "Null counts for payments:\n",
            "order_id                0\n",
            "payment_sequential      0\n",
            "payment_type            0\n",
            "payment_installments    0\n",
            "payment_value           0\n",
            "dtype: int64\n",
            "\n",
            "Null counts for reviews:\n",
            "review_id                      0\n",
            "order_id                       0\n",
            "review_score                   0\n",
            "review_comment_title       87656\n",
            "review_comment_message     58247\n",
            "review_creation_date           0\n",
            "review_answer_timestamp        0\n",
            "dtype: int64\n",
            "\n",
            "Null counts for orders:\n",
            "order_id                            0\n",
            "customer_id                         0\n",
            "order_status                        0\n",
            "order_purchase_timestamp            0\n",
            "order_approved_at                 160\n",
            "order_delivered_carrier_date     1783\n",
            "order_delivered_customer_date    2965\n",
            "order_estimated_delivery_date       0\n",
            "dtype: int64\n",
            "\n",
            "Null counts for products:\n",
            "product_id                      0\n",
            "product_category_name         610\n",
            "product_name_lenght           610\n",
            "product_description_lenght    610\n",
            "product_photos_qty            610\n",
            "product_weight_g                2\n",
            "product_length_cm               2\n",
            "product_height_cm               2\n",
            "product_width_cm                2\n",
            "dtype: int64\n",
            "\n",
            "Null counts for sellers:\n",
            "seller_id                 0\n",
            "seller_zip_code_prefix    0\n",
            "seller_city               0\n",
            "seller_state              0\n",
            "dtype: int64\n",
            "\n",
            "Null counts for category:\n",
            "product_category_name            0\n",
            "product_category_name_english    0\n",
            "dtype: int64\n"
          ]
        }
      ],
      "source": [
        "# check for missing values\n",
        "null_counts = {df_name: df.isna().sum() for df_name, df in data.items()}\n",
        "for df_name, null_count in null_counts.items():\n",
        "    print(f'\\nNull counts for {df_name}:')\n",
        "    print(null_count)"
      ]
    },
    {
      "cell_type": "code",
      "execution_count": 15,
      "metadata": {
        "id": "x1x3s8n9WYpq",
        "outputId": "1a09fc09-d2a0-4a08-847c-3fdb9882a689"
      },
      "outputs": [
        {
          "name": "stdout",
          "output_type": "stream",
          "text": [
            "\n",
            "Data Quality Summary:\n",
            "     Dataset  Total Sample Count  Duplicate Count\n",
            "0  customers               99441                0\n",
            "1        geo             1000163           261831\n",
            "2      items              112650                0\n",
            "3   payments              103886                0\n",
            "4    reviews               99224                0\n",
            "5     orders               99441                0\n",
            "6   products               32951                0\n",
            "7    sellers                3095                0\n",
            "8   category                  71                0\n"
          ]
        }
      ],
      "source": [
        "# check for duplicates\n",
        "duplicate_counts = {df_name: df.duplicated().sum() for df_name, df in data.items()}\n",
        "total_sample_counts = {df_name: len(df) for df_name, df in data.items()}\n",
        "\n",
        "# create DataFrame to display duplicate counts and total sample counts\n",
        "duplicate_counts_df = pd.DataFrame(list(duplicate_counts.items()), columns=['Dataset', 'Duplicate Count'])\n",
        "total_sample_counts_df = pd.DataFrame(list(total_sample_counts.items()), columns=['Dataset', 'Total Sample Count'])\n",
        "\n",
        "# display combined dataframe\n",
        "data_quality_summary = pd.merge(total_sample_counts_df, duplicate_counts_df, on='Dataset')\n",
        "print('\\nData Quality Summary:')\n",
        "print(data_quality_summary)"
      ]
    },
    {
      "cell_type": "markdown",
      "metadata": {
        "id": "TJDwhmAMWYps"
      },
      "source": [
        "## 1.3 Cleaning Data"
      ]
    },
    {
      "cell_type": "code",
      "execution_count": 16,
      "metadata": {
        "id": "s6qGhJv3WYps",
        "outputId": "89f24881-3741-490a-faf9-a7de72f16972"
      },
      "outputs": [
        {
          "name": "stderr",
          "output_type": "stream",
          "text": [
            "C:\\Users\\User\\AppData\\Local\\Temp\\ipykernel_8752\\1570973148.py:11: FutureWarning: DataFrame.fillna with 'method' is deprecated and will raise in a future version. Use obj.ffill() or obj.bfill() instead.\n",
            "  data[df_name] = df.fillna(method='ffill')  # forward fill for other datasets\n",
            "C:\\Users\\User\\AppData\\Local\\Temp\\ipykernel_8752\\1570973148.py:11: FutureWarning: DataFrame.fillna with 'method' is deprecated and will raise in a future version. Use obj.ffill() or obj.bfill() instead.\n",
            "  data[df_name] = df.fillna(method='ffill')  # forward fill for other datasets\n"
          ]
        },
        {
          "name": "stdout",
          "output_type": "stream",
          "text": [
            "\n",
            "Missing values in customers:\n",
            "customer_id                 0\n",
            "customer_unique_id          0\n",
            "customer_zip_code_prefix    0\n",
            "customer_city               0\n",
            "customer_state              0\n",
            "dtype: int64\n",
            "Duplicates in customers: 0\n",
            "\n",
            "Missing values in geo:\n",
            "geolocation_zip_code_prefix    0\n",
            "geolocation_lat                0\n",
            "geolocation_lng                0\n",
            "geolocation_city               0\n",
            "geolocation_state              0\n",
            "dtype: int64\n",
            "Duplicates in geo: 0\n",
            "\n",
            "Missing values in items:\n",
            "order_id               0\n",
            "order_item_id          0\n",
            "product_id             0\n",
            "seller_id              0\n",
            "shipping_limit_date    0\n",
            "price                  0\n",
            "freight_value          0\n",
            "dtype: int64\n",
            "Duplicates in items: 0\n",
            "\n",
            "Missing values in payments:\n",
            "order_id                0\n",
            "payment_sequential      0\n",
            "payment_type            0\n",
            "payment_installments    0\n",
            "payment_value           0\n",
            "dtype: int64\n",
            "Duplicates in payments: 0\n",
            "\n",
            "Missing values in reviews:\n",
            "review_id                      0\n",
            "order_id                       0\n",
            "review_score                   0\n",
            "review_comment_title       87656\n",
            "review_comment_message     58247\n",
            "review_creation_date           0\n",
            "review_answer_timestamp        0\n",
            "dtype: int64\n",
            "Duplicates in reviews: 0\n",
            "\n",
            "Missing values in orders:\n",
            "order_id                            0\n",
            "customer_id                         0\n",
            "order_status                        0\n",
            "order_purchase_timestamp            0\n",
            "order_approved_at                 160\n",
            "order_delivered_carrier_date     1783\n",
            "order_delivered_customer_date    2965\n",
            "order_estimated_delivery_date       0\n",
            "dtype: int64\n",
            "Duplicates in orders: 0\n",
            "\n",
            "Missing values in products:\n",
            "product_id                      0\n",
            "product_category_name         610\n",
            "product_name_lenght           610\n",
            "product_description_lenght    610\n",
            "product_photos_qty            610\n",
            "product_weight_g                2\n",
            "product_length_cm               2\n",
            "product_height_cm               2\n",
            "product_width_cm                2\n",
            "dtype: int64\n",
            "Duplicates in products: 0\n",
            "\n",
            "Missing values in sellers:\n",
            "seller_id                 0\n",
            "seller_zip_code_prefix    0\n",
            "seller_city               0\n",
            "seller_state              0\n",
            "dtype: int64\n",
            "Duplicates in sellers: 0\n",
            "\n",
            "Missing values in category:\n",
            "product_category_name            0\n",
            "product_category_name_english    0\n",
            "dtype: int64\n",
            "Duplicates in category: 0\n"
          ]
        }
      ],
      "source": [
        "# handle missing values and duplicates\n",
        "for df_name, df in data.items():\n",
        "    # drop critical missing fields for these specific datasets\n",
        "    if df_name == 'customers':\n",
        "        data[df_name] = df.dropna(subset=['customer_id', 'customer_unique_id'])  # drop rows where customer info is missing\n",
        "    elif df_name == 'orders':\n",
        "        data[df_name] = df.dropna(subset=['order_id', 'customer_id', 'order_purchase_timestamp'])  # drop rows with missing order or customer info\n",
        "    elif df_name == 'order_items':\n",
        "        data[df_name] = df.dropna(subset=['order_id', 'product_id', 'seller_id'])  # drop rows with missing critical fields in order items\n",
        "    else:\n",
        "        data[df_name] = df.fillna(method='ffill')  # forward fill for other datasets\n",
        "\n",
        "    # drop duplicates for each dataset\n",
        "    data[df_name] = df.drop_duplicates()\n",
        "\n",
        "# check if missing values and duplicates have been handled\n",
        "for df_name, df in data.items():\n",
        "    print(f\"\\nMissing values in {df_name}:\")\n",
        "    print(df.isna().sum())\n",
        "    print(f\"Duplicates in {df_name}: {df.duplicated().sum()}\")\n"
      ]
    },
    {
      "cell_type": "code",
      "execution_count": 17,
      "metadata": {
        "id": "sPLQXeTdWYpt",
        "outputId": "8b327f21-9c51-4511-e314-74a99d2626f0"
      },
      "outputs": [
        {
          "name": "stdout",
          "output_type": "stream",
          "text": [
            "\n",
            "Missing values in customers:\n",
            "customer_id                 0\n",
            "customer_unique_id          0\n",
            "customer_zip_code_prefix    0\n",
            "customer_city               0\n",
            "customer_state              0\n",
            "dtype: int64\n",
            "Duplicates in customers: 0\n",
            "\n",
            "Missing values in geo:\n",
            "geolocation_zip_code_prefix    0\n",
            "geolocation_lat                0\n",
            "geolocation_lng                0\n",
            "geolocation_city               0\n",
            "geolocation_state              0\n",
            "dtype: int64\n",
            "Duplicates in geo: 0\n",
            "\n",
            "Missing values in items:\n",
            "order_id               0\n",
            "order_item_id          0\n",
            "product_id             0\n",
            "seller_id              0\n",
            "shipping_limit_date    0\n",
            "price                  0\n",
            "freight_value          0\n",
            "dtype: int64\n",
            "Duplicates in items: 0\n",
            "\n",
            "Missing values in payments:\n",
            "order_id                0\n",
            "payment_sequential      0\n",
            "payment_type            0\n",
            "payment_installments    0\n",
            "payment_value           0\n",
            "dtype: int64\n",
            "Duplicates in payments: 0\n",
            "\n",
            "Missing values in reviews:\n",
            "review_id                      0\n",
            "order_id                       0\n",
            "review_score                   0\n",
            "review_comment_title       87656\n",
            "review_comment_message     58247\n",
            "review_creation_date           0\n",
            "review_answer_timestamp        0\n",
            "dtype: int64\n",
            "Duplicates in reviews: 0\n",
            "\n",
            "Missing values in orders:\n",
            "order_id                            0\n",
            "customer_id                         0\n",
            "order_status                        0\n",
            "order_purchase_timestamp            0\n",
            "order_approved_at                 160\n",
            "order_delivered_carrier_date     1783\n",
            "order_delivered_customer_date    2965\n",
            "order_estimated_delivery_date       0\n",
            "dtype: int64\n",
            "Duplicates in orders: 0\n",
            "\n",
            "Missing values in products:\n",
            "product_id                      0\n",
            "product_category_name         610\n",
            "product_name_lenght           610\n",
            "product_description_lenght    610\n",
            "product_photos_qty            610\n",
            "product_weight_g                2\n",
            "product_length_cm               2\n",
            "product_height_cm               2\n",
            "product_width_cm                2\n",
            "dtype: int64\n",
            "Duplicates in products: 0\n",
            "\n",
            "Missing values in sellers:\n",
            "seller_id                 0\n",
            "seller_zip_code_prefix    0\n",
            "seller_city               0\n",
            "seller_state              0\n",
            "dtype: int64\n",
            "Duplicates in sellers: 0\n",
            "\n",
            "Missing values in category:\n",
            "product_category_name            0\n",
            "product_category_name_english    0\n",
            "dtype: int64\n",
            "Duplicates in category: 0\n"
          ]
        }
      ],
      "source": [
        "# check if missing values and duplicates have been handled\n",
        "for df_name, df in data.items():\n",
        "    print(f\"\\nMissing values in {df_name}:\")\n",
        "    print(df.isna().sum())\n",
        "    print(f\"Duplicates in {df_name}: {df.duplicated().sum()}\")"
      ]
    },
    {
      "cell_type": "code",
      "execution_count": 18,
      "metadata": {
        "id": "B32JRI_RWYpu"
      },
      "outputs": [],
      "source": [
        "# convert date columns to datetime type\n",
        "date_columns = ['order_purchase_timestamp', 'order_approved_at',\n",
        "                'order_delivered_carrier_date', 'order_delivered_customer_date',\n",
        "                'order_estimated_delivery_date', 'review_creation_date',\n",
        "                'review_answer_timestamp']\n",
        "\n",
        "for df_name, df in data.items():\n",
        "    for col in date_columns:\n",
        "        if col in df.columns:\n",
        "            df[col] = pd.to_datetime(df[col], errors='coerce')"
      ]
    },
    {
      "cell_type": "markdown",
      "metadata": {
        "id": "AqWbIAW3WYpv"
      },
      "source": [
        "# 2. Exploratory Data Analysis"
      ]
    },
    {
      "cell_type": "markdown",
      "metadata": {
        "id": "DU_wiKD6WYpw"
      },
      "source": [
        "## 2.1 Explore Customers"
      ]
    },
    {
      "cell_type": "code",
      "execution_count": 19,
      "metadata": {
        "id": "l9k7Vu9OWYpx",
        "outputId": "ef3f722e-edeb-4713-e113-9ad793087d14"
      },
      "outputs": [
        {
          "data": {
            "text/html": [
              "<div>\n",
              "<style scoped>\n",
              "    .dataframe tbody tr th:only-of-type {\n",
              "        vertical-align: middle;\n",
              "    }\n",
              "\n",
              "    .dataframe tbody tr th {\n",
              "        vertical-align: top;\n",
              "    }\n",
              "\n",
              "    .dataframe thead th {\n",
              "        text-align: right;\n",
              "    }\n",
              "</style>\n",
              "<table border=\"1\" class=\"dataframe\">\n",
              "  <thead>\n",
              "    <tr style=\"text-align: right;\">\n",
              "      <th></th>\n",
              "      <th>customer_id</th>\n",
              "      <th>customer_unique_id</th>\n",
              "      <th>customer_zip_code_prefix</th>\n",
              "      <th>customer_city</th>\n",
              "      <th>customer_state</th>\n",
              "    </tr>\n",
              "  </thead>\n",
              "  <tbody>\n",
              "    <tr>\n",
              "      <th>15876</th>\n",
              "      <td>2d7d7ef5272cb7c9ec3f7aa57a2b2dec</td>\n",
              "      <td>003162bf0351f47a1a247992b8b9b42d</td>\n",
              "      <td>29160</td>\n",
              "      <td>serra</td>\n",
              "      <td>ES</td>\n",
              "    </tr>\n",
              "    <tr>\n",
              "      <th>2034</th>\n",
              "      <td>9057be89fc10aa537f28280823bc1095</td>\n",
              "      <td>4e09f9ffad4793d2772c79fef32722b6</td>\n",
              "      <td>6142</td>\n",
              "      <td>osasco</td>\n",
              "      <td>SP</td>\n",
              "    </tr>\n",
              "    <tr>\n",
              "      <th>67860</th>\n",
              "      <td>6feabe0db8240093bf5e96f20c146b23</td>\n",
              "      <td>8d51d2b9d0a371455e0d3bfb473a6d1e</td>\n",
              "      <td>28625</td>\n",
              "      <td>nova friburgo</td>\n",
              "      <td>RJ</td>\n",
              "    </tr>\n",
              "    <tr>\n",
              "      <th>4160</th>\n",
              "      <td>f54984aefe46119362bc6a5cefdd90e0</td>\n",
              "      <td>b25e5a264626707883741c9cd9c00aa4</td>\n",
              "      <td>4205</td>\n",
              "      <td>sao paulo</td>\n",
              "      <td>SP</td>\n",
              "    </tr>\n",
              "    <tr>\n",
              "      <th>18734</th>\n",
              "      <td>9d89e026dc5b2c75f900835652994a75</td>\n",
              "      <td>c5d347baaba4a7539db54190e801c348</td>\n",
              "      <td>5307</td>\n",
              "      <td>sao paulo</td>\n",
              "      <td>SP</td>\n",
              "    </tr>\n",
              "  </tbody>\n",
              "</table>\n",
              "</div>"
            ],
            "text/plain": [
              "                            customer_id                customer_unique_id  \\\n",
              "15876  2d7d7ef5272cb7c9ec3f7aa57a2b2dec  003162bf0351f47a1a247992b8b9b42d   \n",
              "2034   9057be89fc10aa537f28280823bc1095  4e09f9ffad4793d2772c79fef32722b6   \n",
              "67860  6feabe0db8240093bf5e96f20c146b23  8d51d2b9d0a371455e0d3bfb473a6d1e   \n",
              "4160   f54984aefe46119362bc6a5cefdd90e0  b25e5a264626707883741c9cd9c00aa4   \n",
              "18734  9d89e026dc5b2c75f900835652994a75  c5d347baaba4a7539db54190e801c348   \n",
              "\n",
              "       customer_zip_code_prefix  customer_city customer_state  \n",
              "15876                     29160          serra             ES  \n",
              "2034                       6142         osasco             SP  \n",
              "67860                     28625  nova friburgo             RJ  \n",
              "4160                       4205      sao paulo             SP  \n",
              "18734                      5307      sao paulo             SP  "
            ]
          },
          "execution_count": 19,
          "metadata": {},
          "output_type": "execute_result"
        }
      ],
      "source": [
        "data['customers'].sample(5)"
      ]
    },
    {
      "cell_type": "code",
      "execution_count": 20,
      "metadata": {
        "id": "sHIDD8n0WYpx"
      },
      "outputs": [],
      "source": [
        "customer_state_dist = data['customers']['customer_state'].value_counts()"
      ]
    },
    {
      "cell_type": "markdown",
      "metadata": {
        "id": "CNUSQ_JrWYpy"
      },
      "source": [
        "## 2.2 Explore Orders"
      ]
    },
    {
      "cell_type": "code",
      "execution_count": 21,
      "metadata": {
        "id": "u5725Zq7WYpz",
        "outputId": "a6fdf524-846b-48a7-a161-6888ecc0b5df"
      },
      "outputs": [
        {
          "data": {
            "text/html": [
              "<div>\n",
              "<style scoped>\n",
              "    .dataframe tbody tr th:only-of-type {\n",
              "        vertical-align: middle;\n",
              "    }\n",
              "\n",
              "    .dataframe tbody tr th {\n",
              "        vertical-align: top;\n",
              "    }\n",
              "\n",
              "    .dataframe thead th {\n",
              "        text-align: right;\n",
              "    }\n",
              "</style>\n",
              "<table border=\"1\" class=\"dataframe\">\n",
              "  <thead>\n",
              "    <tr style=\"text-align: right;\">\n",
              "      <th></th>\n",
              "      <th>order_id</th>\n",
              "      <th>customer_id</th>\n",
              "      <th>order_status</th>\n",
              "      <th>order_purchase_timestamp</th>\n",
              "      <th>order_approved_at</th>\n",
              "      <th>order_delivered_carrier_date</th>\n",
              "      <th>order_delivered_customer_date</th>\n",
              "      <th>order_estimated_delivery_date</th>\n",
              "    </tr>\n",
              "  </thead>\n",
              "  <tbody>\n",
              "    <tr>\n",
              "      <th>4666</th>\n",
              "      <td>b31c7dea63bb08f8cdd1ec32514ccf0b</td>\n",
              "      <td>2a351c540a0cbdd0d9c266626f6d3acc</td>\n",
              "      <td>delivered</td>\n",
              "      <td>2017-09-26 18:35:35</td>\n",
              "      <td>2017-09-26 18:49:09</td>\n",
              "      <td>2017-09-29 16:23:06</td>\n",
              "      <td>2018-02-05 21:25:43</td>\n",
              "      <td>2017-10-19</td>\n",
              "    </tr>\n",
              "    <tr>\n",
              "      <th>48527</th>\n",
              "      <td>ba84f6aec57aa48ee3eb1b97964354e5</td>\n",
              "      <td>fd4a20f415cf462c50350f55c9391a77</td>\n",
              "      <td>delivered</td>\n",
              "      <td>2018-08-21 23:02:33</td>\n",
              "      <td>2018-08-21 23:10:13</td>\n",
              "      <td>2018-08-23 12:53:00</td>\n",
              "      <td>2018-08-24 17:48:55</td>\n",
              "      <td>2018-08-27</td>\n",
              "    </tr>\n",
              "    <tr>\n",
              "      <th>45513</th>\n",
              "      <td>ae6b64ec83bef670aea816ed1fd2857b</td>\n",
              "      <td>10629d24a28802b8beb2f7f1c6626c5e</td>\n",
              "      <td>delivered</td>\n",
              "      <td>2018-01-23 14:17:56</td>\n",
              "      <td>2018-01-24 02:34:57</td>\n",
              "      <td>2018-01-24 22:05:30</td>\n",
              "      <td>2018-02-06 16:35:16</td>\n",
              "      <td>2018-02-23</td>\n",
              "    </tr>\n",
              "    <tr>\n",
              "      <th>21537</th>\n",
              "      <td>5b8c60dba179499a7eba13bcd9131415</td>\n",
              "      <td>ba649fed4375cbae013a05d52ba39dab</td>\n",
              "      <td>delivered</td>\n",
              "      <td>2017-05-13 19:52:24</td>\n",
              "      <td>2017-05-13 20:02:31</td>\n",
              "      <td>2017-05-15 08:47:59</td>\n",
              "      <td>2017-05-23 13:35:53</td>\n",
              "      <td>2017-06-07</td>\n",
              "    </tr>\n",
              "    <tr>\n",
              "      <th>20784</th>\n",
              "      <td>06375e8bcbe64fb1da3b499fa42a7991</td>\n",
              "      <td>0288ac534f6ba035350df2527703ed47</td>\n",
              "      <td>delivered</td>\n",
              "      <td>2018-02-26 09:34:23</td>\n",
              "      <td>2018-02-28 09:56:07</td>\n",
              "      <td>2018-03-01 19:44:23</td>\n",
              "      <td>2018-03-15 17:42:32</td>\n",
              "      <td>2018-03-21</td>\n",
              "    </tr>\n",
              "  </tbody>\n",
              "</table>\n",
              "</div>"
            ],
            "text/plain": [
              "                               order_id                       customer_id  \\\n",
              "4666   b31c7dea63bb08f8cdd1ec32514ccf0b  2a351c540a0cbdd0d9c266626f6d3acc   \n",
              "48527  ba84f6aec57aa48ee3eb1b97964354e5  fd4a20f415cf462c50350f55c9391a77   \n",
              "45513  ae6b64ec83bef670aea816ed1fd2857b  10629d24a28802b8beb2f7f1c6626c5e   \n",
              "21537  5b8c60dba179499a7eba13bcd9131415  ba649fed4375cbae013a05d52ba39dab   \n",
              "20784  06375e8bcbe64fb1da3b499fa42a7991  0288ac534f6ba035350df2527703ed47   \n",
              "\n",
              "      order_status order_purchase_timestamp   order_approved_at  \\\n",
              "4666     delivered      2017-09-26 18:35:35 2017-09-26 18:49:09   \n",
              "48527    delivered      2018-08-21 23:02:33 2018-08-21 23:10:13   \n",
              "45513    delivered      2018-01-23 14:17:56 2018-01-24 02:34:57   \n",
              "21537    delivered      2017-05-13 19:52:24 2017-05-13 20:02:31   \n",
              "20784    delivered      2018-02-26 09:34:23 2018-02-28 09:56:07   \n",
              "\n",
              "      order_delivered_carrier_date order_delivered_customer_date  \\\n",
              "4666           2017-09-29 16:23:06           2018-02-05 21:25:43   \n",
              "48527          2018-08-23 12:53:00           2018-08-24 17:48:55   \n",
              "45513          2018-01-24 22:05:30           2018-02-06 16:35:16   \n",
              "21537          2017-05-15 08:47:59           2017-05-23 13:35:53   \n",
              "20784          2018-03-01 19:44:23           2018-03-15 17:42:32   \n",
              "\n",
              "      order_estimated_delivery_date  \n",
              "4666                     2017-10-19  \n",
              "48527                    2018-08-27  \n",
              "45513                    2018-02-23  \n",
              "21537                    2017-06-07  \n",
              "20784                    2018-03-21  "
            ]
          },
          "execution_count": 21,
          "metadata": {},
          "output_type": "execute_result"
        }
      ],
      "source": [
        "data['orders'].sample(5)"
      ]
    },
    {
      "cell_type": "code",
      "execution_count": 22,
      "metadata": {
        "id": "nuvSIyT6WYp0"
      },
      "outputs": [],
      "source": [
        "order_status_dist = data['orders']['order_status'].value_counts()"
      ]
    },
    {
      "cell_type": "markdown",
      "metadata": {
        "id": "WCCKssUFWYp0"
      },
      "source": [
        "## 2.3 Explore Order Items"
      ]
    },
    {
      "cell_type": "code",
      "execution_count": 23,
      "metadata": {
        "id": "K0jr7trdWYp1",
        "outputId": "5a6fd771-f840-4cc6-a05d-a7ee768080cd"
      },
      "outputs": [
        {
          "data": {
            "text/html": [
              "<div>\n",
              "<style scoped>\n",
              "    .dataframe tbody tr th:only-of-type {\n",
              "        vertical-align: middle;\n",
              "    }\n",
              "\n",
              "    .dataframe tbody tr th {\n",
              "        vertical-align: top;\n",
              "    }\n",
              "\n",
              "    .dataframe thead th {\n",
              "        text-align: right;\n",
              "    }\n",
              "</style>\n",
              "<table border=\"1\" class=\"dataframe\">\n",
              "  <thead>\n",
              "    <tr style=\"text-align: right;\">\n",
              "      <th></th>\n",
              "      <th>order_id</th>\n",
              "      <th>order_item_id</th>\n",
              "      <th>product_id</th>\n",
              "      <th>seller_id</th>\n",
              "      <th>shipping_limit_date</th>\n",
              "      <th>price</th>\n",
              "      <th>freight_value</th>\n",
              "    </tr>\n",
              "  </thead>\n",
              "  <tbody>\n",
              "    <tr>\n",
              "      <th>90384</th>\n",
              "      <td>cd44196e80474114b859765d62f12ddf</td>\n",
              "      <td>1</td>\n",
              "      <td>caaa713799b547352795c831a14f1c3c</td>\n",
              "      <td>53243585a1d6dc2643021fd1853d8905</td>\n",
              "      <td>2018-04-19 21:55:15</td>\n",
              "      <td>849.99</td>\n",
              "      <td>39.94</td>\n",
              "    </tr>\n",
              "    <tr>\n",
              "      <th>71172</th>\n",
              "      <td>a25f8c8c17243276e72fca0857e94789</td>\n",
              "      <td>1</td>\n",
              "      <td>bdc3291ab242ec1effc8eb0987850268</td>\n",
              "      <td>dbd66278cbfe1aa1000f90a217ca4695</td>\n",
              "      <td>2017-12-12 15:37:31</td>\n",
              "      <td>29.00</td>\n",
              "      <td>15.10</td>\n",
              "    </tr>\n",
              "    <tr>\n",
              "      <th>19273</th>\n",
              "      <td>2c45c33d2f9cb8ff8b1c86cc28c11c30</td>\n",
              "      <td>1</td>\n",
              "      <td>e24f73b7631ee3fbb2ab700a9acaa258</td>\n",
              "      <td>0cbcee27c791afa0cdcb08587a2013a8</td>\n",
              "      <td>2016-10-14 10:40:50</td>\n",
              "      <td>135.00</td>\n",
              "      <td>18.51</td>\n",
              "    </tr>\n",
              "    <tr>\n",
              "      <th>29197</th>\n",
              "      <td>426d4272fc71353cab0d91dc2658b066</td>\n",
              "      <td>1</td>\n",
              "      <td>47fb043ed62be785ecb7a5e30c7787d4</td>\n",
              "      <td>abc015ebac1d283a323ca9db35ede4b9</td>\n",
              "      <td>2017-08-14 04:04:49</td>\n",
              "      <td>54.90</td>\n",
              "      <td>11.88</td>\n",
              "    </tr>\n",
              "    <tr>\n",
              "      <th>7638</th>\n",
              "      <td>11567da1255df80bd6deecd416bdf9bc</td>\n",
              "      <td>1</td>\n",
              "      <td>5ab3c4c7b2b499f85cf923cd0f331c9f</td>\n",
              "      <td>5f5b43b2bffa8656e4bc6efeb13cc649</td>\n",
              "      <td>2017-12-12 18:08:25</td>\n",
              "      <td>89.00</td>\n",
              "      <td>15.38</td>\n",
              "    </tr>\n",
              "  </tbody>\n",
              "</table>\n",
              "</div>"
            ],
            "text/plain": [
              "                               order_id  order_item_id  \\\n",
              "90384  cd44196e80474114b859765d62f12ddf              1   \n",
              "71172  a25f8c8c17243276e72fca0857e94789              1   \n",
              "19273  2c45c33d2f9cb8ff8b1c86cc28c11c30              1   \n",
              "29197  426d4272fc71353cab0d91dc2658b066              1   \n",
              "7638   11567da1255df80bd6deecd416bdf9bc              1   \n",
              "\n",
              "                             product_id                         seller_id  \\\n",
              "90384  caaa713799b547352795c831a14f1c3c  53243585a1d6dc2643021fd1853d8905   \n",
              "71172  bdc3291ab242ec1effc8eb0987850268  dbd66278cbfe1aa1000f90a217ca4695   \n",
              "19273  e24f73b7631ee3fbb2ab700a9acaa258  0cbcee27c791afa0cdcb08587a2013a8   \n",
              "29197  47fb043ed62be785ecb7a5e30c7787d4  abc015ebac1d283a323ca9db35ede4b9   \n",
              "7638   5ab3c4c7b2b499f85cf923cd0f331c9f  5f5b43b2bffa8656e4bc6efeb13cc649   \n",
              "\n",
              "       shipping_limit_date   price  freight_value  \n",
              "90384  2018-04-19 21:55:15  849.99          39.94  \n",
              "71172  2017-12-12 15:37:31   29.00          15.10  \n",
              "19273  2016-10-14 10:40:50  135.00          18.51  \n",
              "29197  2017-08-14 04:04:49   54.90          11.88  \n",
              "7638   2017-12-12 18:08:25   89.00          15.38  "
            ]
          },
          "execution_count": 23,
          "metadata": {},
          "output_type": "execute_result"
        }
      ],
      "source": [
        "data['items'].sample(5)"
      ]
    },
    {
      "cell_type": "markdown",
      "metadata": {
        "id": "yqsaburBWYp2"
      },
      "source": [
        "## 2.4 Explore Order Payments"
      ]
    },
    {
      "cell_type": "code",
      "execution_count": 24,
      "metadata": {
        "id": "ABhhPEIPWYp3",
        "outputId": "5d837d57-d324-498c-af59-3ee4c8ac5e99"
      },
      "outputs": [
        {
          "data": {
            "text/html": [
              "<div>\n",
              "<style scoped>\n",
              "    .dataframe tbody tr th:only-of-type {\n",
              "        vertical-align: middle;\n",
              "    }\n",
              "\n",
              "    .dataframe tbody tr th {\n",
              "        vertical-align: top;\n",
              "    }\n",
              "\n",
              "    .dataframe thead th {\n",
              "        text-align: right;\n",
              "    }\n",
              "</style>\n",
              "<table border=\"1\" class=\"dataframe\">\n",
              "  <thead>\n",
              "    <tr style=\"text-align: right;\">\n",
              "      <th></th>\n",
              "      <th>order_id</th>\n",
              "      <th>payment_sequential</th>\n",
              "      <th>payment_type</th>\n",
              "      <th>payment_installments</th>\n",
              "      <th>payment_value</th>\n",
              "    </tr>\n",
              "  </thead>\n",
              "  <tbody>\n",
              "    <tr>\n",
              "      <th>1793</th>\n",
              "      <td>2cbcb371aee438c59b722a21d83597e0</td>\n",
              "      <td>1</td>\n",
              "      <td>credit_card</td>\n",
              "      <td>5</td>\n",
              "      <td>52.18</td>\n",
              "    </tr>\n",
              "    <tr>\n",
              "      <th>46906</th>\n",
              "      <td>87625edd5358ed519f479259e703b1fa</td>\n",
              "      <td>1</td>\n",
              "      <td>credit_card</td>\n",
              "      <td>1</td>\n",
              "      <td>79.24</td>\n",
              "    </tr>\n",
              "    <tr>\n",
              "      <th>89622</th>\n",
              "      <td>ba58760d97361d60f4af393e41c236cc</td>\n",
              "      <td>1</td>\n",
              "      <td>credit_card</td>\n",
              "      <td>10</td>\n",
              "      <td>298.39</td>\n",
              "    </tr>\n",
              "    <tr>\n",
              "      <th>25431</th>\n",
              "      <td>bced9d44b71edeb7df9229c6b86fd784</td>\n",
              "      <td>1</td>\n",
              "      <td>credit_card</td>\n",
              "      <td>2</td>\n",
              "      <td>47.62</td>\n",
              "    </tr>\n",
              "    <tr>\n",
              "      <th>52951</th>\n",
              "      <td>216bc8ebe70b73bb6e7e3270d9a5df56</td>\n",
              "      <td>1</td>\n",
              "      <td>credit_card</td>\n",
              "      <td>1</td>\n",
              "      <td>70.72</td>\n",
              "    </tr>\n",
              "  </tbody>\n",
              "</table>\n",
              "</div>"
            ],
            "text/plain": [
              "                               order_id  payment_sequential payment_type  \\\n",
              "1793   2cbcb371aee438c59b722a21d83597e0                   1  credit_card   \n",
              "46906  87625edd5358ed519f479259e703b1fa                   1  credit_card   \n",
              "89622  ba58760d97361d60f4af393e41c236cc                   1  credit_card   \n",
              "25431  bced9d44b71edeb7df9229c6b86fd784                   1  credit_card   \n",
              "52951  216bc8ebe70b73bb6e7e3270d9a5df56                   1  credit_card   \n",
              "\n",
              "       payment_installments  payment_value  \n",
              "1793                      5          52.18  \n",
              "46906                     1          79.24  \n",
              "89622                    10         298.39  \n",
              "25431                     2          47.62  \n",
              "52951                     1          70.72  "
            ]
          },
          "execution_count": 24,
          "metadata": {},
          "output_type": "execute_result"
        }
      ],
      "source": [
        "data['payments'].sample(5)"
      ]
    },
    {
      "cell_type": "markdown",
      "metadata": {
        "id": "fRUHhQE3WYp3"
      },
      "source": [
        "## 2.5 Explore Customers and Geological"
      ]
    },
    {
      "cell_type": "code",
      "execution_count": 25,
      "metadata": {
        "id": "oZKaUfTMWYp4",
        "outputId": "8166a0f8-16c9-4ae8-e929-23fb0704b956"
      },
      "outputs": [
        {
          "data": {
            "text/html": [
              "<div>\n",
              "<style scoped>\n",
              "    .dataframe tbody tr th:only-of-type {\n",
              "        vertical-align: middle;\n",
              "    }\n",
              "\n",
              "    .dataframe tbody tr th {\n",
              "        vertical-align: top;\n",
              "    }\n",
              "\n",
              "    .dataframe thead th {\n",
              "        text-align: right;\n",
              "    }\n",
              "</style>\n",
              "<table border=\"1\" class=\"dataframe\">\n",
              "  <thead>\n",
              "    <tr style=\"text-align: right;\">\n",
              "      <th></th>\n",
              "      <th>customer_id</th>\n",
              "      <th>customer_unique_id</th>\n",
              "      <th>customer_zip_code_prefix</th>\n",
              "      <th>customer_city</th>\n",
              "      <th>customer_state</th>\n",
              "    </tr>\n",
              "  </thead>\n",
              "  <tbody>\n",
              "    <tr>\n",
              "      <th>28082</th>\n",
              "      <td>b9b977b5750b820d527dd864ed74c4c1</td>\n",
              "      <td>eceb50042675f24ba84998de4520465d</td>\n",
              "      <td>85955</td>\n",
              "      <td>maripa</td>\n",
              "      <td>PR</td>\n",
              "    </tr>\n",
              "    <tr>\n",
              "      <th>7586</th>\n",
              "      <td>48db5996674ec9678ed781d29f8489fa</td>\n",
              "      <td>db805b3c93209de1af0f032450f33cd3</td>\n",
              "      <td>40150</td>\n",
              "      <td>salvador</td>\n",
              "      <td>BA</td>\n",
              "    </tr>\n",
              "    <tr>\n",
              "      <th>3071</th>\n",
              "      <td>4680c83dbd163933eee4cec77ca0f54d</td>\n",
              "      <td>5b2a31f785ae88451ce7c692c04aed39</td>\n",
              "      <td>99150</td>\n",
              "      <td>marau</td>\n",
              "      <td>RS</td>\n",
              "    </tr>\n",
              "    <tr>\n",
              "      <th>21261</th>\n",
              "      <td>fdffa2aa717e2d2f61a584ccc57c2404</td>\n",
              "      <td>3120f3746308b5457634762665d79cea</td>\n",
              "      <td>3077</td>\n",
              "      <td>sao paulo</td>\n",
              "      <td>SP</td>\n",
              "    </tr>\n",
              "    <tr>\n",
              "      <th>15197</th>\n",
              "      <td>9e93d4de75ecfbe7d59dce254b4cf320</td>\n",
              "      <td>defca48067abb00a3c58776cc2433a4b</td>\n",
              "      <td>81930</td>\n",
              "      <td>curitiba</td>\n",
              "      <td>PR</td>\n",
              "    </tr>\n",
              "  </tbody>\n",
              "</table>\n",
              "</div>"
            ],
            "text/plain": [
              "                            customer_id                customer_unique_id  \\\n",
              "28082  b9b977b5750b820d527dd864ed74c4c1  eceb50042675f24ba84998de4520465d   \n",
              "7586   48db5996674ec9678ed781d29f8489fa  db805b3c93209de1af0f032450f33cd3   \n",
              "3071   4680c83dbd163933eee4cec77ca0f54d  5b2a31f785ae88451ce7c692c04aed39   \n",
              "21261  fdffa2aa717e2d2f61a584ccc57c2404  3120f3746308b5457634762665d79cea   \n",
              "15197  9e93d4de75ecfbe7d59dce254b4cf320  defca48067abb00a3c58776cc2433a4b   \n",
              "\n",
              "       customer_zip_code_prefix customer_city customer_state  \n",
              "28082                     85955        maripa             PR  \n",
              "7586                      40150      salvador             BA  \n",
              "3071                      99150         marau             RS  \n",
              "21261                      3077     sao paulo             SP  \n",
              "15197                     81930      curitiba             PR  "
            ]
          },
          "execution_count": 25,
          "metadata": {},
          "output_type": "execute_result"
        }
      ],
      "source": [
        "data['customers'].sample(5)"
      ]
    },
    {
      "cell_type": "code",
      "execution_count": 26,
      "metadata": {
        "id": "6p5M_ezuWYp6",
        "outputId": "bf6127ea-8bdd-40b8-f209-0e681138602f"
      },
      "outputs": [
        {
          "data": {
            "text/html": [
              "<div>\n",
              "<style scoped>\n",
              "    .dataframe tbody tr th:only-of-type {\n",
              "        vertical-align: middle;\n",
              "    }\n",
              "\n",
              "    .dataframe tbody tr th {\n",
              "        vertical-align: top;\n",
              "    }\n",
              "\n",
              "    .dataframe thead th {\n",
              "        text-align: right;\n",
              "    }\n",
              "</style>\n",
              "<table border=\"1\" class=\"dataframe\">\n",
              "  <thead>\n",
              "    <tr style=\"text-align: right;\">\n",
              "      <th></th>\n",
              "      <th>geolocation_zip_code_prefix</th>\n",
              "      <th>geolocation_lat</th>\n",
              "      <th>geolocation_lng</th>\n",
              "      <th>geolocation_city</th>\n",
              "      <th>geolocation_state</th>\n",
              "    </tr>\n",
              "  </thead>\n",
              "  <tbody>\n",
              "    <tr>\n",
              "      <th>924899</th>\n",
              "      <td>89216</td>\n",
              "      <td>-26.294795</td>\n",
              "      <td>-48.880694</td>\n",
              "      <td>joinville</td>\n",
              "      <td>SC</td>\n",
              "    </tr>\n",
              "    <tr>\n",
              "      <th>57039</th>\n",
              "      <td>3425</td>\n",
              "      <td>-23.559669</td>\n",
              "      <td>-46.540295</td>\n",
              "      <td>são paulo</td>\n",
              "      <td>SP</td>\n",
              "    </tr>\n",
              "    <tr>\n",
              "      <th>608504</th>\n",
              "      <td>36050</td>\n",
              "      <td>-21.730463</td>\n",
              "      <td>-43.349982</td>\n",
              "      <td>juiz de fora</td>\n",
              "      <td>MG</td>\n",
              "    </tr>\n",
              "    <tr>\n",
              "      <th>996194</th>\n",
              "      <td>99050</td>\n",
              "      <td>-28.242174</td>\n",
              "      <td>-52.393513</td>\n",
              "      <td>passo fundo</td>\n",
              "      <td>RS</td>\n",
              "    </tr>\n",
              "    <tr>\n",
              "      <th>837175</th>\n",
              "      <td>79304</td>\n",
              "      <td>-19.003822</td>\n",
              "      <td>-57.631397</td>\n",
              "      <td>corumba</td>\n",
              "      <td>MS</td>\n",
              "    </tr>\n",
              "  </tbody>\n",
              "</table>\n",
              "</div>"
            ],
            "text/plain": [
              "        geolocation_zip_code_prefix  geolocation_lat  geolocation_lng  \\\n",
              "924899                        89216       -26.294795       -48.880694   \n",
              "57039                          3425       -23.559669       -46.540295   \n",
              "608504                        36050       -21.730463       -43.349982   \n",
              "996194                        99050       -28.242174       -52.393513   \n",
              "837175                        79304       -19.003822       -57.631397   \n",
              "\n",
              "       geolocation_city geolocation_state  \n",
              "924899        joinville                SC  \n",
              "57039         são paulo                SP  \n",
              "608504     juiz de fora                MG  \n",
              "996194      passo fundo                RS  \n",
              "837175          corumba                MS  "
            ]
          },
          "execution_count": 26,
          "metadata": {},
          "output_type": "execute_result"
        }
      ],
      "source": [
        "data['geo'].sample(5)"
      ]
    },
    {
      "cell_type": "markdown",
      "metadata": {
        "id": "UR7ItTgAWYp6"
      },
      "source": [
        "# Visualization and Explanatory Analysis"
      ]
    },
    {
      "cell_type": "markdown",
      "metadata": {
        "id": "X4wtLVPlWYp7"
      },
      "source": [
        "##### 1. How do customer locations (zip codes) affect order delivery times?"
      ]
    },
    {
      "cell_type": "code",
      "execution_count": 27,
      "metadata": {
        "id": "yxFdQ3DEWYqU"
      },
      "outputs": [],
      "source": [
        "# merge orders and geolocation datasets\n",
        "order_geo = orders.merge(customers, on='customer_id').merge(geolocation, left_on='customer_zip_code_prefix', right_on='geolocation_zip_code_prefix')\n",
        "\n",
        "# calculate the difference in time between order and delivery\n",
        "order_geo['delivery_time'] = (pd.to_datetime(order_geo['order_delivered_customer_date']) - pd.to_datetime(order_geo['order_purchase_timestamp'])).dt.days\n",
        "\n",
        "# calculate average delivery time by zip code and state\n",
        "delivery_time_by_zip = order_geo.groupby(['customer_zip_code_prefix', 'customer_state'])['delivery_time'].mean().reset_index()\n"
      ]
    },
    {
      "cell_type": "code",
      "execution_count": 28,
      "metadata": {},
      "outputs": [],
      "source": [
        "# get top 10\n",
        "top_10_delivery = delivery_time_by_zip.nlargest(10, 'delivery_time')"
      ]
    },
    {
      "cell_type": "code",
      "execution_count": 29,
      "metadata": {
        "id": "srTcV8JKWYqV",
        "outputId": "62fd7217-9376-455e-bb5e-1267451a4950"
      },
      "outputs": [
        {
          "data": {
            "image/png": "[encoded data removed]",
            "text/plain": [
              "<Figure size 1200x600 with 1 Axes>"
            ]
          },
          "metadata": {},
          "output_type": "display_data"
        }
      ],
      "source": [
        "#the visualization\n",
        "plt.figure(figsize=(12, 6))\n",
        "sns.barplot(data=top_10_delivery, x='customer_zip_code_prefix', y='delivery_time', hue='customer_state', palette='viridis')\n",
        "plt.title('Top 10 Average Delivery Time by Zip Code and State')\n",
        "plt.xlabel('Zip Code')\n",
        "plt.ylabel('Average Delivery Time (days)')\n",
        "plt.xticks(rotation=45)\n",
        "plt.legend(title='State')\n",
        "plt.show()"
      ]
    },
    {
      "cell_type": "markdown",
      "metadata": {
        "id": "3jelL5veWYqW"
      },
      "source": [
        "##### 2. What is the relationship between payment methods and customer satisfaction as indicated by review scores?"
      ]
    },
    {
      "cell_type": "code",
      "execution_count": 30,
      "metadata": {
        "id": "E7M-QCRUWYqX"
      },
      "outputs": [],
      "source": [
        "# merge order_payments and order_reviews datasets\n",
        "payment_review = orders.merge(order_reviews, on='order_id').merge(order_payments, on='order_id')\n",
        "\n",
        "# calculate average review scores by payment method\n",
        "avg_review_by_payment = payment_review.groupby('payment_type')['review_score'].mean().reset_index()"
      ]
    },
    {
      "cell_type": "code",
      "execution_count": 31,
      "metadata": {
        "id": "yqYeTlngWYqY",
        "outputId": "bc8af034-50b4-4c1f-a7fc-9ad368cdd36e"
      },
      "outputs": [
        {
          "name": "stderr",
          "output_type": "stream",
          "text": [
            "C:\\Users\\User\\AppData\\Local\\Temp\\ipykernel_8752\\1216571569.py:3: FutureWarning: \n",
            "\n",
            "Passing `palette` without assigning `hue` is deprecated and will be removed in v0.14.0. Assign the `x` variable to `hue` and set `legend=False` for the same effect.\n",
            "\n",
            "  sns.barplot(data=avg_review_by_payment, x='payment_type', y='review_score', palette='coolwarm')\n"
          ]
        },
        {
          "data": {
            "image/png": "[encoded data removed]",
            "text/plain": [
              "<Figure size 1000x600 with 1 Axes>"
            ]
          },
          "metadata": {},
          "output_type": "display_data"
        }
      ],
      "source": [
        "# the visualization\n",
        "plt.figure(figsize=(10, 6))\n",
        "sns.barplot(data=avg_review_by_payment, x='payment_type', y='review_score', palette='coolwarm')\n",
        "plt.title('Average Review Scores by Payment Method')\n",
        "plt.xlabel('Payment Method')\n",
        "plt.ylabel('Average Review Score')\n",
        "plt.xticks(rotation=45)\n",
        "plt.show()"
      ]
    },
    {
      "cell_type": "markdown",
      "metadata": {
        "id": "kjsRRNGqWYqa"
      },
      "source": [
        "##### 3. Which product categories generate the highest revenue and how does this correlate with the number of reviews?"
      ]
    },
    {
      "cell_type": "code",
      "execution_count": 32,
      "metadata": {
        "id": "Kfwzd6yAWYqb"
      },
      "outputs": [
        {
          "name": "stdout",
          "output_type": "stream",
          "text": [
            "Index(['product_category_name', 'total_reviews', 'total_revenue'], dtype='object')\n"
          ]
        }
      ],
      "source": [
        "# merge order_items, products, and order_reviews datasets\n",
        "revenue_reviews = order_items.merge(products, on='product_id').merge(order_reviews, on='order_id')\n",
        "\n",
        "# calculate total revenue and number of reviews by product category\n",
        "category_revenue = revenue_reviews.groupby('product_category_name')['price'].sum().reset_index()\n",
        "category_reviews = revenue_reviews.groupby('product_category_name')['review_id'].count().reset_index()\n",
        "\n",
        "# merge revenue and review counts\n",
        "category_summary = category_revenue.merge(category_reviews, on='product_category_name')\n",
        "\n",
        "# group by the product category\n",
        "category_summary = category_summary.groupby('product_category_name').agg(\n",
        "    total_reviews=('review_id', 'count'),  # Count the number of reviews\n",
        "    total_revenue=('price', 'sum')         # Sum the total revenue based on price\n",
        ").reset_index()\n",
        "\n",
        "top_10_categories = category_summary.sort_values(by='total_reviews', ascending=False).head(10)\n",
        "print(category_summary.columns)"
      ]
    },
    {
      "cell_type": "code",
      "execution_count": 33,
      "metadata": {
        "id": "52zgiYKmWYqc",
        "outputId": "c9ca7493-2f0a-4be4-b2c8-a7084a37a8ef"
      },
      "outputs": [
        {
          "data": {
            "image/png": "[encoded data removed]",
            "text/plain": [
              "<Figure size 1200x600 with 1 Axes>"
            ]
          },
          "metadata": {},
          "output_type": "display_data"
        }
      ],
      "source": [
        "# the visualization\n",
        "plt.figure(figsize=(12, 6))\n",
        "sns.scatterplot(data=top_10_categories, x='total_reviews', y='total_revenue', hue='product_category_name', palette='Set1', s=100)\n",
        "plt.title('Top 10 Categories: Correlation Between Number of Reviews and Revenue')\n",
        "plt.xlabel('Number of Reviews')\n",
        "plt.ylabel('Total Revenue')\n",
        "plt.show()"
      ]
    },
    {
      "cell_type": "markdown",
      "metadata": {
        "id": "Jjy22y9FWYqd"
      },
      "source": [
        "##### 4. What are the top-selling product categories, and how can we optimize our product offerings?"
      ]
    },
    {
      "cell_type": "code",
      "execution_count": 34,
      "metadata": {
        "id": "IIhfCVI3WYqd"
      },
      "outputs": [],
      "source": [
        "# merge order_items with products to get product categories\n",
        "order_items_products = pd.merge(data['items'], data['products'], on='product_id')\n",
        "\n",
        "# get top 10 product categories by items sold \n",
        "top_categories = order_items_products['product_category_name'].value_counts().head(10)"
      ]
    },
    {
      "cell_type": "code",
      "execution_count": 35,
      "metadata": {
        "id": "2sA-gv-bWYqe",
        "outputId": "5acf4d53-92a9-4580-97dd-f2b35233d2f7"
      },
      "outputs": [
        {
          "name": "stderr",
          "output_type": "stream",
          "text": [
            "C:\\Users\\User\\AppData\\Local\\Temp\\ipykernel_8752\\4283879697.py:3: FutureWarning: \n",
            "\n",
            "Passing `palette` without assigning `hue` is deprecated and will be removed in v0.14.0. Assign the `x` variable to `hue` and set `legend=False` for the same effect.\n",
            "\n",
            "  sns.barplot(x=top_categories.index, y=top_categories.values, palette=\"magma\")\n"
          ]
        },
        {
          "data": {
            "image/png": "[encoded data removed]",
            "text/plain": [
              "<Figure size 1000x600 with 1 Axes>"
            ]
          },
          "metadata": {},
          "output_type": "display_data"
        }
      ],
      "source": [
        "# visualization\n",
        "plt.figure(figsize=(10, 6))\n",
        "sns.barplot(x=top_categories.index, y=top_categories.values, palette=\"magma\")\n",
        "plt.title(\"Top Selling Product Categories\")\n",
        "plt.ylabel('Number of Items Sold')\n",
        "plt.xlabel('Product Category')\n",
        "plt.xticks(rotation=45)\n",
        "plt.show()"
      ]
    },
    {
      "cell_type": "markdown",
      "metadata": {
        "id": "kvPiBGK6WYqf"
      },
      "source": [
        "##### 5. What is the distribution of customer orders by geographic location, and how can we improve delivery efficiency?"
      ]
    },
    {
      "cell_type": "code",
      "execution_count": 36,
      "metadata": {
        "id": "KmydovmoWYqg",
        "outputId": "6af109a7-4a85-4031-b214-1912775b83c5"
      },
      "outputs": [
        {
          "data": {
            "text/plain": [
              "(8, 2)"
            ]
          },
          "execution_count": 36,
          "metadata": {},
          "output_type": "execute_result"
        }
      ],
      "source": [
        "# process Geolocation Data\n",
        "other_state_geolocation = data['geo'].groupby(['geolocation_zip_code_prefix'])['geolocation_state'].nunique().reset_index(name='count')\n",
        "other_state_geolocation[other_state_geolocation['count'] >= 2].shape"
      ]
    },
    {
      "cell_type": "code",
      "execution_count": 37,
      "metadata": {
        "id": "xIpDufvfWYqh"
      },
      "outputs": [],
      "source": [
        "# max state based on geolocation_zip_code_prefix\n",
        "max_state = data['geo'].groupby(['geolocation_zip_code_prefix', 'geolocation_state']).size().reset_index(name='count').drop_duplicates(subset='geolocation_zip_code_prefix').drop('count', axis=1)"
      ]
    },
    {
      "cell_type": "code",
      "execution_count": 38,
      "metadata": {
        "id": "lu4IL-CZWYqi"
      },
      "outputs": [],
      "source": [
        "# aggregate geolocation data to get median lat and lng\n",
        "geolocation_silver = data['geo'].groupby(['geolocation_zip_code_prefix', 'geolocation_city', 'geolocation_state'])[['geolocation_lat', 'geolocation_lng']].median().reset_index()\n",
        "geolocation_silver = geolocation_silver.merge(max_state, on=['geolocation_zip_code_prefix', 'geolocation_state'], how='inner')"
      ]
    },
    {
      "cell_type": "code",
      "execution_count": 39,
      "metadata": {
        "id": "iLNkLxT8WYqj"
      },
      "outputs": [],
      "source": [
        "# merge geolocation data with customers data\n",
        "customers_silver = data['customers'].merge(geolocation_silver, left_on='customer_zip_code_prefix', right_on='geolocation_zip_code_prefix', how='inner')"
      ]
    },
    {
      "cell_type": "code",
      "execution_count": 40,
      "metadata": {
        "id": "FndknxUxWYqj",
        "outputId": "b1bd6a7b-9495-4be2-d930-1ec95b777460"
      },
      "outputs": [
        {
          "name": "stderr",
          "output_type": "stream",
          "text": [
            "C:\\Users\\User\\AppData\\Roaming\\Python\\Python312\\site-packages\\IPython\\core\\pylabtools.py:152: UserWarning: Creating legend with loc=\"best\" can be slow with large amounts of data.\n",
            "  fig.canvas.print_figure(bytes_io, **kw)\n"
          ]
        },
        {
          "data": {
            "image/png": "[encoded data removed]",
            "text/plain": [
              "<Figure size 1000x800 with 1 Axes>"
            ]
          },
          "metadata": {},
          "output_type": "display_data"
        }
      ],
      "source": [
        "# the visualization\n",
        "plt.figure(figsize=(10, 8))\n",
        "sns.scatterplot(data=customers_silver, x='geolocation_lng', y='geolocation_lat', hue='geolocation_state', palette='coolwarm', s=100, edgecolor='k', alpha=0.6)\n",
        "plt.title('Customer Distribution by Geolocation')\n",
        "plt.xlabel('Longitude')\n",
        "plt.ylabel('Latitude')\n",
        "plt.show()\n"
      ]
    },
    {
      "cell_type": "markdown",
      "metadata": {
        "id": "085Ot1gDWYqk"
      },
      "source": [
        "# Conclusion"
      ]
    },
    {
      "cell_type": "markdown",
      "metadata": {
        "id": "oPHqqHEcWYql"
      },
      "source": [
        "##### 1. How do customer locations (zip codes) affect order delivery times?\n",
        "\n",
        "_The graph shows that average delivery times vary significantly by zip code and state. While some regions, such as **São Paulo (SP) and Rio de Janeiro (RJ),** generally **have shorter delivery times**, there are outliers with longer durations. Other states, like **Amazonas (AM) and Roraima (RR),** consistently **have longer delivery times due to geographical challenges.** To improve delivery efficiency, consider optimizing routes based on these patterns, investing in infrastructure in remote areas, and partnering with local logistics providers to improve last-mile delivery._"
      ]
    },
    {
      "cell_type": "markdown",
      "metadata": {
        "id": "88R2SxI9WYqn"
      },
      "source": [
        "##### 2. What is the relationship between payment methods and customer satisfaction as indicated by review scores?\n",
        "\n",
        "_The bar chart shows that **customers using credit cards and vouchers** tend to **have higher average review scores** compared to those using boleto or debit cards. This suggests that these payment methods may be associated with a more positive customer experience. To improve overall customer satisfaction, consider analyzing the reasons for lower review scores associated with specific payment methods and taking steps to address any underlying issues. This could involve improving the payment process, providing better customer support, or offering incentives for using certain payment methods._"
      ]
    },
    {
      "cell_type": "markdown",
      "metadata": {
        "id": "1SNIE0YPWYqo"
      },
      "source": [
        "##### 3. Which product categories generate the highest revenue and how does this correlate with the number of reviews?\n",
        "\n",
        "_The scatter plot shows a general positive correlation between the number of reviews and total revenue across most product categories. However, there are outliers with high revenue but relatively few reviews, suggesting other factors may influence sales. Categories like **\"informatica_acessorios\" (Computer and accessories) and \"eletronicos\" (Electronics)** consistently **generate high revenue**, often **with a significant number of reviews.** Analyzing these patterns can help identify product categories with potential for growth and inform marketing strategies to increase both reviews and revenue._"
      ]
    },
    {
      "cell_type": "markdown",
      "metadata": {
        "id": "J7_O3RpfWYqp"
      },
      "source": [
        "#####  4. What are the top-selling product categories, and how can we optimize our product offerings?\n",
        "\n",
        "_Based on the chart, **\"cama_mesa_banho\" (Beds, tables, and bathroom) is the top-selling product category.** To optimize product offerings, **focus on increasing inventory and variety for high-performing categories, analyze and improve underperforming ones, leverage data insights, and enhance customer experience.**_"
      ]
    },
    {
      "cell_type": "markdown",
      "metadata": {
        "id": "2-ZUFm4BWYqq"
      },
      "source": [
        "##### 5. What is the distribution of customer orders by geographic location, and how can we improve delivery efficiency?\n",
        "\n",
        "_The scatter plot shows a concentration of customer orders in the **southeastern regions of Brazil, particularly in São Paulo (SP), Minas Gerais (MG), Rio de Janeiro (RJ), Paraná (PR), and Santa Catarina (SC).** To improve delivery efficiency, **consider optimizing delivery routes within these regions, establishing regional distribution centers, and partnering with local logistics providers.**_"
      ]
    }
  ],
  "metadata": {
    "colab": {
      "provenance": []
    },
    "kernelspec": {
      "display_name": "Python 3",
      "language": "python",
      "name": "python3"
    },
    "language_info": {
      "codemirror_mode": {
        "name": "ipython",
        "version": 3
      },
      "file_extension": ".py",
      "mimetype": "text/x-python",
      "name": "python",
      "nbconvert_exporter": "python",
      "pygments_lexer": "ipython3",
      "version": "3.12.3"
    }
  },
  "nbformat": 4,
  "nbformat_minor": 0
}
