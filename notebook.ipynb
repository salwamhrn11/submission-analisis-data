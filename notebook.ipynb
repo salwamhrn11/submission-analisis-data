{
  "cells": [
    {
      "cell_type": "markdown",
      "metadata": {},
      "source": [
        "## Proyek Analisis Data: E-commerce Public\n",
        "- Nama                : Salwa Maharani\n",
        "- Email               : salwamaharani920@gmail.com\n",
        "- ID Dicoding         : salwamhrn"
      ]
    },
    {
      "cell_type": "markdown",
      "metadata": {
        "id": "cjw_H5GYWYov"
      },
      "source": [
        "# Defining Business Questions\n",
        "\n",
        "1. How do customer locations (zip codes) affect order delivery times across different states?\n",
        "2. What is the relationship between payment methods and customer satisfaction as indicated by review scores?\n",
        "3. Which product categories generate the highest revenue and how does this correlate with the number of reviews?\n",
        "4. What are the top-selling product categories, and how can we optimize our product offerings?"
      ]
    },
    {
      "cell_type": "markdown",
      "metadata": {
        "id": "mOH9jOHjWYpH"
      },
      "source": [
        "# 1. Data Wrangling"
      ]
    },
    {
      "cell_type": "markdown",
      "metadata": {
        "id": "AkiCupfGWYpJ"
      },
      "source": [
        "## 1.1 Gathering Data"
      ]
    },
    {
      "cell_type": "code",
      "execution_count": 1,
      "metadata": {
        "id": "IevP13grWYpL"
      },
      "outputs": [],
      "source": [
        "import pandas as pd\n",
        "import matplotlib.pyplot as plt\n",
        "import seaborn as sns\n",
        "\n",
        "# load datasets\n",
        "customers = pd.read_csv('data/customers_dataset.csv')\n",
        "geolocation = pd.read_csv('data/geolocation_dataset.csv')\n",
        "order_items = pd.read_csv('data/order_items_dataset.csv')\n",
        "order_payments = pd.read_csv('data/order_payments_dataset.csv')\n",
        "order_reviews = pd.read_csv('data/order_reviews_dataset.csv')\n",
        "orders = pd.read_csv('data/orders_dataset.csv')\n",
        "products = pd.read_csv('data/products_dataset.csv')\n",
        "sellers = pd.read_csv('data/sellers_dataset.csv')\n",
        "category = pd.read_csv('data/product_category_name_translation.csv')"
      ]
    },
    {
      "cell_type": "code",
      "execution_count": 2,
      "metadata": {
        "id": "5i5ZY0t6WYpR"
      },
      "outputs": [],
      "source": [
        "# store datasets in a dictionary\n",
        "data = {\n",
        "        'customers' : customers,\n",
        "        'geo' : geolocation,\n",
        "        'items' : order_items,\n",
        "        'payments' : order_payments,\n",
        "        'reviews' : order_reviews,\n",
        "        'orders' : orders,\n",
        "        'products' : products,\n",
        "        'sellers' : sellers,\n",
        "        'category' : category\n",
        "}"
      ]
    },
    {
      "cell_type": "code",
      "execution_count": 3,
      "metadata": {
        "id": "iWW1iCuSWYpT",
        "outputId": "e1e5a42a-ccaf-4ee8-e356-114ebdf0c966"
      },
      "outputs": [
        {
          "data": {
            "text/html": [
              "<div>\n",
              "<style scoped>\n",
              "    .dataframe tbody tr th:only-of-type {\n",
              "        vertical-align: middle;\n",
              "    }\n",
              "\n",
              "    .dataframe tbody tr th {\n",
              "        vertical-align: top;\n",
              "    }\n",
              "\n",
              "    .dataframe thead th {\n",
              "        text-align: right;\n",
              "    }\n",
              "</style>\n",
              "<table border=\"1\" class=\"dataframe\">\n",
              "  <thead>\n",
              "    <tr style=\"text-align: right;\">\n",
              "      <th></th>\n",
              "      <th>customer_id</th>\n",
              "      <th>customer_unique_id</th>\n",
              "      <th>customer_zip_code_prefix</th>\n",
              "      <th>customer_city</th>\n",
              "      <th>customer_state</th>\n",
              "    </tr>\n",
              "  </thead>\n",
              "  <tbody>\n",
              "    <tr>\n",
              "      <th>0</th>\n",
              "      <td>06b8999e2fba1a1fbc88172c00ba8bc7</td>\n",
              "      <td>861eff4711a542e4b93843c6dd7febb0</td>\n",
              "      <td>14409</td>\n",
              "      <td>franca</td>\n",
              "      <td>SP</td>\n",
              "    </tr>\n",
              "    <tr>\n",
              "      <th>1</th>\n",
              "      <td>18955e83d337fd6b2def6b18a428ac77</td>\n",
              "      <td>290c77bc529b7ac935b93aa66c333dc3</td>\n",
              "      <td>9790</td>\n",
              "      <td>sao bernardo do campo</td>\n",
              "      <td>SP</td>\n",
              "    </tr>\n",
              "    <tr>\n",
              "      <th>2</th>\n",
              "      <td>4e7b3e00288586ebd08712fdd0374a03</td>\n",
              "      <td>060e732b5b29e8181a18229c7b0b2b5e</td>\n",
              "      <td>1151</td>\n",
              "      <td>sao paulo</td>\n",
              "      <td>SP</td>\n",
              "    </tr>\n",
              "    <tr>\n",
              "      <th>3</th>\n",
              "      <td>b2b6027bc5c5109e529d4dc6358b12c3</td>\n",
              "      <td>259dac757896d24d7702b9acbbff3f3c</td>\n",
              "      <td>8775</td>\n",
              "      <td>mogi das cruzes</td>\n",
              "      <td>SP</td>\n",
              "    </tr>\n",
              "    <tr>\n",
              "      <th>4</th>\n",
              "      <td>4f2d8ab171c80ec8364f7c12e35b23ad</td>\n",
              "      <td>345ecd01c38d18a9036ed96c73b8d066</td>\n",
              "      <td>13056</td>\n",
              "      <td>campinas</td>\n",
              "      <td>SP</td>\n",
              "    </tr>\n",
              "  </tbody>\n",
              "</table>\n",
              "</div>"
            ],
            "text/plain": [
              "                        customer_id                customer_unique_id  \\\n",
              "0  06b8999e2fba1a1fbc88172c00ba8bc7  861eff4711a542e4b93843c6dd7febb0   \n",
              "1  18955e83d337fd6b2def6b18a428ac77  290c77bc529b7ac935b93aa66c333dc3   \n",
              "2  4e7b3e00288586ebd08712fdd0374a03  060e732b5b29e8181a18229c7b0b2b5e   \n",
              "3  b2b6027bc5c5109e529d4dc6358b12c3  259dac757896d24d7702b9acbbff3f3c   \n",
              "4  4f2d8ab171c80ec8364f7c12e35b23ad  345ecd01c38d18a9036ed96c73b8d066   \n",
              "\n",
              "   customer_zip_code_prefix          customer_city customer_state  \n",
              "0                     14409                 franca             SP  \n",
              "1                      9790  sao bernardo do campo             SP  \n",
              "2                      1151              sao paulo             SP  \n",
              "3                      8775        mogi das cruzes             SP  \n",
              "4                     13056               campinas             SP  "
            ]
          },
          "execution_count": 3,
          "metadata": {},
          "output_type": "execute_result"
        }
      ],
      "source": [
        "data['customers'].head()"
      ]
    },
    {
      "cell_type": "code",
      "execution_count": 4,
      "metadata": {
        "id": "DbXl69_YWYpY",
        "outputId": "64460782-770d-431f-b8b1-10492934ec33"
      },
      "outputs": [
        {
          "data": {
            "text/html": [
              "<div>\n",
              "<style scoped>\n",
              "    .dataframe tbody tr th:only-of-type {\n",
              "        vertical-align: middle;\n",
              "    }\n",
              "\n",
              "    .dataframe tbody tr th {\n",
              "        vertical-align: top;\n",
              "    }\n",
              "\n",
              "    .dataframe thead th {\n",
              "        text-align: right;\n",
              "    }\n",
              "</style>\n",
              "<table border=\"1\" class=\"dataframe\">\n",
              "  <thead>\n",
              "    <tr style=\"text-align: right;\">\n",
              "      <th></th>\n",
              "      <th>geolocation_zip_code_prefix</th>\n",
              "      <th>geolocation_lat</th>\n",
              "      <th>geolocation_lng</th>\n",
              "      <th>geolocation_city</th>\n",
              "      <th>geolocation_state</th>\n",
              "    </tr>\n",
              "  </thead>\n",
              "  <tbody>\n",
              "    <tr>\n",
              "      <th>0</th>\n",
              "      <td>1037</td>\n",
              "      <td>-23.545621</td>\n",
              "      <td>-46.639292</td>\n",
              "      <td>sao paulo</td>\n",
              "      <td>SP</td>\n",
              "    </tr>\n",
              "    <tr>\n",
              "      <th>1</th>\n",
              "      <td>1046</td>\n",
              "      <td>-23.546081</td>\n",
              "      <td>-46.644820</td>\n",
              "      <td>sao paulo</td>\n",
              "      <td>SP</td>\n",
              "    </tr>\n",
              "    <tr>\n",
              "      <th>2</th>\n",
              "      <td>1046</td>\n",
              "      <td>-23.546129</td>\n",
              "      <td>-46.642951</td>\n",
              "      <td>sao paulo</td>\n",
              "      <td>SP</td>\n",
              "    </tr>\n",
              "    <tr>\n",
              "      <th>3</th>\n",
              "      <td>1041</td>\n",
              "      <td>-23.544392</td>\n",
              "      <td>-46.639499</td>\n",
              "      <td>sao paulo</td>\n",
              "      <td>SP</td>\n",
              "    </tr>\n",
              "    <tr>\n",
              "      <th>4</th>\n",
              "      <td>1035</td>\n",
              "      <td>-23.541578</td>\n",
              "      <td>-46.641607</td>\n",
              "      <td>sao paulo</td>\n",
              "      <td>SP</td>\n",
              "    </tr>\n",
              "  </tbody>\n",
              "</table>\n",
              "</div>"
            ],
            "text/plain": [
              "   geolocation_zip_code_prefix  geolocation_lat  geolocation_lng  \\\n",
              "0                         1037       -23.545621       -46.639292   \n",
              "1                         1046       -23.546081       -46.644820   \n",
              "2                         1046       -23.546129       -46.642951   \n",
              "3                         1041       -23.544392       -46.639499   \n",
              "4                         1035       -23.541578       -46.641607   \n",
              "\n",
              "  geolocation_city geolocation_state  \n",
              "0        sao paulo                SP  \n",
              "1        sao paulo                SP  \n",
              "2        sao paulo                SP  \n",
              "3        sao paulo                SP  \n",
              "4        sao paulo                SP  "
            ]
          },
          "execution_count": 4,
          "metadata": {},
          "output_type": "execute_result"
        }
      ],
      "source": [
        "data['geo'].head()"
      ]
    },
    {
      "cell_type": "code",
      "execution_count": 5,
      "metadata": {
        "id": "NvKfwT0qWYpb",
        "outputId": "dc0b4157-5022-4187-925f-21914ec04acf"
      },
      "outputs": [
        {
          "data": {
            "text/html": [
              "<div>\n",
              "<style scoped>\n",
              "    .dataframe tbody tr th:only-of-type {\n",
              "        vertical-align: middle;\n",
              "    }\n",
              "\n",
              "    .dataframe tbody tr th {\n",
              "        vertical-align: top;\n",
              "    }\n",
              "\n",
              "    .dataframe thead th {\n",
              "        text-align: right;\n",
              "    }\n",
              "</style>\n",
              "<table border=\"1\" class=\"dataframe\">\n",
              "  <thead>\n",
              "    <tr style=\"text-align: right;\">\n",
              "      <th></th>\n",
              "      <th>order_id</th>\n",
              "      <th>order_item_id</th>\n",
              "      <th>product_id</th>\n",
              "      <th>seller_id</th>\n",
              "      <th>shipping_limit_date</th>\n",
              "      <th>price</th>\n",
              "      <th>freight_value</th>\n",
              "    </tr>\n",
              "  </thead>\n",
              "  <tbody>\n",
              "    <tr>\n",
              "      <th>0</th>\n",
              "      <td>00010242fe8c5a6d1ba2dd792cb16214</td>\n",
              "      <td>1</td>\n",
              "      <td>4244733e06e7ecb4970a6e2683c13e61</td>\n",
              "      <td>48436dade18ac8b2bce089ec2a041202</td>\n",
              "      <td>2017-09-19 09:45:35</td>\n",
              "      <td>58.90</td>\n",
              "      <td>13.29</td>\n",
              "    </tr>\n",
              "    <tr>\n",
              "      <th>1</th>\n",
              "      <td>00018f77f2f0320c557190d7a144bdd3</td>\n",
              "      <td>1</td>\n",
              "      <td>e5f2d52b802189ee658865ca93d83a8f</td>\n",
              "      <td>dd7ddc04e1b6c2c614352b383efe2d36</td>\n",
              "      <td>2017-05-03 11:05:13</td>\n",
              "      <td>239.90</td>\n",
              "      <td>19.93</td>\n",
              "    </tr>\n",
              "    <tr>\n",
              "      <th>2</th>\n",
              "      <td>000229ec398224ef6ca0657da4fc703e</td>\n",
              "      <td>1</td>\n",
              "      <td>c777355d18b72b67abbeef9df44fd0fd</td>\n",
              "      <td>5b51032eddd242adc84c38acab88f23d</td>\n",
              "      <td>2018-01-18 14:48:30</td>\n",
              "      <td>199.00</td>\n",
              "      <td>17.87</td>\n",
              "    </tr>\n",
              "    <tr>\n",
              "      <th>3</th>\n",
              "      <td>00024acbcdf0a6daa1e931b038114c75</td>\n",
              "      <td>1</td>\n",
              "      <td>7634da152a4610f1595efa32f14722fc</td>\n",
              "      <td>9d7a1d34a5052409006425275ba1c2b4</td>\n",
              "      <td>2018-08-15 10:10:18</td>\n",
              "      <td>12.99</td>\n",
              "      <td>12.79</td>\n",
              "    </tr>\n",
              "    <tr>\n",
              "      <th>4</th>\n",
              "      <td>00042b26cf59d7ce69dfabb4e55b4fd9</td>\n",
              "      <td>1</td>\n",
              "      <td>ac6c3623068f30de03045865e4e10089</td>\n",
              "      <td>df560393f3a51e74553ab94004ba5c87</td>\n",
              "      <td>2017-02-13 13:57:51</td>\n",
              "      <td>199.90</td>\n",
              "      <td>18.14</td>\n",
              "    </tr>\n",
              "  </tbody>\n",
              "</table>\n",
              "</div>"
            ],
            "text/plain": [
              "                           order_id  order_item_id  \\\n",
              "0  00010242fe8c5a6d1ba2dd792cb16214              1   \n",
              "1  00018f77f2f0320c557190d7a144bdd3              1   \n",
              "2  000229ec398224ef6ca0657da4fc703e              1   \n",
              "3  00024acbcdf0a6daa1e931b038114c75              1   \n",
              "4  00042b26cf59d7ce69dfabb4e55b4fd9              1   \n",
              "\n",
              "                         product_id                         seller_id  \\\n",
              "0  4244733e06e7ecb4970a6e2683c13e61  48436dade18ac8b2bce089ec2a041202   \n",
              "1  e5f2d52b802189ee658865ca93d83a8f  dd7ddc04e1b6c2c614352b383efe2d36   \n",
              "2  c777355d18b72b67abbeef9df44fd0fd  5b51032eddd242adc84c38acab88f23d   \n",
              "3  7634da152a4610f1595efa32f14722fc  9d7a1d34a5052409006425275ba1c2b4   \n",
              "4  ac6c3623068f30de03045865e4e10089  df560393f3a51e74553ab94004ba5c87   \n",
              "\n",
              "   shipping_limit_date   price  freight_value  \n",
              "0  2017-09-19 09:45:35   58.90          13.29  \n",
              "1  2017-05-03 11:05:13  239.90          19.93  \n",
              "2  2018-01-18 14:48:30  199.00          17.87  \n",
              "3  2018-08-15 10:10:18   12.99          12.79  \n",
              "4  2017-02-13 13:57:51  199.90          18.14  "
            ]
          },
          "execution_count": 5,
          "metadata": {},
          "output_type": "execute_result"
        }
      ],
      "source": [
        "data['items'].head()"
      ]
    },
    {
      "cell_type": "code",
      "execution_count": 6,
      "metadata": {
        "id": "aBDbDmeoWYpd",
        "outputId": "2a5b35df-f802-4cfe-c6cc-383f386af75b"
      },
      "outputs": [
        {
          "data": {
            "text/html": [
              "<div>\n",
              "<style scoped>\n",
              "    .dataframe tbody tr th:only-of-type {\n",
              "        vertical-align: middle;\n",
              "    }\n",
              "\n",
              "    .dataframe tbody tr th {\n",
              "        vertical-align: top;\n",
              "    }\n",
              "\n",
              "    .dataframe thead th {\n",
              "        text-align: right;\n",
              "    }\n",
              "</style>\n",
              "<table border=\"1\" class=\"dataframe\">\n",
              "  <thead>\n",
              "    <tr style=\"text-align: right;\">\n",
              "      <th></th>\n",
              "      <th>order_id</th>\n",
              "      <th>payment_sequential</th>\n",
              "      <th>payment_type</th>\n",
              "      <th>payment_installments</th>\n",
              "      <th>payment_value</th>\n",
              "    </tr>\n",
              "  </thead>\n",
              "  <tbody>\n",
              "    <tr>\n",
              "      <th>0</th>\n",
              "      <td>b81ef226f3fe1789b1e8b2acac839d17</td>\n",
              "      <td>1</td>\n",
              "      <td>credit_card</td>\n",
              "      <td>8</td>\n",
              "      <td>99.33</td>\n",
              "    </tr>\n",
              "    <tr>\n",
              "      <th>1</th>\n",
              "      <td>a9810da82917af2d9aefd1278f1dcfa0</td>\n",
              "      <td>1</td>\n",
              "      <td>credit_card</td>\n",
              "      <td>1</td>\n",
              "      <td>24.39</td>\n",
              "    </tr>\n",
              "    <tr>\n",
              "      <th>2</th>\n",
              "      <td>25e8ea4e93396b6fa0d3dd708e76c1bd</td>\n",
              "      <td>1</td>\n",
              "      <td>credit_card</td>\n",
              "      <td>1</td>\n",
              "      <td>65.71</td>\n",
              "    </tr>\n",
              "    <tr>\n",
              "      <th>3</th>\n",
              "      <td>ba78997921bbcdc1373bb41e913ab953</td>\n",
              "      <td>1</td>\n",
              "      <td>credit_card</td>\n",
              "      <td>8</td>\n",
              "      <td>107.78</td>\n",
              "    </tr>\n",
              "    <tr>\n",
              "      <th>4</th>\n",
              "      <td>42fdf880ba16b47b59251dd489d4441a</td>\n",
              "      <td>1</td>\n",
              "      <td>credit_card</td>\n",
              "      <td>2</td>\n",
              "      <td>128.45</td>\n",
              "    </tr>\n",
              "  </tbody>\n",
              "</table>\n",
              "</div>"
            ],
            "text/plain": [
              "                           order_id  payment_sequential payment_type  \\\n",
              "0  b81ef226f3fe1789b1e8b2acac839d17                   1  credit_card   \n",
              "1  a9810da82917af2d9aefd1278f1dcfa0                   1  credit_card   \n",
              "2  25e8ea4e93396b6fa0d3dd708e76c1bd                   1  credit_card   \n",
              "3  ba78997921bbcdc1373bb41e913ab953                   1  credit_card   \n",
              "4  42fdf880ba16b47b59251dd489d4441a                   1  credit_card   \n",
              "\n",
              "   payment_installments  payment_value  \n",
              "0                     8          99.33  \n",
              "1                     1          24.39  \n",
              "2                     1          65.71  \n",
              "3                     8         107.78  \n",
              "4                     2         128.45  "
            ]
          },
          "execution_count": 6,
          "metadata": {},
          "output_type": "execute_result"
        }
      ],
      "source": [
        "data['payments'].head()"
      ]
    },
    {
      "cell_type": "code",
      "execution_count": 7,
      "metadata": {
        "id": "wlF1hs1OWYpf",
        "outputId": "e495f10d-be57-4310-ad1b-9a56fa49be50"
      },
      "outputs": [
        {
          "data": {
            "text/html": [
              "<div>\n",
              "<style scoped>\n",
              "    .dataframe tbody tr th:only-of-type {\n",
              "        vertical-align: middle;\n",
              "    }\n",
              "\n",
              "    .dataframe tbody tr th {\n",
              "        vertical-align: top;\n",
              "    }\n",
              "\n",
              "    .dataframe thead th {\n",
              "        text-align: right;\n",
              "    }\n",
              "</style>\n",
              "<table border=\"1\" class=\"dataframe\">\n",
              "  <thead>\n",
              "    <tr style=\"text-align: right;\">\n",
              "      <th></th>\n",
              "      <th>review_id</th>\n",
              "      <th>order_id</th>\n",
              "      <th>review_score</th>\n",
              "      <th>review_comment_title</th>\n",
              "      <th>review_comment_message</th>\n",
              "      <th>review_creation_date</th>\n",
              "      <th>review_answer_timestamp</th>\n",
              "    </tr>\n",
              "  </thead>\n",
              "  <tbody>\n",
              "    <tr>\n",
              "      <th>0</th>\n",
              "      <td>7bc2406110b926393aa56f80a40eba40</td>\n",
              "      <td>73fc7af87114b39712e6da79b0a377eb</td>\n",
              "      <td>4</td>\n",
              "      <td>NaN</td>\n",
              "      <td>NaN</td>\n",
              "      <td>2018-01-18 00:00:00</td>\n",
              "      <td>2018-01-18 21:46:59</td>\n",
              "    </tr>\n",
              "    <tr>\n",
              "      <th>1</th>\n",
              "      <td>80e641a11e56f04c1ad469d5645fdfde</td>\n",
              "      <td>a548910a1c6147796b98fdf73dbeba33</td>\n",
              "      <td>5</td>\n",
              "      <td>NaN</td>\n",
              "      <td>NaN</td>\n",
              "      <td>2018-03-10 00:00:00</td>\n",
              "      <td>2018-03-11 03:05:13</td>\n",
              "    </tr>\n",
              "    <tr>\n",
              "      <th>2</th>\n",
              "      <td>228ce5500dc1d8e020d8d1322874b6f0</td>\n",
              "      <td>f9e4b658b201a9f2ecdecbb34bed034b</td>\n",
              "      <td>5</td>\n",
              "      <td>NaN</td>\n",
              "      <td>NaN</td>\n",
              "      <td>2018-02-17 00:00:00</td>\n",
              "      <td>2018-02-18 14:36:24</td>\n",
              "    </tr>\n",
              "    <tr>\n",
              "      <th>3</th>\n",
              "      <td>e64fb393e7b32834bb789ff8bb30750e</td>\n",
              "      <td>658677c97b385a9be170737859d3511b</td>\n",
              "      <td>5</td>\n",
              "      <td>NaN</td>\n",
              "      <td>Recebi bem antes do prazo estipulado.</td>\n",
              "      <td>2017-04-21 00:00:00</td>\n",
              "      <td>2017-04-21 22:02:06</td>\n",
              "    </tr>\n",
              "    <tr>\n",
              "      <th>4</th>\n",
              "      <td>f7c4243c7fe1938f181bec41a392bdeb</td>\n",
              "      <td>8e6bfb81e283fa7e4f11123a3fb894f1</td>\n",
              "      <td>5</td>\n",
              "      <td>NaN</td>\n",
              "      <td>Parabéns lojas lannister adorei comprar pela I...</td>\n",
              "      <td>2018-03-01 00:00:00</td>\n",
              "      <td>2018-03-02 10:26:53</td>\n",
              "    </tr>\n",
              "  </tbody>\n",
              "</table>\n",
              "</div>"
            ],
            "text/plain": [
              "                          review_id                          order_id  \\\n",
              "0  7bc2406110b926393aa56f80a40eba40  73fc7af87114b39712e6da79b0a377eb   \n",
              "1  80e641a11e56f04c1ad469d5645fdfde  a548910a1c6147796b98fdf73dbeba33   \n",
              "2  228ce5500dc1d8e020d8d1322874b6f0  f9e4b658b201a9f2ecdecbb34bed034b   \n",
              "3  e64fb393e7b32834bb789ff8bb30750e  658677c97b385a9be170737859d3511b   \n",
              "4  f7c4243c7fe1938f181bec41a392bdeb  8e6bfb81e283fa7e4f11123a3fb894f1   \n",
              "\n",
              "   review_score review_comment_title  \\\n",
              "0             4                  NaN   \n",
              "1             5                  NaN   \n",
              "2             5                  NaN   \n",
              "3             5                  NaN   \n",
              "4             5                  NaN   \n",
              "\n",
              "                              review_comment_message review_creation_date  \\\n",
              "0                                                NaN  2018-01-18 00:00:00   \n",
              "1                                                NaN  2018-03-10 00:00:00   \n",
              "2                                                NaN  2018-02-17 00:00:00   \n",
              "3              Recebi bem antes do prazo estipulado.  2017-04-21 00:00:00   \n",
              "4  Parabéns lojas lannister adorei comprar pela I...  2018-03-01 00:00:00   \n",
              "\n",
              "  review_answer_timestamp  \n",
              "0     2018-01-18 21:46:59  \n",
              "1     2018-03-11 03:05:13  \n",
              "2     2018-02-18 14:36:24  \n",
              "3     2017-04-21 22:02:06  \n",
              "4     2018-03-02 10:26:53  "
            ]
          },
          "execution_count": 7,
          "metadata": {},
          "output_type": "execute_result"
        }
      ],
      "source": [
        "data['reviews'].head()"
      ]
    },
    {
      "cell_type": "code",
      "execution_count": 8,
      "metadata": {
        "id": "4XFILHcNWYpg",
        "outputId": "ab83cd93-e777-4117-c182-dfe252639864"
      },
      "outputs": [
        {
          "data": {
            "text/html": [
              "<div>\n",
              "<style scoped>\n",
              "    .dataframe tbody tr th:only-of-type {\n",
              "        vertical-align: middle;\n",
              "    }\n",
              "\n",
              "    .dataframe tbody tr th {\n",
              "        vertical-align: top;\n",
              "    }\n",
              "\n",
              "    .dataframe thead th {\n",
              "        text-align: right;\n",
              "    }\n",
              "</style>\n",
              "<table border=\"1\" class=\"dataframe\">\n",
              "  <thead>\n",
              "    <tr style=\"text-align: right;\">\n",
              "      <th></th>\n",
              "      <th>order_id</th>\n",
              "      <th>customer_id</th>\n",
              "      <th>order_status</th>\n",
              "      <th>order_purchase_timestamp</th>\n",
              "      <th>order_approved_at</th>\n",
              "      <th>order_delivered_carrier_date</th>\n",
              "      <th>order_delivered_customer_date</th>\n",
              "      <th>order_estimated_delivery_date</th>\n",
              "    </tr>\n",
              "  </thead>\n",
              "  <tbody>\n",
              "    <tr>\n",
              "      <th>0</th>\n",
              "      <td>e481f51cbdc54678b7cc49136f2d6af7</td>\n",
              "      <td>9ef432eb6251297304e76186b10a928d</td>\n",
              "      <td>delivered</td>\n",
              "      <td>2017-10-02 10:56:33</td>\n",
              "      <td>2017-10-02 11:07:15</td>\n",
              "      <td>2017-10-04 19:55:00</td>\n",
              "      <td>2017-10-10 21:25:13</td>\n",
              "      <td>2017-10-18 00:00:00</td>\n",
              "    </tr>\n",
              "    <tr>\n",
              "      <th>1</th>\n",
              "      <td>53cdb2fc8bc7dce0b6741e2150273451</td>\n",
              "      <td>b0830fb4747a6c6d20dea0b8c802d7ef</td>\n",
              "      <td>delivered</td>\n",
              "      <td>2018-07-24 20:41:37</td>\n",
              "      <td>2018-07-26 03:24:27</td>\n",
              "      <td>2018-07-26 14:31:00</td>\n",
              "      <td>2018-08-07 15:27:45</td>\n",
              "      <td>2018-08-13 00:00:00</td>\n",
              "    </tr>\n",
              "    <tr>\n",
              "      <th>2</th>\n",
              "      <td>47770eb9100c2d0c44946d9cf07ec65d</td>\n",
              "      <td>41ce2a54c0b03bf3443c3d931a367089</td>\n",
              "      <td>delivered</td>\n",
              "      <td>2018-08-08 08:38:49</td>\n",
              "      <td>2018-08-08 08:55:23</td>\n",
              "      <td>2018-08-08 13:50:00</td>\n",
              "      <td>2018-08-17 18:06:29</td>\n",
              "      <td>2018-09-04 00:00:00</td>\n",
              "    </tr>\n",
              "    <tr>\n",
              "      <th>3</th>\n",
              "      <td>949d5b44dbf5de918fe9c16f97b45f8a</td>\n",
              "      <td>f88197465ea7920adcdbec7375364d82</td>\n",
              "      <td>delivered</td>\n",
              "      <td>2017-11-18 19:28:06</td>\n",
              "      <td>2017-11-18 19:45:59</td>\n",
              "      <td>2017-11-22 13:39:59</td>\n",
              "      <td>2017-12-02 00:28:42</td>\n",
              "      <td>2017-12-15 00:00:00</td>\n",
              "    </tr>\n",
              "    <tr>\n",
              "      <th>4</th>\n",
              "      <td>ad21c59c0840e6cb83a9ceb5573f8159</td>\n",
              "      <td>8ab97904e6daea8866dbdbc4fb7aad2c</td>\n",
              "      <td>delivered</td>\n",
              "      <td>2018-02-13 21:18:39</td>\n",
              "      <td>2018-02-13 22:20:29</td>\n",
              "      <td>2018-02-14 19:46:34</td>\n",
              "      <td>2018-02-16 18:17:02</td>\n",
              "      <td>2018-02-26 00:00:00</td>\n",
              "    </tr>\n",
              "  </tbody>\n",
              "</table>\n",
              "</div>"
            ],
            "text/plain": [
              "                           order_id                       customer_id  \\\n",
              "0  e481f51cbdc54678b7cc49136f2d6af7  9ef432eb6251297304e76186b10a928d   \n",
              "1  53cdb2fc8bc7dce0b6741e2150273451  b0830fb4747a6c6d20dea0b8c802d7ef   \n",
              "2  47770eb9100c2d0c44946d9cf07ec65d  41ce2a54c0b03bf3443c3d931a367089   \n",
              "3  949d5b44dbf5de918fe9c16f97b45f8a  f88197465ea7920adcdbec7375364d82   \n",
              "4  ad21c59c0840e6cb83a9ceb5573f8159  8ab97904e6daea8866dbdbc4fb7aad2c   \n",
              "\n",
              "  order_status order_purchase_timestamp    order_approved_at  \\\n",
              "0    delivered      2017-10-02 10:56:33  2017-10-02 11:07:15   \n",
              "1    delivered      2018-07-24 20:41:37  2018-07-26 03:24:27   \n",
              "2    delivered      2018-08-08 08:38:49  2018-08-08 08:55:23   \n",
              "3    delivered      2017-11-18 19:28:06  2017-11-18 19:45:59   \n",
              "4    delivered      2018-02-13 21:18:39  2018-02-13 22:20:29   \n",
              "\n",
              "  order_delivered_carrier_date order_delivered_customer_date  \\\n",
              "0          2017-10-04 19:55:00           2017-10-10 21:25:13   \n",
              "1          2018-07-26 14:31:00           2018-08-07 15:27:45   \n",
              "2          2018-08-08 13:50:00           2018-08-17 18:06:29   \n",
              "3          2017-11-22 13:39:59           2017-12-02 00:28:42   \n",
              "4          2018-02-14 19:46:34           2018-02-16 18:17:02   \n",
              "\n",
              "  order_estimated_delivery_date  \n",
              "0           2017-10-18 00:00:00  \n",
              "1           2018-08-13 00:00:00  \n",
              "2           2018-09-04 00:00:00  \n",
              "3           2017-12-15 00:00:00  \n",
              "4           2018-02-26 00:00:00  "
            ]
          },
          "execution_count": 8,
          "metadata": {},
          "output_type": "execute_result"
        }
      ],
      "source": [
        "data['orders'].head()"
      ]
    },
    {
      "cell_type": "code",
      "execution_count": 9,
      "metadata": {
        "id": "sJFXUgRsWYpi",
        "outputId": "908c9a64-b114-469d-b3b5-5f251b162ae0"
      },
      "outputs": [
        {
          "data": {
            "text/html": [
              "<div>\n",
              "<style scoped>\n",
              "    .dataframe tbody tr th:only-of-type {\n",
              "        vertical-align: middle;\n",
              "    }\n",
              "\n",
              "    .dataframe tbody tr th {\n",
              "        vertical-align: top;\n",
              "    }\n",
              "\n",
              "    .dataframe thead th {\n",
              "        text-align: right;\n",
              "    }\n",
              "</style>\n",
              "<table border=\"1\" class=\"dataframe\">\n",
              "  <thead>\n",
              "    <tr style=\"text-align: right;\">\n",
              "      <th></th>\n",
              "      <th>product_id</th>\n",
              "      <th>product_category_name</th>\n",
              "      <th>product_name_lenght</th>\n",
              "      <th>product_description_lenght</th>\n",
              "      <th>product_photos_qty</th>\n",
              "      <th>product_weight_g</th>\n",
              "      <th>product_length_cm</th>\n",
              "      <th>product_height_cm</th>\n",
              "      <th>product_width_cm</th>\n",
              "    </tr>\n",
              "  </thead>\n",
              "  <tbody>\n",
              "    <tr>\n",
              "      <th>0</th>\n",
              "      <td>1e9e8ef04dbcff4541ed26657ea517e5</td>\n",
              "      <td>perfumaria</td>\n",
              "      <td>40.0</td>\n",
              "      <td>287.0</td>\n",
              "      <td>1.0</td>\n",
              "      <td>225.0</td>\n",
              "      <td>16.0</td>\n",
              "      <td>10.0</td>\n",
              "      <td>14.0</td>\n",
              "    </tr>\n",
              "    <tr>\n",
              "      <th>1</th>\n",
              "      <td>3aa071139cb16b67ca9e5dea641aaa2f</td>\n",
              "      <td>artes</td>\n",
              "      <td>44.0</td>\n",
              "      <td>276.0</td>\n",
              "      <td>1.0</td>\n",
              "      <td>1000.0</td>\n",
              "      <td>30.0</td>\n",
              "      <td>18.0</td>\n",
              "      <td>20.0</td>\n",
              "    </tr>\n",
              "    <tr>\n",
              "      <th>2</th>\n",
              "      <td>96bd76ec8810374ed1b65e291975717f</td>\n",
              "      <td>esporte_lazer</td>\n",
              "      <td>46.0</td>\n",
              "      <td>250.0</td>\n",
              "      <td>1.0</td>\n",
              "      <td>154.0</td>\n",
              "      <td>18.0</td>\n",
              "      <td>9.0</td>\n",
              "      <td>15.0</td>\n",
              "    </tr>\n",
              "    <tr>\n",
              "      <th>3</th>\n",
              "      <td>cef67bcfe19066a932b7673e239eb23d</td>\n",
              "      <td>bebes</td>\n",
              "      <td>27.0</td>\n",
              "      <td>261.0</td>\n",
              "      <td>1.0</td>\n",
              "      <td>371.0</td>\n",
              "      <td>26.0</td>\n",
              "      <td>4.0</td>\n",
              "      <td>26.0</td>\n",
              "    </tr>\n",
              "    <tr>\n",
              "      <th>4</th>\n",
              "      <td>9dc1a7de274444849c219cff195d0b71</td>\n",
              "      <td>utilidades_domesticas</td>\n",
              "      <td>37.0</td>\n",
              "      <td>402.0</td>\n",
              "      <td>4.0</td>\n",
              "      <td>625.0</td>\n",
              "      <td>20.0</td>\n",
              "      <td>17.0</td>\n",
              "      <td>13.0</td>\n",
              "    </tr>\n",
              "  </tbody>\n",
              "</table>\n",
              "</div>"
            ],
            "text/plain": [
              "                         product_id  product_category_name  \\\n",
              "0  1e9e8ef04dbcff4541ed26657ea517e5             perfumaria   \n",
              "1  3aa071139cb16b67ca9e5dea641aaa2f                  artes   \n",
              "2  96bd76ec8810374ed1b65e291975717f          esporte_lazer   \n",
              "3  cef67bcfe19066a932b7673e239eb23d                  bebes   \n",
              "4  9dc1a7de274444849c219cff195d0b71  utilidades_domesticas   \n",
              "\n",
              "   product_name_lenght  product_description_lenght  product_photos_qty  \\\n",
              "0                 40.0                       287.0                 1.0   \n",
              "1                 44.0                       276.0                 1.0   \n",
              "2                 46.0                       250.0                 1.0   \n",
              "3                 27.0                       261.0                 1.0   \n",
              "4                 37.0                       402.0                 4.0   \n",
              "\n",
              "   product_weight_g  product_length_cm  product_height_cm  product_width_cm  \n",
              "0             225.0               16.0               10.0              14.0  \n",
              "1            1000.0               30.0               18.0              20.0  \n",
              "2             154.0               18.0                9.0              15.0  \n",
              "3             371.0               26.0                4.0              26.0  \n",
              "4             625.0               20.0               17.0              13.0  "
            ]
          },
          "execution_count": 9,
          "metadata": {},
          "output_type": "execute_result"
        }
      ],
      "source": [
        "data['products'].head()"
      ]
    },
    {
      "cell_type": "code",
      "execution_count": 10,
      "metadata": {
        "id": "jFa67VNYWYpk",
        "outputId": "1d07c1ca-4e28-4504-a91a-9eaab79d25fd"
      },
      "outputs": [
        {
          "data": {
            "text/html": [
              "<div>\n",
              "<style scoped>\n",
              "    .dataframe tbody tr th:only-of-type {\n",
              "        vertical-align: middle;\n",
              "    }\n",
              "\n",
              "    .dataframe tbody tr th {\n",
              "        vertical-align: top;\n",
              "    }\n",
              "\n",
              "    .dataframe thead th {\n",
              "        text-align: right;\n",
              "    }\n",
              "</style>\n",
              "<table border=\"1\" class=\"dataframe\">\n",
              "  <thead>\n",
              "    <tr style=\"text-align: right;\">\n",
              "      <th></th>\n",
              "      <th>seller_id</th>\n",
              "      <th>seller_zip_code_prefix</th>\n",
              "      <th>seller_city</th>\n",
              "      <th>seller_state</th>\n",
              "    </tr>\n",
              "  </thead>\n",
              "  <tbody>\n",
              "    <tr>\n",
              "      <th>0</th>\n",
              "      <td>3442f8959a84dea7ee197c632cb2df15</td>\n",
              "      <td>13023</td>\n",
              "      <td>campinas</td>\n",
              "      <td>SP</td>\n",
              "    </tr>\n",
              "    <tr>\n",
              "      <th>1</th>\n",
              "      <td>d1b65fc7debc3361ea86b5f14c68d2e2</td>\n",
              "      <td>13844</td>\n",
              "      <td>mogi guacu</td>\n",
              "      <td>SP</td>\n",
              "    </tr>\n",
              "    <tr>\n",
              "      <th>2</th>\n",
              "      <td>ce3ad9de960102d0677a81f5d0bb7b2d</td>\n",
              "      <td>20031</td>\n",
              "      <td>rio de janeiro</td>\n",
              "      <td>RJ</td>\n",
              "    </tr>\n",
              "    <tr>\n",
              "      <th>3</th>\n",
              "      <td>c0f3eea2e14555b6faeea3dd58c1b1c3</td>\n",
              "      <td>4195</td>\n",
              "      <td>sao paulo</td>\n",
              "      <td>SP</td>\n",
              "    </tr>\n",
              "    <tr>\n",
              "      <th>4</th>\n",
              "      <td>51a04a8a6bdcb23deccc82b0b80742cf</td>\n",
              "      <td>12914</td>\n",
              "      <td>braganca paulista</td>\n",
              "      <td>SP</td>\n",
              "    </tr>\n",
              "  </tbody>\n",
              "</table>\n",
              "</div>"
            ],
            "text/plain": [
              "                          seller_id  seller_zip_code_prefix  \\\n",
              "0  3442f8959a84dea7ee197c632cb2df15                   13023   \n",
              "1  d1b65fc7debc3361ea86b5f14c68d2e2                   13844   \n",
              "2  ce3ad9de960102d0677a81f5d0bb7b2d                   20031   \n",
              "3  c0f3eea2e14555b6faeea3dd58c1b1c3                    4195   \n",
              "4  51a04a8a6bdcb23deccc82b0b80742cf                   12914   \n",
              "\n",
              "         seller_city seller_state  \n",
              "0           campinas           SP  \n",
              "1         mogi guacu           SP  \n",
              "2     rio de janeiro           RJ  \n",
              "3          sao paulo           SP  \n",
              "4  braganca paulista           SP  "
            ]
          },
          "execution_count": 10,
          "metadata": {},
          "output_type": "execute_result"
        }
      ],
      "source": [
        "data['sellers'].head()"
      ]
    },
    {
      "cell_type": "code",
      "execution_count": 11,
      "metadata": {
        "id": "wDC6Y0f6WYpm",
        "outputId": "a40f2550-1894-47a5-8022-4103d955a1c1"
      },
      "outputs": [
        {
          "data": {
            "text/html": [
              "<div>\n",
              "<style scoped>\n",
              "    .dataframe tbody tr th:only-of-type {\n",
              "        vertical-align: middle;\n",
              "    }\n",
              "\n",
              "    .dataframe tbody tr th {\n",
              "        vertical-align: top;\n",
              "    }\n",
              "\n",
              "    .dataframe thead th {\n",
              "        text-align: right;\n",
              "    }\n",
              "</style>\n",
              "<table border=\"1\" class=\"dataframe\">\n",
              "  <thead>\n",
              "    <tr style=\"text-align: right;\">\n",
              "      <th></th>\n",
              "      <th>product_category_name</th>\n",
              "      <th>product_category_name_english</th>\n",
              "    </tr>\n",
              "  </thead>\n",
              "  <tbody>\n",
              "    <tr>\n",
              "      <th>0</th>\n",
              "      <td>beleza_saude</td>\n",
              "      <td>health_beauty</td>\n",
              "    </tr>\n",
              "    <tr>\n",
              "      <th>1</th>\n",
              "      <td>informatica_acessorios</td>\n",
              "      <td>computers_accessories</td>\n",
              "    </tr>\n",
              "    <tr>\n",
              "      <th>2</th>\n",
              "      <td>automotivo</td>\n",
              "      <td>auto</td>\n",
              "    </tr>\n",
              "    <tr>\n",
              "      <th>3</th>\n",
              "      <td>cama_mesa_banho</td>\n",
              "      <td>bed_bath_table</td>\n",
              "    </tr>\n",
              "    <tr>\n",
              "      <th>4</th>\n",
              "      <td>moveis_decoracao</td>\n",
              "      <td>furniture_decor</td>\n",
              "    </tr>\n",
              "  </tbody>\n",
              "</table>\n",
              "</div>"
            ],
            "text/plain": [
              "    product_category_name product_category_name_english\n",
              "0            beleza_saude                 health_beauty\n",
              "1  informatica_acessorios         computers_accessories\n",
              "2              automotivo                          auto\n",
              "3         cama_mesa_banho                bed_bath_table\n",
              "4        moveis_decoracao               furniture_decor"
            ]
          },
          "execution_count": 11,
          "metadata": {},
          "output_type": "execute_result"
        }
      ],
      "source": [
        "data['category'].head()"
      ]
    },
    {
      "cell_type": "markdown",
      "metadata": {
        "id": "GYrgjM4AWYpn"
      },
      "source": [
        "## 1.2 Assessing Data"
      ]
    },
    {
      "cell_type": "code",
      "execution_count": 12,
      "metadata": {
        "id": "QDJMmWoAWYpo",
        "outputId": "9ea0a337-3da0-44dd-f604-c8e24a4fe164"
      },
      "outputs": [
        {
          "name": "stdout",
          "output_type": "stream",
          "text": [
            "\n",
            "Dataframe: customers\n",
            "<class 'pandas.core.frame.DataFrame'>\n",
            "RangeIndex: 99441 entries, 0 to 99440\n",
            "Data columns (total 5 columns):\n",
            " #   Column                    Non-Null Count  Dtype \n",
            "---  ------                    --------------  ----- \n",
            " 0   customer_id               99441 non-null  object\n",
            " 1   customer_unique_id        99441 non-null  object\n",
            " 2   customer_zip_code_prefix  99441 non-null  int64 \n",
            " 3   customer_city             99441 non-null  object\n",
            " 4   customer_state            99441 non-null  object\n",
            "dtypes: int64(1), object(4)\n",
            "memory usage: 3.8+ MB\n",
            "None\n",
            "\n",
            "Dataframe: geo\n",
            "<class 'pandas.core.frame.DataFrame'>\n",
            "RangeIndex: 1000163 entries, 0 to 1000162\n",
            "Data columns (total 5 columns):\n",
            " #   Column                       Non-Null Count    Dtype  \n",
            "---  ------                       --------------    -----  \n",
            " 0   geolocation_zip_code_prefix  1000163 non-null  int64  \n",
            " 1   geolocation_lat              1000163 non-null  float64\n",
            " 2   geolocation_lng              1000163 non-null  float64\n",
            " 3   geolocation_city             1000163 non-null  object \n",
            " 4   geolocation_state            1000163 non-null  object \n",
            "dtypes: float64(2), int64(1), object(2)\n",
            "memory usage: 38.2+ MB\n",
            "None\n",
            "\n",
            "Dataframe: items\n",
            "<class 'pandas.core.frame.DataFrame'>\n",
            "RangeIndex: 112650 entries, 0 to 112649\n",
            "Data columns (total 7 columns):\n",
            " #   Column               Non-Null Count   Dtype  \n",
            "---  ------               --------------   -----  \n",
            " 0   order_id             112650 non-null  object \n",
            " 1   order_item_id        112650 non-null  int64  \n",
            " 2   product_id           112650 non-null  object \n",
            " 3   seller_id            112650 non-null  object \n",
            " 4   shipping_limit_date  112650 non-null  object \n",
            " 5   price                112650 non-null  float64\n",
            " 6   freight_value        112650 non-null  float64\n",
            "dtypes: float64(2), int64(1), object(4)\n",
            "memory usage: 6.0+ MB\n",
            "None\n",
            "\n",
            "Dataframe: payments\n",
            "<class 'pandas.core.frame.DataFrame'>\n",
            "RangeIndex: 103886 entries, 0 to 103885\n",
            "Data columns (total 5 columns):\n",
            " #   Column                Non-Null Count   Dtype  \n",
            "---  ------                --------------   -----  \n",
            " 0   order_id              103886 non-null  object \n",
            " 1   payment_sequential    103886 non-null  int64  \n",
            " 2   payment_type          103886 non-null  object \n",
            " 3   payment_installments  103886 non-null  int64  \n",
            " 4   payment_value         103886 non-null  float64\n",
            "dtypes: float64(1), int64(2), object(2)\n",
            "memory usage: 4.0+ MB\n",
            "None\n",
            "\n",
            "Dataframe: reviews\n",
            "<class 'pandas.core.frame.DataFrame'>\n",
            "RangeIndex: 99224 entries, 0 to 99223\n",
            "Data columns (total 7 columns):\n",
            " #   Column                   Non-Null Count  Dtype \n",
            "---  ------                   --------------  ----- \n",
            " 0   review_id                99224 non-null  object\n",
            " 1   order_id                 99224 non-null  object\n",
            " 2   review_score             99224 non-null  int64 \n",
            " 3   review_comment_title     11568 non-null  object\n",
            " 4   review_comment_message   40977 non-null  object\n",
            " 5   review_creation_date     99224 non-null  object\n",
            " 6   review_answer_timestamp  99224 non-null  object\n",
            "dtypes: int64(1), object(6)\n",
            "memory usage: 5.3+ MB\n",
            "None\n",
            "\n",
            "Dataframe: orders\n",
            "<class 'pandas.core.frame.DataFrame'>\n",
            "RangeIndex: 99441 entries, 0 to 99440\n",
            "Data columns (total 8 columns):\n",
            " #   Column                         Non-Null Count  Dtype \n",
            "---  ------                         --------------  ----- \n",
            " 0   order_id                       99441 non-null  object\n",
            " 1   customer_id                    99441 non-null  object\n",
            " 2   order_status                   99441 non-null  object\n",
            " 3   order_purchase_timestamp       99441 non-null  object\n",
            " 4   order_approved_at              99281 non-null  object\n",
            " 5   order_delivered_carrier_date   97658 non-null  object\n",
            " 6   order_delivered_customer_date  96476 non-null  object\n",
            " 7   order_estimated_delivery_date  99441 non-null  object\n",
            "dtypes: object(8)\n",
            "memory usage: 6.1+ MB\n",
            "None\n",
            "\n",
            "Dataframe: products\n",
            "<class 'pandas.core.frame.DataFrame'>\n",
            "RangeIndex: 32951 entries, 0 to 32950\n",
            "Data columns (total 9 columns):\n",
            " #   Column                      Non-Null Count  Dtype  \n",
            "---  ------                      --------------  -----  \n",
            " 0   product_id                  32951 non-null  object \n",
            " 1   product_category_name       32341 non-null  object \n",
            " 2   product_name_lenght         32341 non-null  float64\n",
            " 3   product_description_lenght  32341 non-null  float64\n",
            " 4   product_photos_qty          32341 non-null  float64\n",
            " 5   product_weight_g            32949 non-null  float64\n",
            " 6   product_length_cm           32949 non-null  float64\n",
            " 7   product_height_cm           32949 non-null  float64\n",
            " 8   product_width_cm            32949 non-null  float64\n",
            "dtypes: float64(7), object(2)\n",
            "memory usage: 2.3+ MB\n",
            "None\n",
            "\n",
            "Dataframe: sellers\n",
            "<class 'pandas.core.frame.DataFrame'>\n",
            "RangeIndex: 3095 entries, 0 to 3094\n",
            "Data columns (total 4 columns):\n",
            " #   Column                  Non-Null Count  Dtype \n",
            "---  ------                  --------------  ----- \n",
            " 0   seller_id               3095 non-null   object\n",
            " 1   seller_zip_code_prefix  3095 non-null   int64 \n",
            " 2   seller_city             3095 non-null   object\n",
            " 3   seller_state            3095 non-null   object\n",
            "dtypes: int64(1), object(3)\n",
            "memory usage: 96.8+ KB\n",
            "None\n",
            "\n",
            "Dataframe: category\n",
            "<class 'pandas.core.frame.DataFrame'>\n",
            "RangeIndex: 71 entries, 0 to 70\n",
            "Data columns (total 2 columns):\n",
            " #   Column                         Non-Null Count  Dtype \n",
            "---  ------                         --------------  ----- \n",
            " 0   product_category_name          71 non-null     object\n",
            " 1   product_category_name_english  71 non-null     object\n",
            "dtypes: object(2)\n",
            "memory usage: 1.2+ KB\n",
            "None\n"
          ]
        }
      ],
      "source": [
        "# check datatypes and null values for each dataset\n",
        "for df_name, df in data.items():\n",
        "    print('\\nDataframe:', df_name)\n",
        "    print(df.info())"
      ]
    },
    {
      "cell_type": "code",
      "execution_count": 13,
      "metadata": {
        "id": "-RdSKhsOWYpq",
        "outputId": "e9d9d3b9-7783-4daa-f793-c1233e464bad"
      },
      "outputs": [
        {
          "name": "stdout",
          "output_type": "stream",
          "text": [
            "\n",
            "Null counts for customers:\n",
            "customer_id                 0\n",
            "customer_unique_id          0\n",
            "customer_zip_code_prefix    0\n",
            "customer_city               0\n",
            "customer_state              0\n",
            "dtype: int64\n",
            "\n",
            "Null counts for geo:\n",
            "geolocation_zip_code_prefix    0\n",
            "geolocation_lat                0\n",
            "geolocation_lng                0\n",
            "geolocation_city               0\n",
            "geolocation_state              0\n",
            "dtype: int64\n",
            "\n",
            "Null counts for items:\n",
            "order_id               0\n",
            "order_item_id          0\n",
            "product_id             0\n",
            "seller_id              0\n",
            "shipping_limit_date    0\n",
            "price                  0\n",
            "freight_value          0\n",
            "dtype: int64\n",
            "\n",
            "Null counts for payments:\n",
            "order_id                0\n",
            "payment_sequential      0\n",
            "payment_type            0\n",
            "payment_installments    0\n",
            "payment_value           0\n",
            "dtype: int64\n",
            "\n",
            "Null counts for reviews:\n",
            "review_id                      0\n",
            "order_id                       0\n",
            "review_score                   0\n",
            "review_comment_title       87656\n",
            "review_comment_message     58247\n",
            "review_creation_date           0\n",
            "review_answer_timestamp        0\n",
            "dtype: int64\n",
            "\n",
            "Null counts for orders:\n",
            "order_id                            0\n",
            "customer_id                         0\n",
            "order_status                        0\n",
            "order_purchase_timestamp            0\n",
            "order_approved_at                 160\n",
            "order_delivered_carrier_date     1783\n",
            "order_delivered_customer_date    2965\n",
            "order_estimated_delivery_date       0\n",
            "dtype: int64\n",
            "\n",
            "Null counts for products:\n",
            "product_id                      0\n",
            "product_category_name         610\n",
            "product_name_lenght           610\n",
            "product_description_lenght    610\n",
            "product_photos_qty            610\n",
            "product_weight_g                2\n",
            "product_length_cm               2\n",
            "product_height_cm               2\n",
            "product_width_cm                2\n",
            "dtype: int64\n",
            "\n",
            "Null counts for sellers:\n",
            "seller_id                 0\n",
            "seller_zip_code_prefix    0\n",
            "seller_city               0\n",
            "seller_state              0\n",
            "dtype: int64\n",
            "\n",
            "Null counts for category:\n",
            "product_category_name            0\n",
            "product_category_name_english    0\n",
            "dtype: int64\n"
          ]
        }
      ],
      "source": [
        "# check for missing values\n",
        "null_counts = {df_name: df.isna().sum() for df_name, df in data.items()}\n",
        "for df_name, null_count in null_counts.items():\n",
        "    print(f'\\nNull counts for {df_name}:')\n",
        "    print(null_count)"
      ]
    },
    {
      "cell_type": "code",
      "execution_count": 14,
      "metadata": {
        "id": "x1x3s8n9WYpq",
        "outputId": "1a09fc09-d2a0-4a08-847c-3fdb9882a689"
      },
      "outputs": [
        {
          "name": "stdout",
          "output_type": "stream",
          "text": [
            "\n",
            "Data Quality Summary:\n",
            "     Dataset  Total Sample Count  Duplicate Count\n",
            "0  customers               99441                0\n",
            "1        geo             1000163           261831\n",
            "2      items              112650                0\n",
            "3   payments              103886                0\n",
            "4    reviews               99224                0\n",
            "5     orders               99441                0\n",
            "6   products               32951                0\n",
            "7    sellers                3095                0\n",
            "8   category                  71                0\n"
          ]
        }
      ],
      "source": [
        "# check for duplicates\n",
        "duplicate_counts = {df_name: df.duplicated().sum() for df_name, df in data.items()}\n",
        "total_sample_counts = {df_name: len(df) for df_name, df in data.items()}\n",
        "\n",
        "# create DataFrame to display duplicate counts and total sample counts\n",
        "duplicate_counts_df = pd.DataFrame(list(duplicate_counts.items()), columns=['Dataset', 'Duplicate Count'])\n",
        "total_sample_counts_df = pd.DataFrame(list(total_sample_counts.items()), columns=['Dataset', 'Total Sample Count'])\n",
        "\n",
        "# display combined dataframe\n",
        "data_quality_summary = pd.merge(total_sample_counts_df, duplicate_counts_df, on='Dataset')\n",
        "print('\\nData Quality Summary:')\n",
        "print(data_quality_summary)"
      ]
    },
    {
      "cell_type": "markdown",
      "metadata": {
        "id": "TJDwhmAMWYps"
      },
      "source": [
        "## 1.3 Cleaning Data"
      ]
    },
    {
      "cell_type": "code",
      "execution_count": 15,
      "metadata": {
        "id": "s6qGhJv3WYps",
        "outputId": "89f24881-3741-490a-faf9-a7de72f16972"
      },
      "outputs": [
        {
          "name": "stderr",
          "output_type": "stream",
          "text": [
            "C:\\Users\\User\\AppData\\Local\\Temp\\ipykernel_16220\\1570973148.py:11: FutureWarning: DataFrame.fillna with 'method' is deprecated and will raise in a future version. Use obj.ffill() or obj.bfill() instead.\n",
            "  data[df_name] = df.fillna(method='ffill')  # forward fill for other datasets\n",
            "C:\\Users\\User\\AppData\\Local\\Temp\\ipykernel_16220\\1570973148.py:11: FutureWarning: DataFrame.fillna with 'method' is deprecated and will raise in a future version. Use obj.ffill() or obj.bfill() instead.\n",
            "  data[df_name] = df.fillna(method='ffill')  # forward fill for other datasets\n"
          ]
        },
        {
          "name": "stdout",
          "output_type": "stream",
          "text": [
            "\n",
            "Missing values in customers:\n",
            "customer_id                 0\n",
            "customer_unique_id          0\n",
            "customer_zip_code_prefix    0\n",
            "customer_city               0\n",
            "customer_state              0\n",
            "dtype: int64\n",
            "Duplicates in customers: 0\n",
            "\n",
            "Missing values in geo:\n",
            "geolocation_zip_code_prefix    0\n",
            "geolocation_lat                0\n",
            "geolocation_lng                0\n",
            "geolocation_city               0\n",
            "geolocation_state              0\n",
            "dtype: int64\n",
            "Duplicates in geo: 0\n",
            "\n",
            "Missing values in items:\n",
            "order_id               0\n",
            "order_item_id          0\n",
            "product_id             0\n",
            "seller_id              0\n",
            "shipping_limit_date    0\n",
            "price                  0\n",
            "freight_value          0\n",
            "dtype: int64\n",
            "Duplicates in items: 0\n",
            "\n",
            "Missing values in payments:\n",
            "order_id                0\n",
            "payment_sequential      0\n",
            "payment_type            0\n",
            "payment_installments    0\n",
            "payment_value           0\n",
            "dtype: int64\n",
            "Duplicates in payments: 0\n",
            "\n",
            "Missing values in reviews:\n",
            "review_id                      0\n",
            "order_id                       0\n",
            "review_score                   0\n",
            "review_comment_title       87656\n",
            "review_comment_message     58247\n",
            "review_creation_date           0\n",
            "review_answer_timestamp        0\n",
            "dtype: int64\n",
            "Duplicates in reviews: 0\n",
            "\n",
            "Missing values in orders:\n",
            "order_id                            0\n",
            "customer_id                         0\n",
            "order_status                        0\n",
            "order_purchase_timestamp            0\n",
            "order_approved_at                 160\n",
            "order_delivered_carrier_date     1783\n",
            "order_delivered_customer_date    2965\n",
            "order_estimated_delivery_date       0\n",
            "dtype: int64\n",
            "Duplicates in orders: 0\n",
            "\n",
            "Missing values in products:\n",
            "product_id                      0\n",
            "product_category_name         610\n",
            "product_name_lenght           610\n",
            "product_description_lenght    610\n",
            "product_photos_qty            610\n",
            "product_weight_g                2\n",
            "product_length_cm               2\n",
            "product_height_cm               2\n",
            "product_width_cm                2\n",
            "dtype: int64\n",
            "Duplicates in products: 0\n",
            "\n",
            "Missing values in sellers:\n",
            "seller_id                 0\n",
            "seller_zip_code_prefix    0\n",
            "seller_city               0\n",
            "seller_state              0\n",
            "dtype: int64\n",
            "Duplicates in sellers: 0\n",
            "\n",
            "Missing values in category:\n",
            "product_category_name            0\n",
            "product_category_name_english    0\n",
            "dtype: int64\n",
            "Duplicates in category: 0\n"
          ]
        }
      ],
      "source": [
        "# handle missing values and duplicates\n",
        "for df_name, df in data.items():\n",
        "    # drop critical missing fields for these specific datasets\n",
        "    if df_name == 'customers':\n",
        "        data[df_name] = df.dropna(subset=['customer_id', 'customer_unique_id'])  # drop rows where customer info is missing\n",
        "    elif df_name == 'orders':\n",
        "        data[df_name] = df.dropna(subset=['order_id', 'customer_id', 'order_purchase_timestamp'])  # drop rows with missing order or customer info\n",
        "    elif df_name == 'order_items':\n",
        "        data[df_name] = df.dropna(subset=['order_id', 'product_id', 'seller_id'])  # drop rows with missing critical fields in order items\n",
        "    else:\n",
        "        data[df_name] = df.fillna(method='ffill')  # forward fill for other datasets\n",
        "\n",
        "    # drop duplicates for each dataset\n",
        "    data[df_name] = df.drop_duplicates()\n",
        "\n",
        "# check if missing values and duplicates have been handled\n",
        "for df_name, df in data.items():\n",
        "    print(f\"\\nMissing values in {df_name}:\")\n",
        "    print(df.isna().sum())\n",
        "    print(f\"Duplicates in {df_name}: {df.duplicated().sum()}\")\n"
      ]
    },
    {
      "cell_type": "code",
      "execution_count": 16,
      "metadata": {
        "id": "sPLQXeTdWYpt",
        "outputId": "8b327f21-9c51-4511-e314-74a99d2626f0"
      },
      "outputs": [
        {
          "name": "stdout",
          "output_type": "stream",
          "text": [
            "\n",
            "Missing values in customers:\n",
            "customer_id                 0\n",
            "customer_unique_id          0\n",
            "customer_zip_code_prefix    0\n",
            "customer_city               0\n",
            "customer_state              0\n",
            "dtype: int64\n",
            "Duplicates in customers: 0\n",
            "\n",
            "Missing values in geo:\n",
            "geolocation_zip_code_prefix    0\n",
            "geolocation_lat                0\n",
            "geolocation_lng                0\n",
            "geolocation_city               0\n",
            "geolocation_state              0\n",
            "dtype: int64\n",
            "Duplicates in geo: 0\n",
            "\n",
            "Missing values in items:\n",
            "order_id               0\n",
            "order_item_id          0\n",
            "product_id             0\n",
            "seller_id              0\n",
            "shipping_limit_date    0\n",
            "price                  0\n",
            "freight_value          0\n",
            "dtype: int64\n",
            "Duplicates in items: 0\n",
            "\n",
            "Missing values in payments:\n",
            "order_id                0\n",
            "payment_sequential      0\n",
            "payment_type            0\n",
            "payment_installments    0\n",
            "payment_value           0\n",
            "dtype: int64\n",
            "Duplicates in payments: 0\n",
            "\n",
            "Missing values in reviews:\n",
            "review_id                      0\n",
            "order_id                       0\n",
            "review_score                   0\n",
            "review_comment_title       87656\n",
            "review_comment_message     58247\n",
            "review_creation_date           0\n",
            "review_answer_timestamp        0\n",
            "dtype: int64\n",
            "Duplicates in reviews: 0\n",
            "\n",
            "Missing values in orders:\n",
            "order_id                            0\n",
            "customer_id                         0\n",
            "order_status                        0\n",
            "order_purchase_timestamp            0\n",
            "order_approved_at                 160\n",
            "order_delivered_carrier_date     1783\n",
            "order_delivered_customer_date    2965\n",
            "order_estimated_delivery_date       0\n",
            "dtype: int64\n",
            "Duplicates in orders: 0\n",
            "\n",
            "Missing values in products:\n",
            "product_id                      0\n",
            "product_category_name         610\n",
            "product_name_lenght           610\n",
            "product_description_lenght    610\n",
            "product_photos_qty            610\n",
            "product_weight_g                2\n",
            "product_length_cm               2\n",
            "product_height_cm               2\n",
            "product_width_cm                2\n",
            "dtype: int64\n",
            "Duplicates in products: 0\n",
            "\n",
            "Missing values in sellers:\n",
            "seller_id                 0\n",
            "seller_zip_code_prefix    0\n",
            "seller_city               0\n",
            "seller_state              0\n",
            "dtype: int64\n",
            "Duplicates in sellers: 0\n",
            "\n",
            "Missing values in category:\n",
            "product_category_name            0\n",
            "product_category_name_english    0\n",
            "dtype: int64\n",
            "Duplicates in category: 0\n"
          ]
        }
      ],
      "source": [
        "# check if missing values and duplicates have been handled\n",
        "for df_name, df in data.items():\n",
        "    print(f\"\\nMissing values in {df_name}:\")\n",
        "    print(df.isna().sum())\n",
        "    print(f\"Duplicates in {df_name}: {df.duplicated().sum()}\")"
      ]
    },
    {
      "cell_type": "code",
      "execution_count": 17,
      "metadata": {
        "id": "B32JRI_RWYpu"
      },
      "outputs": [],
      "source": [
        "# convert date columns to datetime type\n",
        "date_columns = ['order_purchase_timestamp', 'order_approved_at',\n",
        "                'order_delivered_carrier_date', 'order_delivered_customer_date',\n",
        "                'order_estimated_delivery_date', 'review_creation_date',\n",
        "                'review_answer_timestamp']\n",
        "\n",
        "for df_name, df in data.items():\n",
        "    for col in date_columns:\n",
        "        if col in df.columns:\n",
        "            df[col] = pd.to_datetime(df[col], errors='coerce')"
      ]
    },
    {
      "cell_type": "markdown",
      "metadata": {
        "id": "AqWbIAW3WYpv"
      },
      "source": [
        "# 2. Exploratory Data Analysis"
      ]
    },
    {
      "cell_type": "markdown",
      "metadata": {
        "id": "DU_wiKD6WYpw"
      },
      "source": [
        "## 2.1 Explore Customers"
      ]
    },
    {
      "cell_type": "code",
      "execution_count": 18,
      "metadata": {
        "id": "l9k7Vu9OWYpx",
        "outputId": "ef3f722e-edeb-4713-e113-9ad793087d14"
      },
      "outputs": [
        {
          "data": {
            "text/html": [
              "<div>\n",
              "<style scoped>\n",
              "    .dataframe tbody tr th:only-of-type {\n",
              "        vertical-align: middle;\n",
              "    }\n",
              "\n",
              "    .dataframe tbody tr th {\n",
              "        vertical-align: top;\n",
              "    }\n",
              "\n",
              "    .dataframe thead th {\n",
              "        text-align: right;\n",
              "    }\n",
              "</style>\n",
              "<table border=\"1\" class=\"dataframe\">\n",
              "  <thead>\n",
              "    <tr style=\"text-align: right;\">\n",
              "      <th></th>\n",
              "      <th>customer_id</th>\n",
              "      <th>customer_unique_id</th>\n",
              "      <th>customer_zip_code_prefix</th>\n",
              "      <th>customer_city</th>\n",
              "      <th>customer_state</th>\n",
              "    </tr>\n",
              "  </thead>\n",
              "  <tbody>\n",
              "    <tr>\n",
              "      <th>95559</th>\n",
              "      <td>49db40a65d22c7454da2face2fea96af</td>\n",
              "      <td>227d3cf62eb665fa50126f71175cc50c</td>\n",
              "      <td>12246</td>\n",
              "      <td>sao jose dos campos</td>\n",
              "      <td>SP</td>\n",
              "    </tr>\n",
              "    <tr>\n",
              "      <th>77630</th>\n",
              "      <td>d85ece98ddf81cdbb00aa87d7d472d3e</td>\n",
              "      <td>7e7d20cebc896fe82ea4bcf605e727a9</td>\n",
              "      <td>99560</td>\n",
              "      <td>sarandi</td>\n",
              "      <td>RS</td>\n",
              "    </tr>\n",
              "    <tr>\n",
              "      <th>79907</th>\n",
              "      <td>f407bd53d45d3a98deeccdc75c8a68e0</td>\n",
              "      <td>6b4b795583bd096b98754505f1a77f1d</td>\n",
              "      <td>3685</td>\n",
              "      <td>sao paulo</td>\n",
              "      <td>SP</td>\n",
              "    </tr>\n",
              "    <tr>\n",
              "      <th>94836</th>\n",
              "      <td>87150b3d9a793f5308d1f02a4a9a29a0</td>\n",
              "      <td>f7a4e3a119ca95171fb62bde4a271c03</td>\n",
              "      <td>60192</td>\n",
              "      <td>fortaleza</td>\n",
              "      <td>CE</td>\n",
              "    </tr>\n",
              "    <tr>\n",
              "      <th>21533</th>\n",
              "      <td>8a59859c3e0b4fe72567a54c7baddc80</td>\n",
              "      <td>23185cfa67fd0ae69594ed8f9abbb4c7</td>\n",
              "      <td>3803</td>\n",
              "      <td>sao paulo</td>\n",
              "      <td>SP</td>\n",
              "    </tr>\n",
              "  </tbody>\n",
              "</table>\n",
              "</div>"
            ],
            "text/plain": [
              "                            customer_id                customer_unique_id  \\\n",
              "95559  49db40a65d22c7454da2face2fea96af  227d3cf62eb665fa50126f71175cc50c   \n",
              "77630  d85ece98ddf81cdbb00aa87d7d472d3e  7e7d20cebc896fe82ea4bcf605e727a9   \n",
              "79907  f407bd53d45d3a98deeccdc75c8a68e0  6b4b795583bd096b98754505f1a77f1d   \n",
              "94836  87150b3d9a793f5308d1f02a4a9a29a0  f7a4e3a119ca95171fb62bde4a271c03   \n",
              "21533  8a59859c3e0b4fe72567a54c7baddc80  23185cfa67fd0ae69594ed8f9abbb4c7   \n",
              "\n",
              "       customer_zip_code_prefix        customer_city customer_state  \n",
              "95559                     12246  sao jose dos campos             SP  \n",
              "77630                     99560              sarandi             RS  \n",
              "79907                      3685            sao paulo             SP  \n",
              "94836                     60192            fortaleza             CE  \n",
              "21533                      3803            sao paulo             SP  "
            ]
          },
          "execution_count": 18,
          "metadata": {},
          "output_type": "execute_result"
        }
      ],
      "source": [
        "data['customers'].sample(5)"
      ]
    },
    {
      "cell_type": "code",
      "execution_count": 19,
      "metadata": {
        "id": "sHIDD8n0WYpx"
      },
      "outputs": [],
      "source": [
        "customer_state_dist = data['customers']['customer_state'].value_counts()"
      ]
    },
    {
      "cell_type": "markdown",
      "metadata": {
        "id": "CNUSQ_JrWYpy"
      },
      "source": [
        "## 2.2 Explore Orders"
      ]
    },
    {
      "cell_type": "code",
      "execution_count": 20,
      "metadata": {
        "id": "u5725Zq7WYpz",
        "outputId": "a6fdf524-846b-48a7-a161-6888ecc0b5df"
      },
      "outputs": [
        {
          "data": {
            "text/html": [
              "<div>\n",
              "<style scoped>\n",
              "    .dataframe tbody tr th:only-of-type {\n",
              "        vertical-align: middle;\n",
              "    }\n",
              "\n",
              "    .dataframe tbody tr th {\n",
              "        vertical-align: top;\n",
              "    }\n",
              "\n",
              "    .dataframe thead th {\n",
              "        text-align: right;\n",
              "    }\n",
              "</style>\n",
              "<table border=\"1\" class=\"dataframe\">\n",
              "  <thead>\n",
              "    <tr style=\"text-align: right;\">\n",
              "      <th></th>\n",
              "      <th>order_id</th>\n",
              "      <th>customer_id</th>\n",
              "      <th>order_status</th>\n",
              "      <th>order_purchase_timestamp</th>\n",
              "      <th>order_approved_at</th>\n",
              "      <th>order_delivered_carrier_date</th>\n",
              "      <th>order_delivered_customer_date</th>\n",
              "      <th>order_estimated_delivery_date</th>\n",
              "    </tr>\n",
              "  </thead>\n",
              "  <tbody>\n",
              "    <tr>\n",
              "      <th>43433</th>\n",
              "      <td>c545d2c13c923518251d50c8efeaaef5</td>\n",
              "      <td>8de735c5b8fcb11696c84002643f902a</td>\n",
              "      <td>delivered</td>\n",
              "      <td>2018-05-08 16:48:41</td>\n",
              "      <td>2018-05-09 16:57:43</td>\n",
              "      <td>2018-05-10 15:53:00</td>\n",
              "      <td>2018-05-20 05:18:32</td>\n",
              "      <td>2018-06-01</td>\n",
              "    </tr>\n",
              "    <tr>\n",
              "      <th>94184</th>\n",
              "      <td>1fa468994c6de461001e0d8849f60a7f</td>\n",
              "      <td>5bf659be3540f83e2f8f4dd67fd1dcfd</td>\n",
              "      <td>delivered</td>\n",
              "      <td>2017-12-06 09:03:48</td>\n",
              "      <td>2017-12-06 09:34:45</td>\n",
              "      <td>2017-12-07 20:18:38</td>\n",
              "      <td>2018-01-03 19:28:29</td>\n",
              "      <td>2018-01-03</td>\n",
              "    </tr>\n",
              "    <tr>\n",
              "      <th>96231</th>\n",
              "      <td>95a7461400781a93765157b8f5fa2b6a</td>\n",
              "      <td>3887ca56ecb04770a526eeb6898db6b9</td>\n",
              "      <td>delivered</td>\n",
              "      <td>2017-02-22 17:50:33</td>\n",
              "      <td>2017-02-24 02:42:28</td>\n",
              "      <td>2017-02-24 15:27:52</td>\n",
              "      <td>2017-03-09 05:26:33</td>\n",
              "      <td>2017-03-27</td>\n",
              "    </tr>\n",
              "    <tr>\n",
              "      <th>64923</th>\n",
              "      <td>20400ea65a0eadb957f1fe55f3e1756a</td>\n",
              "      <td>45e75c3c2302fabe0bd490f7f350bb57</td>\n",
              "      <td>delivered</td>\n",
              "      <td>2018-04-12 14:31:15</td>\n",
              "      <td>2018-04-13 12:50:22</td>\n",
              "      <td>2018-04-13 23:18:35</td>\n",
              "      <td>2018-04-19 21:10:57</td>\n",
              "      <td>2018-04-30</td>\n",
              "    </tr>\n",
              "    <tr>\n",
              "      <th>22693</th>\n",
              "      <td>7396bd5e3f3fc177970bbd41a676636f</td>\n",
              "      <td>d6e801f63a31bda1ed8f6caf4c2620d1</td>\n",
              "      <td>delivered</td>\n",
              "      <td>2017-11-14 17:00:43</td>\n",
              "      <td>2017-11-17 04:06:22</td>\n",
              "      <td>2017-11-17 22:54:29</td>\n",
              "      <td>2017-12-06 18:57:33</td>\n",
              "      <td>2017-12-13</td>\n",
              "    </tr>\n",
              "  </tbody>\n",
              "</table>\n",
              "</div>"
            ],
            "text/plain": [
              "                               order_id                       customer_id  \\\n",
              "43433  c545d2c13c923518251d50c8efeaaef5  8de735c5b8fcb11696c84002643f902a   \n",
              "94184  1fa468994c6de461001e0d8849f60a7f  5bf659be3540f83e2f8f4dd67fd1dcfd   \n",
              "96231  95a7461400781a93765157b8f5fa2b6a  3887ca56ecb04770a526eeb6898db6b9   \n",
              "64923  20400ea65a0eadb957f1fe55f3e1756a  45e75c3c2302fabe0bd490f7f350bb57   \n",
              "22693  7396bd5e3f3fc177970bbd41a676636f  d6e801f63a31bda1ed8f6caf4c2620d1   \n",
              "\n",
              "      order_status order_purchase_timestamp   order_approved_at  \\\n",
              "43433    delivered      2018-05-08 16:48:41 2018-05-09 16:57:43   \n",
              "94184    delivered      2017-12-06 09:03:48 2017-12-06 09:34:45   \n",
              "96231    delivered      2017-02-22 17:50:33 2017-02-24 02:42:28   \n",
              "64923    delivered      2018-04-12 14:31:15 2018-04-13 12:50:22   \n",
              "22693    delivered      2017-11-14 17:00:43 2017-11-17 04:06:22   \n",
              "\n",
              "      order_delivered_carrier_date order_delivered_customer_date  \\\n",
              "43433          2018-05-10 15:53:00           2018-05-20 05:18:32   \n",
              "94184          2017-12-07 20:18:38           2018-01-03 19:28:29   \n",
              "96231          2017-02-24 15:27:52           2017-03-09 05:26:33   \n",
              "64923          2018-04-13 23:18:35           2018-04-19 21:10:57   \n",
              "22693          2017-11-17 22:54:29           2017-12-06 18:57:33   \n",
              "\n",
              "      order_estimated_delivery_date  \n",
              "43433                    2018-06-01  \n",
              "94184                    2018-01-03  \n",
              "96231                    2017-03-27  \n",
              "64923                    2018-04-30  \n",
              "22693                    2017-12-13  "
            ]
          },
          "execution_count": 20,
          "metadata": {},
          "output_type": "execute_result"
        }
      ],
      "source": [
        "data['orders'].sample(5)"
      ]
    },
    {
      "cell_type": "code",
      "execution_count": 21,
      "metadata": {
        "id": "nuvSIyT6WYp0"
      },
      "outputs": [],
      "source": [
        "order_status_dist = data['orders']['order_status'].value_counts()"
      ]
    },
    {
      "cell_type": "markdown",
      "metadata": {
        "id": "WCCKssUFWYp0"
      },
      "source": [
        "## 2.3 Explore Order Items"
      ]
    },
    {
      "cell_type": "code",
      "execution_count": 22,
      "metadata": {
        "id": "K0jr7trdWYp1",
        "outputId": "5a6fd771-f840-4cc6-a05d-a7ee768080cd"
      },
      "outputs": [
        {
          "data": {
            "text/html": [
              "<div>\n",
              "<style scoped>\n",
              "    .dataframe tbody tr th:only-of-type {\n",
              "        vertical-align: middle;\n",
              "    }\n",
              "\n",
              "    .dataframe tbody tr th {\n",
              "        vertical-align: top;\n",
              "    }\n",
              "\n",
              "    .dataframe thead th {\n",
              "        text-align: right;\n",
              "    }\n",
              "</style>\n",
              "<table border=\"1\" class=\"dataframe\">\n",
              "  <thead>\n",
              "    <tr style=\"text-align: right;\">\n",
              "      <th></th>\n",
              "      <th>order_id</th>\n",
              "      <th>order_item_id</th>\n",
              "      <th>product_id</th>\n",
              "      <th>seller_id</th>\n",
              "      <th>shipping_limit_date</th>\n",
              "      <th>price</th>\n",
              "      <th>freight_value</th>\n",
              "    </tr>\n",
              "  </thead>\n",
              "  <tbody>\n",
              "    <tr>\n",
              "      <th>13108</th>\n",
              "      <td>1dc00931526c6633db6df2a5f862830f</td>\n",
              "      <td>1</td>\n",
              "      <td>c36a207be2a4ee8f04bd838f97f1711c</td>\n",
              "      <td>0c8380b62e38e8a1e6adbeba7eb9688c</td>\n",
              "      <td>2017-04-14 18:22:38</td>\n",
              "      <td>94.50</td>\n",
              "      <td>13.24</td>\n",
              "    </tr>\n",
              "    <tr>\n",
              "      <th>24390</th>\n",
              "      <td>378d1ac3d8e22dd46990757398ae8500</td>\n",
              "      <td>1</td>\n",
              "      <td>ba4d4408f422ce8b42de69cbf879f5f9</td>\n",
              "      <td>52a50b42accf164f9f019941e5759d9b</td>\n",
              "      <td>2018-08-07 23:30:13</td>\n",
              "      <td>29.99</td>\n",
              "      <td>12.87</td>\n",
              "    </tr>\n",
              "    <tr>\n",
              "      <th>71096</th>\n",
              "      <td>a236ae70310b60403c3adac81f96d5e6</td>\n",
              "      <td>1</td>\n",
              "      <td>19c91ef95d509ea33eda93495c4d3481</td>\n",
              "      <td>06a2c3af7b3aee5d69171b0e14f0ee87</td>\n",
              "      <td>2018-07-23 00:35:16</td>\n",
              "      <td>122.99</td>\n",
              "      <td>63.11</td>\n",
              "    </tr>\n",
              "    <tr>\n",
              "      <th>31446</th>\n",
              "      <td>4753fcd70058320b38a45cc68f6de6c7</td>\n",
              "      <td>2</td>\n",
              "      <td>53759a2ecddad2bb87a079a1f1519f73</td>\n",
              "      <td>1f50f920176fa81dab994f9023523100</td>\n",
              "      <td>2017-12-05 10:30:24</td>\n",
              "      <td>59.00</td>\n",
              "      <td>16.12</td>\n",
              "    </tr>\n",
              "    <tr>\n",
              "      <th>35157</th>\n",
              "      <td>4fa07e91d7b4f8b191e3a6ab40f14f54</td>\n",
              "      <td>1</td>\n",
              "      <td>11875b30b49585209e608f40e8082e65</td>\n",
              "      <td>669ae81880e08f269a64487cfb287169</td>\n",
              "      <td>2017-02-05 15:41:21</td>\n",
              "      <td>65.00</td>\n",
              "      <td>14.62</td>\n",
              "    </tr>\n",
              "  </tbody>\n",
              "</table>\n",
              "</div>"
            ],
            "text/plain": [
              "                               order_id  order_item_id  \\\n",
              "13108  1dc00931526c6633db6df2a5f862830f              1   \n",
              "24390  378d1ac3d8e22dd46990757398ae8500              1   \n",
              "71096  a236ae70310b60403c3adac81f96d5e6              1   \n",
              "31446  4753fcd70058320b38a45cc68f6de6c7              2   \n",
              "35157  4fa07e91d7b4f8b191e3a6ab40f14f54              1   \n",
              "\n",
              "                             product_id                         seller_id  \\\n",
              "13108  c36a207be2a4ee8f04bd838f97f1711c  0c8380b62e38e8a1e6adbeba7eb9688c   \n",
              "24390  ba4d4408f422ce8b42de69cbf879f5f9  52a50b42accf164f9f019941e5759d9b   \n",
              "71096  19c91ef95d509ea33eda93495c4d3481  06a2c3af7b3aee5d69171b0e14f0ee87   \n",
              "31446  53759a2ecddad2bb87a079a1f1519f73  1f50f920176fa81dab994f9023523100   \n",
              "35157  11875b30b49585209e608f40e8082e65  669ae81880e08f269a64487cfb287169   \n",
              "\n",
              "       shipping_limit_date   price  freight_value  \n",
              "13108  2017-04-14 18:22:38   94.50          13.24  \n",
              "24390  2018-08-07 23:30:13   29.99          12.87  \n",
              "71096  2018-07-23 00:35:16  122.99          63.11  \n",
              "31446  2017-12-05 10:30:24   59.00          16.12  \n",
              "35157  2017-02-05 15:41:21   65.00          14.62  "
            ]
          },
          "execution_count": 22,
          "metadata": {},
          "output_type": "execute_result"
        }
      ],
      "source": [
        "data['items'].sample(5)"
      ]
    },
    {
      "cell_type": "markdown",
      "metadata": {
        "id": "yqsaburBWYp2"
      },
      "source": [
        "## 2.4 Explore Order Payments"
      ]
    },
    {
      "cell_type": "code",
      "execution_count": 23,
      "metadata": {
        "id": "ABhhPEIPWYp3",
        "outputId": "5d837d57-d324-498c-af59-3ee4c8ac5e99"
      },
      "outputs": [
        {
          "data": {
            "text/html": [
              "<div>\n",
              "<style scoped>\n",
              "    .dataframe tbody tr th:only-of-type {\n",
              "        vertical-align: middle;\n",
              "    }\n",
              "\n",
              "    .dataframe tbody tr th {\n",
              "        vertical-align: top;\n",
              "    }\n",
              "\n",
              "    .dataframe thead th {\n",
              "        text-align: right;\n",
              "    }\n",
              "</style>\n",
              "<table border=\"1\" class=\"dataframe\">\n",
              "  <thead>\n",
              "    <tr style=\"text-align: right;\">\n",
              "      <th></th>\n",
              "      <th>order_id</th>\n",
              "      <th>payment_sequential</th>\n",
              "      <th>payment_type</th>\n",
              "      <th>payment_installments</th>\n",
              "      <th>payment_value</th>\n",
              "    </tr>\n",
              "  </thead>\n",
              "  <tbody>\n",
              "    <tr>\n",
              "      <th>12336</th>\n",
              "      <td>ab8d7e03c02e35b89d4eee1dd9ab65ca</td>\n",
              "      <td>1</td>\n",
              "      <td>credit_card</td>\n",
              "      <td>1</td>\n",
              "      <td>31.38</td>\n",
              "    </tr>\n",
              "    <tr>\n",
              "      <th>36950</th>\n",
              "      <td>a0170b15707b42bf994d5b717e4ce049</td>\n",
              "      <td>1</td>\n",
              "      <td>credit_card</td>\n",
              "      <td>1</td>\n",
              "      <td>39.01</td>\n",
              "    </tr>\n",
              "    <tr>\n",
              "      <th>40635</th>\n",
              "      <td>dca63e525f9401c2d75b39006727511b</td>\n",
              "      <td>1</td>\n",
              "      <td>credit_card</td>\n",
              "      <td>7</td>\n",
              "      <td>76.14</td>\n",
              "    </tr>\n",
              "    <tr>\n",
              "      <th>60928</th>\n",
              "      <td>a3a0be41e7611973435cc81280f76bee</td>\n",
              "      <td>1</td>\n",
              "      <td>credit_card</td>\n",
              "      <td>1</td>\n",
              "      <td>28.77</td>\n",
              "    </tr>\n",
              "    <tr>\n",
              "      <th>12722</th>\n",
              "      <td>e358b1e356a4242ef1e60c1a8e8068a8</td>\n",
              "      <td>1</td>\n",
              "      <td>debit_card</td>\n",
              "      <td>1</td>\n",
              "      <td>150.87</td>\n",
              "    </tr>\n",
              "  </tbody>\n",
              "</table>\n",
              "</div>"
            ],
            "text/plain": [
              "                               order_id  payment_sequential payment_type  \\\n",
              "12336  ab8d7e03c02e35b89d4eee1dd9ab65ca                   1  credit_card   \n",
              "36950  a0170b15707b42bf994d5b717e4ce049                   1  credit_card   \n",
              "40635  dca63e525f9401c2d75b39006727511b                   1  credit_card   \n",
              "60928  a3a0be41e7611973435cc81280f76bee                   1  credit_card   \n",
              "12722  e358b1e356a4242ef1e60c1a8e8068a8                   1   debit_card   \n",
              "\n",
              "       payment_installments  payment_value  \n",
              "12336                     1          31.38  \n",
              "36950                     1          39.01  \n",
              "40635                     7          76.14  \n",
              "60928                     1          28.77  \n",
              "12722                     1         150.87  "
            ]
          },
          "execution_count": 23,
          "metadata": {},
          "output_type": "execute_result"
        }
      ],
      "source": [
        "data['payments'].sample(5)"
      ]
    },
    {
      "cell_type": "markdown",
      "metadata": {
        "id": "fRUHhQE3WYp3"
      },
      "source": [
        "## 2.5 Explore Customers and Geological"
      ]
    },
    {
      "cell_type": "code",
      "execution_count": 24,
      "metadata": {
        "id": "oZKaUfTMWYp4",
        "outputId": "8166a0f8-16c9-4ae8-e929-23fb0704b956"
      },
      "outputs": [
        {
          "data": {
            "text/html": [
              "<div>\n",
              "<style scoped>\n",
              "    .dataframe tbody tr th:only-of-type {\n",
              "        vertical-align: middle;\n",
              "    }\n",
              "\n",
              "    .dataframe tbody tr th {\n",
              "        vertical-align: top;\n",
              "    }\n",
              "\n",
              "    .dataframe thead th {\n",
              "        text-align: right;\n",
              "    }\n",
              "</style>\n",
              "<table border=\"1\" class=\"dataframe\">\n",
              "  <thead>\n",
              "    <tr style=\"text-align: right;\">\n",
              "      <th></th>\n",
              "      <th>customer_id</th>\n",
              "      <th>customer_unique_id</th>\n",
              "      <th>customer_zip_code_prefix</th>\n",
              "      <th>customer_city</th>\n",
              "      <th>customer_state</th>\n",
              "    </tr>\n",
              "  </thead>\n",
              "  <tbody>\n",
              "    <tr>\n",
              "      <th>67184</th>\n",
              "      <td>677569aeadbd20c685728650b69130fb</td>\n",
              "      <td>e58cf50a4d86571dd9db56eb1241751f</td>\n",
              "      <td>90050</td>\n",
              "      <td>porto alegre</td>\n",
              "      <td>RS</td>\n",
              "    </tr>\n",
              "    <tr>\n",
              "      <th>36560</th>\n",
              "      <td>fe10ffd8e45212b501b6f0753ef1e930</td>\n",
              "      <td>1f6b5e8bdb35c6c1c6f4611cf5bf1247</td>\n",
              "      <td>18051</td>\n",
              "      <td>sorocaba</td>\n",
              "      <td>SP</td>\n",
              "    </tr>\n",
              "    <tr>\n",
              "      <th>63485</th>\n",
              "      <td>fe4143a722d469f05fc854784279da06</td>\n",
              "      <td>dd19277025613729e0d8260011ce15fa</td>\n",
              "      <td>96201</td>\n",
              "      <td>rio grande</td>\n",
              "      <td>RS</td>\n",
              "    </tr>\n",
              "    <tr>\n",
              "      <th>98382</th>\n",
              "      <td>ceb3d8fe921823620c6d8623678d9f25</td>\n",
              "      <td>b7915e55f92dc3bd5e56cd73c1cbf81e</td>\n",
              "      <td>83705</td>\n",
              "      <td>araucaria</td>\n",
              "      <td>PR</td>\n",
              "    </tr>\n",
              "    <tr>\n",
              "      <th>42321</th>\n",
              "      <td>e8e423ea0dbda39de692120d8406f279</td>\n",
              "      <td>ea6d9c37d833ada18462ba141f1bb26d</td>\n",
              "      <td>89249</td>\n",
              "      <td>itapoa</td>\n",
              "      <td>SC</td>\n",
              "    </tr>\n",
              "  </tbody>\n",
              "</table>\n",
              "</div>"
            ],
            "text/plain": [
              "                            customer_id                customer_unique_id  \\\n",
              "67184  677569aeadbd20c685728650b69130fb  e58cf50a4d86571dd9db56eb1241751f   \n",
              "36560  fe10ffd8e45212b501b6f0753ef1e930  1f6b5e8bdb35c6c1c6f4611cf5bf1247   \n",
              "63485  fe4143a722d469f05fc854784279da06  dd19277025613729e0d8260011ce15fa   \n",
              "98382  ceb3d8fe921823620c6d8623678d9f25  b7915e55f92dc3bd5e56cd73c1cbf81e   \n",
              "42321  e8e423ea0dbda39de692120d8406f279  ea6d9c37d833ada18462ba141f1bb26d   \n",
              "\n",
              "       customer_zip_code_prefix customer_city customer_state  \n",
              "67184                     90050  porto alegre             RS  \n",
              "36560                     18051      sorocaba             SP  \n",
              "63485                     96201    rio grande             RS  \n",
              "98382                     83705     araucaria             PR  \n",
              "42321                     89249        itapoa             SC  "
            ]
          },
          "execution_count": 24,
          "metadata": {},
          "output_type": "execute_result"
        }
      ],
      "source": [
        "data['customers'].sample(5)"
      ]
    },
    {
      "cell_type": "code",
      "execution_count": 25,
      "metadata": {
        "id": "6p5M_ezuWYp6",
        "outputId": "bf6127ea-8bdd-40b8-f209-0e681138602f"
      },
      "outputs": [
        {
          "data": {
            "text/html": [
              "<div>\n",
              "<style scoped>\n",
              "    .dataframe tbody tr th:only-of-type {\n",
              "        vertical-align: middle;\n",
              "    }\n",
              "\n",
              "    .dataframe tbody tr th {\n",
              "        vertical-align: top;\n",
              "    }\n",
              "\n",
              "    .dataframe thead th {\n",
              "        text-align: right;\n",
              "    }\n",
              "</style>\n",
              "<table border=\"1\" class=\"dataframe\">\n",
              "  <thead>\n",
              "    <tr style=\"text-align: right;\">\n",
              "      <th></th>\n",
              "      <th>geolocation_zip_code_prefix</th>\n",
              "      <th>geolocation_lat</th>\n",
              "      <th>geolocation_lng</th>\n",
              "      <th>geolocation_city</th>\n",
              "      <th>geolocation_state</th>\n",
              "    </tr>\n",
              "  </thead>\n",
              "  <tbody>\n",
              "    <tr>\n",
              "      <th>630478</th>\n",
              "      <td>37480</td>\n",
              "      <td>-21.965705</td>\n",
              "      <td>-45.341313</td>\n",
              "      <td>lambari</td>\n",
              "      <td>MG</td>\n",
              "    </tr>\n",
              "    <tr>\n",
              "      <th>163205</th>\n",
              "      <td>6434</td>\n",
              "      <td>-23.529582</td>\n",
              "      <td>-46.890867</td>\n",
              "      <td>barueri</td>\n",
              "      <td>SP</td>\n",
              "    </tr>\n",
              "    <tr>\n",
              "      <th>758148</th>\n",
              "      <td>65020</td>\n",
              "      <td>-2.525619</td>\n",
              "      <td>-44.295532</td>\n",
              "      <td>sao luis</td>\n",
              "      <td>MA</td>\n",
              "    </tr>\n",
              "    <tr>\n",
              "      <th>555022</th>\n",
              "      <td>30640</td>\n",
              "      <td>-19.972079</td>\n",
              "      <td>-44.017148</td>\n",
              "      <td>belo horizonte</td>\n",
              "      <td>MG</td>\n",
              "    </tr>\n",
              "    <tr>\n",
              "      <th>730892</th>\n",
              "      <td>58030</td>\n",
              "      <td>-7.109887</td>\n",
              "      <td>-34.853563</td>\n",
              "      <td>joao pessoa</td>\n",
              "      <td>PB</td>\n",
              "    </tr>\n",
              "  </tbody>\n",
              "</table>\n",
              "</div>"
            ],
            "text/plain": [
              "        geolocation_zip_code_prefix  geolocation_lat  geolocation_lng  \\\n",
              "630478                        37480       -21.965705       -45.341313   \n",
              "163205                         6434       -23.529582       -46.890867   \n",
              "758148                        65020        -2.525619       -44.295532   \n",
              "555022                        30640       -19.972079       -44.017148   \n",
              "730892                        58030        -7.109887       -34.853563   \n",
              "\n",
              "       geolocation_city geolocation_state  \n",
              "630478          lambari                MG  \n",
              "163205          barueri                SP  \n",
              "758148         sao luis                MA  \n",
              "555022   belo horizonte                MG  \n",
              "730892      joao pessoa                PB  "
            ]
          },
          "execution_count": 25,
          "metadata": {},
          "output_type": "execute_result"
        }
      ],
      "source": [
        "data['geo'].sample(5)"
      ]
    },
    {
      "cell_type": "markdown",
      "metadata": {},
      "source": [
        "## 2.6 Univariate Analysis"
      ]
    },
    {
      "cell_type": "code",
      "execution_count": 40,
      "metadata": {},
      "outputs": [
        {
          "data": {
            "image/png": "[encoded data removed]",
            "text/plain": [
              "<Figure size 1000x600 with 1 Axes>"
            ]
          },
          "metadata": {},
          "output_type": "display_data"
        }
      ],
      "source": [
        "# univariate analysis for numerical and categorical features\n",
        "# descriptive statistics for numerical columns\n",
        "customers.describe()\n",
        "\n",
        "# histogram for order values\n",
        "plt.figure(figsize=(10, 6))\n",
        "sns.histplot(order_items['price'], bins=30, kde=True)\n",
        "plt.title('Distribution of Order Prices')\n",
        "plt.xlabel('Price')\n",
        "plt.ylabel('Frequency')\n",
        "plt.show()\n"
      ]
    },
    {
      "cell_type": "markdown",
      "metadata": {},
      "source": [
        "## 2.7 Correlation Analysis"
      ]
    },
    {
      "cell_type": "code",
      "execution_count": 44,
      "metadata": {},
      "outputs": [
        {
          "name": "stdout",
          "output_type": "stream",
          "text": [
            "Not enough numeric data for correlation analysis.\n"
          ]
        }
      ],
      "source": [
        "# select numeric columns and drop rows with NaN values\n",
        "numeric_columns = orders.select_dtypes(include=['float64', 'int64']).dropna()\n",
        "\n",
        "# check if we have enough data to compute correlation\n",
        "if numeric_columns.shape[1] > 1:\n",
        "    # Correlation heatmap\n",
        "    plt.figure(figsize=(12, 8))\n",
        "    corr_matrix = numeric_columns.corr()\n",
        "    sns.heatmap(corr_matrix, annot=True, cmap='coolwarm', linewidths=0.5)\n",
        "    plt.title('Correlation Heatmap for Orders Dataset')\n",
        "    plt.show()\n",
        "else:\n",
        "    print(\"Not enough numeric data for correlation analysis.\")"
      ]
    },
    {
      "cell_type": "markdown",
      "metadata": {},
      "source": [
        "## 2.8 Group-Based Analysis"
      ]
    },
    {
      "cell_type": "markdown",
      "metadata": {},
      "source": [
        "Since the dataset doesn't have enough numeric data for correlation analysis, we will conduct a group-based analysis.\n",
        "For example, we can group the data by categories such as customer or product and analyze the average order value, frequency, etc."
      ]
    },
    {
      "cell_type": "code",
      "execution_count": 45,
      "metadata": {},
      "outputs": [
        {
          "data": {
            "text/html": [
              "<div>\n",
              "<style scoped>\n",
              "    .dataframe tbody tr th:only-of-type {\n",
              "        vertical-align: middle;\n",
              "    }\n",
              "\n",
              "    .dataframe tbody tr th {\n",
              "        vertical-align: top;\n",
              "    }\n",
              "\n",
              "    .dataframe thead th {\n",
              "        text-align: right;\n",
              "    }\n",
              "</style>\n",
              "<table border=\"1\" class=\"dataframe\">\n",
              "  <thead>\n",
              "    <tr style=\"text-align: right;\">\n",
              "      <th></th>\n",
              "      <th>total_sales</th>\n",
              "      <th>average_price</th>\n",
              "      <th>total_items_sold</th>\n",
              "    </tr>\n",
              "    <tr>\n",
              "      <th>product_id</th>\n",
              "      <th></th>\n",
              "      <th></th>\n",
              "      <th></th>\n",
              "    </tr>\n",
              "  </thead>\n",
              "  <tbody>\n",
              "    <tr>\n",
              "      <th>bb50f2e236e5eea0100680137654686c</th>\n",
              "      <td>63885.00</td>\n",
              "      <td>327.615385</td>\n",
              "      <td>195</td>\n",
              "    </tr>\n",
              "    <tr>\n",
              "      <th>6cdd53843498f92890544667809f1595</th>\n",
              "      <td>54730.20</td>\n",
              "      <td>350.834615</td>\n",
              "      <td>156</td>\n",
              "    </tr>\n",
              "    <tr>\n",
              "      <th>d6160fb7873f184099d9bc95e30376af</th>\n",
              "      <td>48899.34</td>\n",
              "      <td>1397.124000</td>\n",
              "      <td>35</td>\n",
              "    </tr>\n",
              "    <tr>\n",
              "      <th>d1c427060a0f73f6b889a5c7c61f2ac4</th>\n",
              "      <td>47214.51</td>\n",
              "      <td>137.651633</td>\n",
              "      <td>343</td>\n",
              "    </tr>\n",
              "    <tr>\n",
              "      <th>99a4788cb24856965c36a24e339b6058</th>\n",
              "      <td>43025.56</td>\n",
              "      <td>88.167131</td>\n",
              "      <td>488</td>\n",
              "    </tr>\n",
              "    <tr>\n",
              "      <th>3dd2a17168ec895c781a9191c1e95ad7</th>\n",
              "      <td>41082.60</td>\n",
              "      <td>149.936496</td>\n",
              "      <td>274</td>\n",
              "    </tr>\n",
              "    <tr>\n",
              "      <th>25c38557cf793876c5abdd5931f922db</th>\n",
              "      <td>38907.32</td>\n",
              "      <td>1023.876842</td>\n",
              "      <td>38</td>\n",
              "    </tr>\n",
              "    <tr>\n",
              "      <th>5f504b3a1c75b73d6151be81eb05bdc9</th>\n",
              "      <td>37733.90</td>\n",
              "      <td>598.950794</td>\n",
              "      <td>63</td>\n",
              "    </tr>\n",
              "    <tr>\n",
              "      <th>53b36df67ebb7c41585e8d54d6772e08</th>\n",
              "      <td>37683.42</td>\n",
              "      <td>116.666935</td>\n",
              "      <td>323</td>\n",
              "    </tr>\n",
              "    <tr>\n",
              "      <th>aca2eb7d00ea1a7b8ebd4e68314663af</th>\n",
              "      <td>37608.90</td>\n",
              "      <td>71.364137</td>\n",
              "      <td>527</td>\n",
              "    </tr>\n",
              "  </tbody>\n",
              "</table>\n",
              "</div>"
            ],
            "text/plain": [
              "                                  total_sales  average_price  total_items_sold\n",
              "product_id                                                                    \n",
              "bb50f2e236e5eea0100680137654686c     63885.00     327.615385               195\n",
              "6cdd53843498f92890544667809f1595     54730.20     350.834615               156\n",
              "d6160fb7873f184099d9bc95e30376af     48899.34    1397.124000                35\n",
              "d1c427060a0f73f6b889a5c7c61f2ac4     47214.51     137.651633               343\n",
              "99a4788cb24856965c36a24e339b6058     43025.56      88.167131               488\n",
              "3dd2a17168ec895c781a9191c1e95ad7     41082.60     149.936496               274\n",
              "25c38557cf793876c5abdd5931f922db     38907.32    1023.876842                38\n",
              "5f504b3a1c75b73d6151be81eb05bdc9     37733.90     598.950794                63\n",
              "53b36df67ebb7c41585e8d54d6772e08     37683.42     116.666935               323\n",
              "aca2eb7d00ea1a7b8ebd4e68314663af     37608.90      71.364137               527"
            ]
          },
          "execution_count": 45,
          "metadata": {},
          "output_type": "execute_result"
        }
      ],
      "source": [
        "# grouping order_items by product_id and calculating the average price and total number of items sold\n",
        "grouped_data = order_items.groupby('product_id').agg(\n",
        "    total_sales=('price', 'sum'),\n",
        "    average_price=('price', 'mean'),\n",
        "    total_items_sold=('order_item_id', 'count')\n",
        ").sort_values(by='total_sales', ascending=False).head(10)\n",
        "\n",
        "grouped_data"
      ]
    },
    {
      "cell_type": "markdown",
      "metadata": {
        "id": "UR7ItTgAWYp6"
      },
      "source": [
        "# Visualization and Explanatory Analysis"
      ]
    },
    {
      "cell_type": "markdown",
      "metadata": {
        "id": "X4wtLVPlWYp7"
      },
      "source": [
        "##### 1. How do customer locations (zip codes) affect order delivery times?"
      ]
    },
    {
      "cell_type": "code",
      "execution_count": 26,
      "metadata": {
        "id": "yxFdQ3DEWYqU"
      },
      "outputs": [],
      "source": [
        "# merge orders and geolocation datasets\n",
        "order_geo = orders.merge(customers, on='customer_id').merge(geolocation, left_on='customer_zip_code_prefix', right_on='geolocation_zip_code_prefix')\n",
        "\n",
        "# calculate the difference in time between order and delivery\n",
        "order_geo['delivery_time'] = (pd.to_datetime(order_geo['order_delivered_customer_date']) - pd.to_datetime(order_geo['order_purchase_timestamp'])).dt.days\n",
        "\n",
        "# calculate average delivery time by zip code and state\n",
        "delivery_time_by_zip = order_geo.groupby(['customer_zip_code_prefix', 'customer_state'])['delivery_time'].mean().reset_index()\n"
      ]
    },
    {
      "cell_type": "code",
      "execution_count": 27,
      "metadata": {},
      "outputs": [],
      "source": [
        "# get top 10\n",
        "top_10_delivery = delivery_time_by_zip.nlargest(10, 'delivery_time')"
      ]
    },
    {
      "cell_type": "code",
      "execution_count": 28,
      "metadata": {
        "id": "srTcV8JKWYqV",
        "outputId": "62fd7217-9376-455e-bb5e-1267451a4950"
      },
      "outputs": [
        {
          "data": {
            "image/png": "[encoded data removed]",
            "text/plain": [
              "<Figure size 1200x600 with 1 Axes>"
            ]
          },
          "metadata": {},
          "output_type": "display_data"
        }
      ],
      "source": [
        "#the visualization\n",
        "plt.figure(figsize=(12, 6))\n",
        "sns.barplot(data=top_10_delivery, x='customer_zip_code_prefix', y='delivery_time', hue='customer_state', palette='viridis')\n",
        "plt.title('Top 10 Average Delivery Time by Zip Code and State')\n",
        "plt.xlabel('Zip Code')\n",
        "plt.ylabel('Average Delivery Time (days)')\n",
        "plt.xticks(rotation=45)\n",
        "plt.legend(title='State')\n",
        "plt.show()"
      ]
    },
    {
      "cell_type": "markdown",
      "metadata": {
        "id": "3jelL5veWYqW"
      },
      "source": [
        "##### 2. What is the relationship between payment methods and customer satisfaction as indicated by review scores?"
      ]
    },
    {
      "cell_type": "code",
      "execution_count": 29,
      "metadata": {
        "id": "E7M-QCRUWYqX"
      },
      "outputs": [],
      "source": [
        "# merge order_payments and order_reviews datasets\n",
        "payment_review = orders.merge(order_reviews, on='order_id').merge(order_payments, on='order_id')\n",
        "\n",
        "# calculate average review scores by payment method\n",
        "avg_review_by_payment = payment_review.groupby('payment_type')['review_score'].mean().reset_index()"
      ]
    },
    {
      "cell_type": "code",
      "execution_count": 30,
      "metadata": {
        "id": "yqYeTlngWYqY",
        "outputId": "bc8af034-50b4-4c1f-a7fc-9ad368cdd36e"
      },
      "outputs": [
        {
          "name": "stderr",
          "output_type": "stream",
          "text": [
            "C:\\Users\\User\\AppData\\Local\\Temp\\ipykernel_16220\\1216571569.py:3: FutureWarning: \n",
            "\n",
            "Passing `palette` without assigning `hue` is deprecated and will be removed in v0.14.0. Assign the `x` variable to `hue` and set `legend=False` for the same effect.\n",
            "\n",
            "  sns.barplot(data=avg_review_by_payment, x='payment_type', y='review_score', palette='coolwarm')\n"
          ]
        },
        {
          "data": {
            "image/png": "[encoded data removed]",
            "text/plain": [
              "<Figure size 1000x600 with 1 Axes>"
            ]
          },
          "metadata": {},
          "output_type": "display_data"
        }
      ],
      "source": [
        "# the visualization\n",
        "plt.figure(figsize=(10, 6))\n",
        "sns.barplot(data=avg_review_by_payment, x='payment_type', y='review_score', palette='coolwarm')\n",
        "plt.title('Average Review Scores by Payment Method')\n",
        "plt.xlabel('Payment Method')\n",
        "plt.ylabel('Average Review Score')\n",
        "plt.xticks(rotation=45)\n",
        "plt.show()"
      ]
    },
    {
      "cell_type": "markdown",
      "metadata": {
        "id": "kjsRRNGqWYqa"
      },
      "source": [
        "##### 3. Which product categories generate the highest revenue and how does this correlate with the number of reviews?"
      ]
    },
    {
      "cell_type": "code",
      "execution_count": 31,
      "metadata": {
        "id": "Kfwzd6yAWYqb"
      },
      "outputs": [
        {
          "name": "stdout",
          "output_type": "stream",
          "text": [
            "Index(['product_category_name', 'total_reviews', 'total_revenue'], dtype='object')\n"
          ]
        }
      ],
      "source": [
        "# merge order_items, products, and order_reviews datasets\n",
        "revenue_reviews = order_items.merge(products, on='product_id').merge(order_reviews, on='order_id')\n",
        "\n",
        "# calculate total revenue and number of reviews by product category\n",
        "category_revenue = revenue_reviews.groupby('product_category_name')['price'].sum().reset_index()\n",
        "category_reviews = revenue_reviews.groupby('product_category_name')['review_id'].count().reset_index()\n",
        "\n",
        "# merge revenue and review counts\n",
        "category_summary = category_revenue.merge(category_reviews, on='product_category_name')\n",
        "\n",
        "# group by the product category\n",
        "category_summary = category_summary.groupby('product_category_name').agg(\n",
        "    total_reviews=('review_id', 'count'),  # Count the number of reviews\n",
        "    total_revenue=('price', 'sum')         # Sum the total revenue based on price\n",
        ").reset_index()\n",
        "\n",
        "top_10_categories = category_summary.sort_values(by='total_reviews', ascending=False).head(10)\n",
        "print(category_summary.columns)"
      ]
    },
    {
      "cell_type": "code",
      "execution_count": 32,
      "metadata": {
        "id": "52zgiYKmWYqc",
        "outputId": "c9ca7493-2f0a-4be4-b2c8-a7084a37a8ef"
      },
      "outputs": [
        {
          "data": {
            "image/png": "[encoded data removed]",
            "text/plain": [
              "<Figure size 1200x600 with 1 Axes>"
            ]
          },
          "metadata": {},
          "output_type": "display_data"
        }
      ],
      "source": [
        "# the visualization\n",
        "plt.figure(figsize=(12, 6))\n",
        "sns.scatterplot(data=top_10_categories, x='total_reviews', y='total_revenue', hue='product_category_name', palette='Set1', s=100)\n",
        "plt.title('Top 10 Categories: Correlation Between Number of Reviews and Revenue')\n",
        "plt.xlabel('Number of Reviews')\n",
        "plt.ylabel('Total Revenue')\n",
        "plt.show()"
      ]
    },
    {
      "cell_type": "markdown",
      "metadata": {
        "id": "Jjy22y9FWYqd"
      },
      "source": [
        "##### 4. What are the top-selling product categories, and how can we optimize our product offerings?"
      ]
    },
    {
      "cell_type": "code",
      "execution_count": 33,
      "metadata": {
        "id": "IIhfCVI3WYqd"
      },
      "outputs": [],
      "source": [
        "# merge order_items with products to get product categories\n",
        "order_items_products = pd.merge(data['items'], data['products'], on='product_id')\n",
        "\n",
        "# get top 10 product categories by items sold \n",
        "top_categories = order_items_products['product_category_name'].value_counts().head(10)"
      ]
    },
    {
      "cell_type": "code",
      "execution_count": 34,
      "metadata": {
        "id": "2sA-gv-bWYqe",
        "outputId": "5acf4d53-92a9-4580-97dd-f2b35233d2f7"
      },
      "outputs": [
        {
          "name": "stderr",
          "output_type": "stream",
          "text": [
            "C:\\Users\\User\\AppData\\Local\\Temp\\ipykernel_16220\\4283879697.py:3: FutureWarning: \n",
            "\n",
            "Passing `palette` without assigning `hue` is deprecated and will be removed in v0.14.0. Assign the `x` variable to `hue` and set `legend=False` for the same effect.\n",
            "\n",
            "  sns.barplot(x=top_categories.index, y=top_categories.values, palette=\"magma\")\n"
          ]
        },
        {
          "data": {
            "image/png": "[encoded data removed]",
            "text/plain": [
              "<Figure size 1000x600 with 1 Axes>"
            ]
          },
          "metadata": {},
          "output_type": "display_data"
        }
      ],
      "source": [
        "# visualization\n",
        "plt.figure(figsize=(10, 6))\n",
        "sns.barplot(x=top_categories.index, y=top_categories.values, palette=\"magma\")\n",
        "plt.title(\"Top Selling Product Categories\")\n",
        "plt.ylabel('Number of Items Sold')\n",
        "plt.xlabel('Product Category')\n",
        "plt.xticks(rotation=45)\n",
        "plt.show()"
      ]
    },
    {
      "cell_type": "markdown",
      "metadata": {
        "id": "085Ot1gDWYqk"
      },
      "source": [
        "# Conclusion"
      ]
    },
    {
      "cell_type": "markdown",
      "metadata": {
        "id": "oPHqqHEcWYql"
      },
      "source": [
        "##### 1. How do customer locations (zip codes) affect order delivery times?\n",
        "\n",
        "_The graph shows that average delivery times vary significantly by zip code and state. While some regions, such as **São Paulo (SP) and Rio de Janeiro (RJ),** generally **have shorter delivery times**, there are outliers with longer durations. Other states, like **Amazonas (AM) and Roraima (RR),** consistently **have longer delivery times due to geographical challenges.** To improve delivery efficiency, consider optimizing routes based on these patterns, investing in infrastructure in remote areas, and partnering with local logistics providers to improve last-mile delivery._"
      ]
    },
    {
      "cell_type": "markdown",
      "metadata": {
        "id": "88R2SxI9WYqn"
      },
      "source": [
        "##### 2. What is the relationship between payment methods and customer satisfaction as indicated by review scores?\n",
        "\n",
        "_The bar chart shows that **customers using credit cards and vouchers** tend to **have higher average review scores** compared to those using boleto or debit cards. This suggests that these payment methods may be associated with a more positive customer experience. To improve overall customer satisfaction, consider analyzing the reasons for lower review scores associated with specific payment methods and taking steps to address any underlying issues. This could involve improving the payment process, providing better customer support, or offering incentives for using certain payment methods._"
      ]
    },
    {
      "cell_type": "markdown",
      "metadata": {
        "id": "1SNIE0YPWYqo"
      },
      "source": [
        "##### 3. Which product categories generate the highest revenue and how does this correlate with the number of reviews?\n",
        "\n",
        "_The scatter plot shows a general positive correlation between the number of reviews and total revenue across most product categories. However, there are outliers with high revenue but relatively few reviews, suggesting other factors may influence sales. Categories like **\"informatica_acessorios\" (Computer and accessories) and \"eletronicos\" (Electronics)** consistently **generate high revenue**, often **with a significant number of reviews.** Analyzing these patterns can help identify product categories with potential for growth and inform marketing strategies to increase both reviews and revenue._"
      ]
    },
    {
      "cell_type": "markdown",
      "metadata": {
        "id": "J7_O3RpfWYqp"
      },
      "source": [
        "#####  4. What are the top-selling product categories, and how can we optimize our product offerings?\n",
        "\n",
        "_Based on the chart, **\"cama_mesa_banho\" (Beds, tables, and bathroom) is the top-selling product category.** To optimize product offerings, **focus on increasing inventory and variety for high-performing categories, analyze and improve underperforming ones, leverage data insights, and enhance customer experience.**_"
      ]
    }
  ],
  "metadata": {
    "colab": {
      "provenance": []
    },
    "kernelspec": {
      "display_name": "Python 3",
      "language": "python",
      "name": "python3"
    },
    "language_info": {
      "codemirror_mode": {
        "name": "ipython",
        "version": 3
      },
      "file_extension": ".py",
      "mimetype": "text/x-python",
      "name": "python",
      "nbconvert_exporter": "python",
      "pygments_lexer": "ipython3",
      "version": "3.12.3"
    }
  },
  "nbformat": 4,
  "nbformat_minor": 0
}
